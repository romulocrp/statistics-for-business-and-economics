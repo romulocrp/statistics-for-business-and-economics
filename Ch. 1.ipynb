{
 "cells": [
  {
   "cell_type": "markdown",
   "metadata": {},
   "source": [
    "# Book: Statistics for Business and Economics Anderson, Sweeney & Wiliams Ed. 2º"
   ]
  },
  {
   "cell_type": "markdown",
   "metadata": {},
   "source": [
    "## Chapter 1 Exercise list"
   ]
  },
  {
   "cell_type": "code",
   "execution_count": 1,
   "metadata": {
    "ExecuteTime": {
     "end_time": "2021-04-20T17:35:29.515908Z",
     "start_time": "2021-04-20T17:35:29.512321Z"
    },
    "code_folding": []
   },
   "outputs": [],
   "source": [
    "# 1.\n",
    "\"\"\" The diference between statistical numbers and statistics is that only numbers are a part of what statistics \n",
    "do, numbers help to give perspective about a situation, and the whole field not only give persective but ways to\n",
    "get insight and meaningful information from data.\"\"\""
   ]
  },
  {
   "cell_type": "code",
   "execution_count": 17,
   "metadata": {
    "ExecuteTime": {
     "end_time": "2021-05-18T19:14:50.989018Z",
     "start_time": "2021-05-18T19:14:50.974030Z"
    },
    "code_folding": [
     0
    ]
   },
   "outputs": [
    {
     "name": "stdout",
     "output_type": "stream",
     "text": [
      "                  Cars     Size  Cylinders  City_MPG  Highway_MPG     Fuel\n",
      "0              Audi A8    Large         12        13           19  Premium\n",
      "1            BMW 328Xi  Compact          6        17           25  Premium\n",
      "2         Cadillac CTS  Midsize          6        16           25  Regular\n",
      "3         Chrysler 300    Large          8        13           18  Premium\n",
      "4           Ford Focus  Compact          4        24           33  Regular\n",
      "5      Hyunday Elantra  Midsize          4        25           33  Regular\n",
      "6  Jeep Grand Cherokee  Midsize          6        17           26   Diesel\n",
      "7           Pontiac G6  Compact          6        15           22  Regular\n",
      "8         Toyota Camry   Misize          4        21           31  Regular\n",
      "9     Volkswagen Jetta  Compact          5        21           29  Regular\n",
      "\n",
      "Number of elements is:  10\n",
      "\n",
      "Number of variables is:  6\n",
      "\n",
      "The kinds of variables are:\n",
      " Cars           object\n",
      "Size           object\n",
      "Cylinders       int64\n",
      "City_MPG        int64\n",
      "Highway_MPG     int64\n",
      "Fuel           object\n",
      "dtype: object\n",
      "\n",
      "Cars: Nominal scale\n",
      "Size: Ordinal scale\n",
      "Cylinder: Ordinal scale\n",
      "City MPG: Interval scale\n",
      "Highway MPG: Interval scale\n",
      "Fuel: Ordinal scale\n"
     ]
    }
   ],
   "source": [
    "# 2.\n",
    "# Reproducing the table in here and creating a dataframe from a dict\n",
    "import pandas as pd\n",
    "import numpy as np\n",
    "data = {\"Cars\":['Audi A8', 'BMW 328Xi', 'Cadillac CTS', 'Chrysler 300', 'Ford Focus', 'Hyunday Elantra', \n",
    "                'Jeep Grand Cherokee', 'Pontiac G6', 'Toyota Camry', 'Volkswagen Jetta'], \n",
    "        \"Size\":['Large', 'Compact', 'Midsize', 'Large', 'Compact', 'Midsize', 'Midsize', 'Compact', 'Misize', \n",
    "               'Compact'], \n",
    "       \"Cylinders\":[12, 6, 6, 8, 4, 4, 6, 6, 4, 5],\n",
    "       \"City_MPG\":[13, 17, 16, 13, 24, 25, 17, 15, 21, 21],\n",
    "       \"Highway_MPG\":[19, 25, 25, 18, 33, 33, 26, 22, 31, 29],\n",
    "       \"Fuel\":['Premium', 'Premium', 'Regular', 'Premium', 'Regular', 'Regular', 'Diesel', 'Regular', 'Regular', \n",
    "               'Regular']}\n",
    "df_data = pd.DataFrame(data)\n",
    "print(df_data)\n",
    "# A) Elements = number of rows\n",
    "print('\\nNumber of elements is: ', len(df_data))\n",
    "# B) Variables = number of columns\n",
    "print('\\nNumber of variables is: ', len(df_data.columns))\n",
    "# C) Type of variables are printed from dtypes\n",
    "print('\\nThe kinds of variables are:\\n', df_data.dtypes)\n",
    "#D) Printing the type of scale each variable has, fo fast check go to page 20\n",
    "print('\\nCars: Nominal scale\\nSize: Ordinal scale\\nCylinder: Ordinal scale\\nCity MPG: Interval scale\\nHighway MPG: Interval scale\\nFuel: Ordinal scale')"
   ]
  },
  {
   "cell_type": "code",
   "execution_count": 18,
   "metadata": {
    "ExecuteTime": {
     "end_time": "2021-05-18T19:14:54.736887Z",
     "start_time": "2021-05-18T19:14:54.724245Z"
    },
    "code_folding": [
     0
    ]
   },
   "outputs": [
    {
     "name": "stdout",
     "output_type": "stream",
     "text": [
      "The city MPG avearage is:  18.2\n",
      "The average diference is:  7.900000000000002\n",
      "The percentage of 4 cylinder cars is:  30.0\n",
      "The number of cars that use regular fuel is:  6\n"
     ]
    }
   ],
   "source": [
    "# 3.\n",
    "# A)\n",
    "print('The city MPG avearage is: ', df_data['City_MPG'].mean())\n",
    "# B)\n",
    "print('The average diference is: ', df_data['Highway_MPG'].mean()-df_data['City_MPG'].mean())\n",
    "# C)\n",
    "fcylinder_perc = ((df_data['Cylinders'] == 4)/len(df_data))*100\n",
    "print('The percentage of 4 cylinder cars is: ', fcylinder_perc.sum())\n",
    "# D)\n",
    "regular_fuel = (df_data['Fuel'] == 'Regular')\n",
    "print('The number of cars that use regular fuel is: ', regular_fuel.sum())"
   ]
  },
  {
   "cell_type": "code",
   "execution_count": 12,
   "metadata": {
    "ExecuteTime": {
     "end_time": "2021-05-18T19:08:48.003863Z",
     "start_time": "2021-05-18T19:08:47.976184Z"
    },
    "code_folding": [
     0
    ]
   },
   "outputs": [
    {
     "name": "stdout",
     "output_type": "stream",
     "text": [
      "                       School           State Campus_Setting  \\\n",
      "0             Amherst College   Massachusetts   Town: Fringe   \n",
      "1                        Duke  North Carolina  City: Midsize   \n",
      "2          Harvard University   Massachusetts  City: Midsize   \n",
      "3          Swarthmore College    Pennsylvania  Suburb: Large   \n",
      "4  University of Pennsylvania    Pennsylvania    City: Large   \n",
      "5            Williams College   Massachusetts   Town: Fringe   \n",
      "6             Yale University      Conecticut  City: Midsize   \n",
      "\n",
      "   Endowment($ billions)  Perc_Applicants_Admitted NCAA_Division  \n",
      "0                    1.7                        18           III  \n",
      "1                    5.9                        21           I-A  \n",
      "2                   34.6                         9          I-AA  \n",
      "3                    1.4                        18           III  \n",
      "4                    6.6                        18          I-AA  \n",
      "5                    1.9                        18           III  \n",
      "6                   22.5                         9          I-AA  \n",
      "\n",
      "Number of elements is:  7\n",
      "\n",
      "Number of variables is:  6\n",
      "\n",
      "The kinds of variables are:\n",
      " School                       object\n",
      "State                        object\n",
      "Campus_Setting               object\n",
      "Endowment($ billions)       float64\n",
      "Perc_Applicants_Admitted      int64\n",
      "NCAA_Division                object\n",
      "dtype: object\n"
     ]
    }
   ],
   "source": [
    "# 4.\n",
    "sdata = {\"School\":['Amherst College', 'Duke', 'Harvard University', 'Swarthmore College', 'University of Pennsylvania', \n",
    "                  'Williams College', 'Yale University'], \n",
    "        \"State\": ['Massachusetts', 'North Carolina', 'Massachusetts', 'Pennsylvania', 'Pennsylvania', \n",
    "                 'Massachusetts', 'Conecticut'], \n",
    "        \"Campus_Setting\":['Town: Fringe', 'City: Midsize', 'City: Midsize', 'Suburb: Large', 'City: Large', \n",
    "                         'Town: Fringe', 'City: Midsize'], \n",
    "        \"Endowment($ billions)\":[1.7, 5.9, 34.6, 1.4, 6.6, 1.9, 22.5], \n",
    "        \"Perc_Applicants_Admitted\":[18, 21, 9, 18, 18, 18, 9], \n",
    "        \"NCAA_Division\":['III', 'I-A', 'I-AA', 'III', 'I-AA', 'III', 'I-AA']}\n",
    "df_sdata = pd.DataFrame(sdata)\n",
    "print(df_sdata)\n",
    "# A)\n",
    "print('\\nNumber of elements is: ', len(df_sdata))\n",
    "# B)\n",
    "print('\\nNumber of variables is: ', len(df_sdata.columns))\n",
    "# C)\n",
    "print('\\nThe kinds of variables are:\\n', df_sdata.dtypes)"
   ]
  },
  {
   "cell_type": "code",
   "execution_count": 13,
   "metadata": {
    "ExecuteTime": {
     "end_time": "2021-05-18T19:08:50.937996Z",
     "start_time": "2021-05-18T19:08:50.926094Z"
    },
    "code_folding": [
     0
    ]
   },
   "outputs": [
    {
     "name": "stdout",
     "output_type": "stream",
     "text": [
      "The avereage endowment is:  10.657142857142857\n",
      "\n",
      "The avereage of the percentage of applicants admitted is:  15.857142857142858\n",
      "\n",
      "The percentage of NCAA Division III teams is:  42.857142857142854\n",
      "\n",
      "The percentage of City: Midsize Campus is:  42.857142857142854\n"
     ]
    }
   ],
   "source": [
    "# 5.\n",
    "#A)\n",
    "print('The avereage endowment is: ', df_sdata['Endowment($ billions)'].mean())\n",
    "# B)\n",
    "print('\\nThe avereage of the percentage of applicants admitted is: ', df_sdata['Perc_Applicants_Admitted'].mean())\n",
    "# C)\n",
    "ncaa_perc = ((df_sdata['NCAA_Division'] == 'III')/len(df_sdata))*100\n",
    "print('\\nThe percentage of NCAA Division III teams is: ', ncaa_perc.sum())\n",
    "# D)\n",
    "campus_setting_perc = ((df_sdata['Campus_Setting'] == 'City: Midsize')/len(df_sdata))*100\n",
    "print('\\nThe percentage of City: Midsize Campus is: ', campus_setting_perc.sum())"
   ]
  },
  {
   "cell_type": "code",
   "execution_count": null,
   "metadata": {
    "code_folding": [
     0
    ]
   },
   "outputs": [],
   "source": [
    "# 6.\n",
    "# A)\n",
    "\"\"\"Quantitative data\"\"\"\n",
    "# B)\n",
    "\"\"\"Categorical data\"\"\"\n",
    "# C)\n",
    "\"\"\"Categorical data\"\"\"\n",
    "# D)\n",
    "\"\"\"Quantitative data\"\"\"\n",
    "# E)\n",
    "\"\"\"Categorical data\"\"\""
   ]
  },
  {
   "cell_type": "code",
   "execution_count": null,
   "metadata": {
    "code_folding": [
     0
    ]
   },
   "outputs": [],
   "source": [
    "# 7.\n",
    "# A)\n",
    "\"\"\"The variables are quantitative data.\"\"\"\n",
    "# B)\n",
    "\"\"\"Despite the quantitative nature of the data, these are still from a ordinal scale.\"\"\""
   ]
  },
  {
   "cell_type": "code",
   "execution_count": null,
   "metadata": {
    "code_folding": [
     0
    ]
   },
   "outputs": [],
   "source": [
    "# 8.\n",
    "# A)\n",
    "\"\"\"Sample size is of 1015.\"\"\"\n",
    "# B)\n",
    "\"\"\"Categorical data.\"\"\"\n",
    "# C)\n",
    "\"\"\"Percentages, because you want to now how many people like or not something.\"\"\"\n",
    "# D)\n",
    "\"\"\"0.1*1015=101 people answered good job.\"\"\""
   ]
  },
  {
   "cell_type": "code",
   "execution_count": null,
   "metadata": {
    "code_folding": [
     0
    ]
   },
   "outputs": [],
   "source": [
    "# 9.\n",
    "# A)\n",
    "\"\"\"Categorical data\"\"\"\n",
    "# B)\n",
    "\"\"\"(30/71)*100=43% of the applications.\"\"\""
   ]
  },
  {
   "cell_type": "code",
   "execution_count": null,
   "metadata": {
    "code_folding": [
     0
    ]
   },
   "outputs": [],
   "source": [
    "# 10.\n",
    "# A)\n",
    "\"\"\"Quantitative/Ordinal\"\"\"\n",
    "# B)\n",
    "\"\"\"Categorical/Ordinal\"\"\"\n",
    "# C)\n",
    "\"\"\"Categorical/Ordinal\"\"\"\n",
    "# D)\n",
    "\"\"\"Quantitative/Interval\"\"\"\n",
    "# E)\n",
    "\"\"\"Categorical/Ordinal\"\"\""
   ]
  },
  {
   "cell_type": "code",
   "execution_count": null,
   "metadata": {
    "code_folding": [
     0
    ]
   },
   "outputs": [],
   "source": [
    "# 11.\n",
    "# A)\n",
    "\"\"\"Quantitative/Interval\"\"\"\n",
    "# B)\n",
    "\"\"\"Categorical/Ordinal\"\"\"\n",
    "# C)\n",
    "\"\"\"Categorical/Nominal\"\"\"\n",
    "# D)\n",
    "\"\"\"Quantitative/Interval\"\"\"\n",
    "# E)\n",
    "\"\"\"Categorical/Ordinal\"\"\""
   ]
  },
  {
   "cell_type": "code",
   "execution_count": null,
   "metadata": {
    "code_folding": [
     0
    ]
   },
   "outputs": [],
   "source": [
    "# 12.\n",
    "# A)\n",
    "\"\"\"The population is any non-resident person on Hawaii.\"\"\"\n",
    "# B)\n",
    "\"\"\"Yes, bacause they are more likely to answer and to give the desired information.\"\"\"\n",
    "# C)\n",
    "\"\"\"Quantitative/Categorical/Categorical/Quantitative\"\"\""
   ]
  },
  {
   "cell_type": "code",
   "execution_count": null,
   "metadata": {
    "code_folding": [
     0
    ]
   },
   "outputs": [],
   "source": [
    "# 13.\n",
    "# A)\n",
    "\"\"\"Federal spending(trillions)\"\"\"\n",
    "# B)\n",
    "\"\"\"Quantitative\"\"\"\n",
    "# C)\n",
    "\"\"\"Data time\"\"\"\n",
    "# D)\n",
    "\"\"\"The trend tend to increase\"\"\""
   ]
  },
  {
   "cell_type": "code",
   "execution_count": 14,
   "metadata": {
    "ExecuteTime": {
     "end_time": "2021-05-18T19:08:55.743768Z",
     "start_time": "2021-05-18T19:08:55.435510Z"
    },
    "code_folding": [],
    "scrolled": true
   },
   "outputs": [
    {
     "name": "stdout",
     "output_type": "stream",
     "text": [
      "      Manufacturer  2004  2005  2006  2007\n",
      "0   General Motors   8.9   9.0   8.9   8.8\n",
      "1             Ford   7.8   7.7   7.8   7.9\n",
      "2  DaimlerChrysler   4.1   4.2   4.3   4.6\n",
      "3           Toyota   7.8   8.3   9.1   9.6\n",
      "\n",
      " Manufacturer index  General Motors  Ford  DaimlerChrysler  Toyota\n",
      "0             2004             8.9   7.8              4.1     7.8\n",
      "1             2005             9.0   7.7              4.2     8.3\n",
      "2             2006             8.9   7.8              4.3     9.1\n",
      "3             2007             8.8   7.9              4.6     9.6\n"
     ]
    },
    {
     "data": {
      "application/vnd.plotly.v1+json": {
       "config": {
        "plotlyServerURL": "https://plot.ly"
       },
       "data": [
        {
         "hovertemplate": "variable=General Motors<br>x=%{x}<br>value=%{y}<extra></extra>",
         "legendgroup": "General Motors",
         "line": {
          "color": "#636efa",
          "dash": "solid"
         },
         "mode": "lines",
         "name": "General Motors",
         "orientation": "v",
         "showlegend": true,
         "type": "scatter",
         "x": [
          "2004",
          "2005",
          "2006",
          "2007"
         ],
         "xaxis": "x",
         "y": [
          8.9,
          9,
          8.9,
          8.8
         ],
         "yaxis": "y"
        },
        {
         "hovertemplate": "variable=Ford<br>x=%{x}<br>value=%{y}<extra></extra>",
         "legendgroup": "Ford",
         "line": {
          "color": "#EF553B",
          "dash": "solid"
         },
         "mode": "lines",
         "name": "Ford",
         "orientation": "v",
         "showlegend": true,
         "type": "scatter",
         "x": [
          "2004",
          "2005",
          "2006",
          "2007"
         ],
         "xaxis": "x",
         "y": [
          7.8,
          7.7,
          7.8,
          7.9
         ],
         "yaxis": "y"
        },
        {
         "hovertemplate": "variable=DaimlerChrysler<br>x=%{x}<br>value=%{y}<extra></extra>",
         "legendgroup": "DaimlerChrysler",
         "line": {
          "color": "#00cc96",
          "dash": "solid"
         },
         "mode": "lines",
         "name": "DaimlerChrysler",
         "orientation": "v",
         "showlegend": true,
         "type": "scatter",
         "x": [
          "2004",
          "2005",
          "2006",
          "2007"
         ],
         "xaxis": "x",
         "y": [
          4.1,
          4.2,
          4.3,
          4.6
         ],
         "yaxis": "y"
        },
        {
         "hovertemplate": "variable=Toyota<br>x=%{x}<br>value=%{y}<extra></extra>",
         "legendgroup": "Toyota",
         "line": {
          "color": "#ab63fa",
          "dash": "solid"
         },
         "mode": "lines",
         "name": "Toyota",
         "orientation": "v",
         "showlegend": true,
         "type": "scatter",
         "x": [
          "2004",
          "2005",
          "2006",
          "2007"
         ],
         "xaxis": "x",
         "y": [
          7.8,
          8.3,
          9.1,
          9.6
         ],
         "yaxis": "y"
        },
        {
         "hovertemplate": "variable=General Motors<br>x=%{x}<br>value=%{y}<br>size=%{marker.size}<extra></extra>",
         "legendgroup": "General Motors",
         "marker": {
          "color": "#636efa",
          "opacity": 1,
          "size": [
           5,
           5,
           5,
           5
          ],
          "sizemode": "area",
          "sizeref": 0.0125,
          "symbol": "circle"
         },
         "mode": "markers",
         "name": "General Motors",
         "orientation": "v",
         "showlegend": true,
         "type": "scatter",
         "x": [
          "2004",
          "2005",
          "2006",
          "2007"
         ],
         "xaxis": "x",
         "y": [
          8.9,
          9,
          8.9,
          8.8
         ],
         "yaxis": "y"
        },
        {
         "hovertemplate": "variable=Ford<br>x=%{x}<br>value=%{y}<br>size=%{marker.size}<extra></extra>",
         "legendgroup": "Ford",
         "marker": {
          "color": "#EF553B",
          "opacity": 1,
          "size": [
           5,
           5,
           5,
           5
          ],
          "sizemode": "area",
          "sizeref": 0.0125,
          "symbol": "circle"
         },
         "mode": "markers",
         "name": "Ford",
         "orientation": "v",
         "showlegend": true,
         "type": "scatter",
         "x": [
          "2004",
          "2005",
          "2006",
          "2007"
         ],
         "xaxis": "x",
         "y": [
          7.8,
          7.7,
          7.8,
          7.9
         ],
         "yaxis": "y"
        },
        {
         "hovertemplate": "variable=DaimlerChrysler<br>x=%{x}<br>value=%{y}<br>size=%{marker.size}<extra></extra>",
         "legendgroup": "DaimlerChrysler",
         "marker": {
          "color": "#00cc96",
          "opacity": 1,
          "size": [
           5,
           5,
           5,
           5
          ],
          "sizemode": "area",
          "sizeref": 0.0125,
          "symbol": "circle"
         },
         "mode": "markers",
         "name": "DaimlerChrysler",
         "orientation": "v",
         "showlegend": true,
         "type": "scatter",
         "x": [
          "2004",
          "2005",
          "2006",
          "2007"
         ],
         "xaxis": "x",
         "y": [
          4.1,
          4.2,
          4.3,
          4.6
         ],
         "yaxis": "y"
        },
        {
         "hovertemplate": "variable=Toyota<br>x=%{x}<br>value=%{y}<br>size=%{marker.size}<extra></extra>",
         "legendgroup": "Toyota",
         "marker": {
          "color": "#ab63fa",
          "opacity": 1,
          "size": [
           5,
           5,
           5,
           5
          ],
          "sizemode": "area",
          "sizeref": 0.0125,
          "symbol": "circle"
         },
         "mode": "markers",
         "name": "Toyota",
         "orientation": "v",
         "showlegend": true,
         "type": "scatter",
         "x": [
          "2004",
          "2005",
          "2006",
          "2007"
         ],
         "xaxis": "x",
         "y": [
          7.8,
          8.3,
          9.1,
          9.6
         ],
         "yaxis": "y"
        }
       ],
       "layout": {
        "legend": {
         "title": {
          "text": "Automotive Brands"
         }
        },
        "template": {
         "data": {
          "bar": [
           {
            "error_x": {
             "color": "#2a3f5f"
            },
            "error_y": {
             "color": "#2a3f5f"
            },
            "marker": {
             "line": {
              "color": "#E5ECF6",
              "width": 0.5
             }
            },
            "type": "bar"
           }
          ],
          "barpolar": [
           {
            "marker": {
             "line": {
              "color": "#E5ECF6",
              "width": 0.5
             }
            },
            "type": "barpolar"
           }
          ],
          "carpet": [
           {
            "aaxis": {
             "endlinecolor": "#2a3f5f",
             "gridcolor": "white",
             "linecolor": "white",
             "minorgridcolor": "white",
             "startlinecolor": "#2a3f5f"
            },
            "baxis": {
             "endlinecolor": "#2a3f5f",
             "gridcolor": "white",
             "linecolor": "white",
             "minorgridcolor": "white",
             "startlinecolor": "#2a3f5f"
            },
            "type": "carpet"
           }
          ],
          "choropleth": [
           {
            "colorbar": {
             "outlinewidth": 0,
             "ticks": ""
            },
            "type": "choropleth"
           }
          ],
          "contour": [
           {
            "colorbar": {
             "outlinewidth": 0,
             "ticks": ""
            },
            "colorscale": [
             [
              0,
              "#0d0887"
             ],
             [
              0.1111111111111111,
              "#46039f"
             ],
             [
              0.2222222222222222,
              "#7201a8"
             ],
             [
              0.3333333333333333,
              "#9c179e"
             ],
             [
              0.4444444444444444,
              "#bd3786"
             ],
             [
              0.5555555555555556,
              "#d8576b"
             ],
             [
              0.6666666666666666,
              "#ed7953"
             ],
             [
              0.7777777777777778,
              "#fb9f3a"
             ],
             [
              0.8888888888888888,
              "#fdca26"
             ],
             [
              1,
              "#f0f921"
             ]
            ],
            "type": "contour"
           }
          ],
          "contourcarpet": [
           {
            "colorbar": {
             "outlinewidth": 0,
             "ticks": ""
            },
            "type": "contourcarpet"
           }
          ],
          "heatmap": [
           {
            "colorbar": {
             "outlinewidth": 0,
             "ticks": ""
            },
            "colorscale": [
             [
              0,
              "#0d0887"
             ],
             [
              0.1111111111111111,
              "#46039f"
             ],
             [
              0.2222222222222222,
              "#7201a8"
             ],
             [
              0.3333333333333333,
              "#9c179e"
             ],
             [
              0.4444444444444444,
              "#bd3786"
             ],
             [
              0.5555555555555556,
              "#d8576b"
             ],
             [
              0.6666666666666666,
              "#ed7953"
             ],
             [
              0.7777777777777778,
              "#fb9f3a"
             ],
             [
              0.8888888888888888,
              "#fdca26"
             ],
             [
              1,
              "#f0f921"
             ]
            ],
            "type": "heatmap"
           }
          ],
          "heatmapgl": [
           {
            "colorbar": {
             "outlinewidth": 0,
             "ticks": ""
            },
            "colorscale": [
             [
              0,
              "#0d0887"
             ],
             [
              0.1111111111111111,
              "#46039f"
             ],
             [
              0.2222222222222222,
              "#7201a8"
             ],
             [
              0.3333333333333333,
              "#9c179e"
             ],
             [
              0.4444444444444444,
              "#bd3786"
             ],
             [
              0.5555555555555556,
              "#d8576b"
             ],
             [
              0.6666666666666666,
              "#ed7953"
             ],
             [
              0.7777777777777778,
              "#fb9f3a"
             ],
             [
              0.8888888888888888,
              "#fdca26"
             ],
             [
              1,
              "#f0f921"
             ]
            ],
            "type": "heatmapgl"
           }
          ],
          "histogram": [
           {
            "marker": {
             "colorbar": {
              "outlinewidth": 0,
              "ticks": ""
             }
            },
            "type": "histogram"
           }
          ],
          "histogram2d": [
           {
            "colorbar": {
             "outlinewidth": 0,
             "ticks": ""
            },
            "colorscale": [
             [
              0,
              "#0d0887"
             ],
             [
              0.1111111111111111,
              "#46039f"
             ],
             [
              0.2222222222222222,
              "#7201a8"
             ],
             [
              0.3333333333333333,
              "#9c179e"
             ],
             [
              0.4444444444444444,
              "#bd3786"
             ],
             [
              0.5555555555555556,
              "#d8576b"
             ],
             [
              0.6666666666666666,
              "#ed7953"
             ],
             [
              0.7777777777777778,
              "#fb9f3a"
             ],
             [
              0.8888888888888888,
              "#fdca26"
             ],
             [
              1,
              "#f0f921"
             ]
            ],
            "type": "histogram2d"
           }
          ],
          "histogram2dcontour": [
           {
            "colorbar": {
             "outlinewidth": 0,
             "ticks": ""
            },
            "colorscale": [
             [
              0,
              "#0d0887"
             ],
             [
              0.1111111111111111,
              "#46039f"
             ],
             [
              0.2222222222222222,
              "#7201a8"
             ],
             [
              0.3333333333333333,
              "#9c179e"
             ],
             [
              0.4444444444444444,
              "#bd3786"
             ],
             [
              0.5555555555555556,
              "#d8576b"
             ],
             [
              0.6666666666666666,
              "#ed7953"
             ],
             [
              0.7777777777777778,
              "#fb9f3a"
             ],
             [
              0.8888888888888888,
              "#fdca26"
             ],
             [
              1,
              "#f0f921"
             ]
            ],
            "type": "histogram2dcontour"
           }
          ],
          "mesh3d": [
           {
            "colorbar": {
             "outlinewidth": 0,
             "ticks": ""
            },
            "type": "mesh3d"
           }
          ],
          "parcoords": [
           {
            "line": {
             "colorbar": {
              "outlinewidth": 0,
              "ticks": ""
             }
            },
            "type": "parcoords"
           }
          ],
          "pie": [
           {
            "automargin": true,
            "type": "pie"
           }
          ],
          "scatter": [
           {
            "marker": {
             "colorbar": {
              "outlinewidth": 0,
              "ticks": ""
             }
            },
            "type": "scatter"
           }
          ],
          "scatter3d": [
           {
            "line": {
             "colorbar": {
              "outlinewidth": 0,
              "ticks": ""
             }
            },
            "marker": {
             "colorbar": {
              "outlinewidth": 0,
              "ticks": ""
             }
            },
            "type": "scatter3d"
           }
          ],
          "scattercarpet": [
           {
            "marker": {
             "colorbar": {
              "outlinewidth": 0,
              "ticks": ""
             }
            },
            "type": "scattercarpet"
           }
          ],
          "scattergeo": [
           {
            "marker": {
             "colorbar": {
              "outlinewidth": 0,
              "ticks": ""
             }
            },
            "type": "scattergeo"
           }
          ],
          "scattergl": [
           {
            "marker": {
             "colorbar": {
              "outlinewidth": 0,
              "ticks": ""
             }
            },
            "type": "scattergl"
           }
          ],
          "scattermapbox": [
           {
            "marker": {
             "colorbar": {
              "outlinewidth": 0,
              "ticks": ""
             }
            },
            "type": "scattermapbox"
           }
          ],
          "scatterpolar": [
           {
            "marker": {
             "colorbar": {
              "outlinewidth": 0,
              "ticks": ""
             }
            },
            "type": "scatterpolar"
           }
          ],
          "scatterpolargl": [
           {
            "marker": {
             "colorbar": {
              "outlinewidth": 0,
              "ticks": ""
             }
            },
            "type": "scatterpolargl"
           }
          ],
          "scatterternary": [
           {
            "marker": {
             "colorbar": {
              "outlinewidth": 0,
              "ticks": ""
             }
            },
            "type": "scatterternary"
           }
          ],
          "surface": [
           {
            "colorbar": {
             "outlinewidth": 0,
             "ticks": ""
            },
            "colorscale": [
             [
              0,
              "#0d0887"
             ],
             [
              0.1111111111111111,
              "#46039f"
             ],
             [
              0.2222222222222222,
              "#7201a8"
             ],
             [
              0.3333333333333333,
              "#9c179e"
             ],
             [
              0.4444444444444444,
              "#bd3786"
             ],
             [
              0.5555555555555556,
              "#d8576b"
             ],
             [
              0.6666666666666666,
              "#ed7953"
             ],
             [
              0.7777777777777778,
              "#fb9f3a"
             ],
             [
              0.8888888888888888,
              "#fdca26"
             ],
             [
              1,
              "#f0f921"
             ]
            ],
            "type": "surface"
           }
          ],
          "table": [
           {
            "cells": {
             "fill": {
              "color": "#EBF0F8"
             },
             "line": {
              "color": "white"
             }
            },
            "header": {
             "fill": {
              "color": "#C8D4E3"
             },
             "line": {
              "color": "white"
             }
            },
            "type": "table"
           }
          ]
         },
         "layout": {
          "annotationdefaults": {
           "arrowcolor": "#2a3f5f",
           "arrowhead": 0,
           "arrowwidth": 1
          },
          "autotypenumbers": "strict",
          "coloraxis": {
           "colorbar": {
            "outlinewidth": 0,
            "ticks": ""
           }
          },
          "colorscale": {
           "diverging": [
            [
             0,
             "#8e0152"
            ],
            [
             0.1,
             "#c51b7d"
            ],
            [
             0.2,
             "#de77ae"
            ],
            [
             0.3,
             "#f1b6da"
            ],
            [
             0.4,
             "#fde0ef"
            ],
            [
             0.5,
             "#f7f7f7"
            ],
            [
             0.6,
             "#e6f5d0"
            ],
            [
             0.7,
             "#b8e186"
            ],
            [
             0.8,
             "#7fbc41"
            ],
            [
             0.9,
             "#4d9221"
            ],
            [
             1,
             "#276419"
            ]
           ],
           "sequential": [
            [
             0,
             "#0d0887"
            ],
            [
             0.1111111111111111,
             "#46039f"
            ],
            [
             0.2222222222222222,
             "#7201a8"
            ],
            [
             0.3333333333333333,
             "#9c179e"
            ],
            [
             0.4444444444444444,
             "#bd3786"
            ],
            [
             0.5555555555555556,
             "#d8576b"
            ],
            [
             0.6666666666666666,
             "#ed7953"
            ],
            [
             0.7777777777777778,
             "#fb9f3a"
            ],
            [
             0.8888888888888888,
             "#fdca26"
            ],
            [
             1,
             "#f0f921"
            ]
           ],
           "sequentialminus": [
            [
             0,
             "#0d0887"
            ],
            [
             0.1111111111111111,
             "#46039f"
            ],
            [
             0.2222222222222222,
             "#7201a8"
            ],
            [
             0.3333333333333333,
             "#9c179e"
            ],
            [
             0.4444444444444444,
             "#bd3786"
            ],
            [
             0.5555555555555556,
             "#d8576b"
            ],
            [
             0.6666666666666666,
             "#ed7953"
            ],
            [
             0.7777777777777778,
             "#fb9f3a"
            ],
            [
             0.8888888888888888,
             "#fdca26"
            ],
            [
             1,
             "#f0f921"
            ]
           ]
          },
          "colorway": [
           "#636efa",
           "#EF553B",
           "#00cc96",
           "#ab63fa",
           "#FFA15A",
           "#19d3f3",
           "#FF6692",
           "#B6E880",
           "#FF97FF",
           "#FECB52"
          ],
          "font": {
           "color": "#2a3f5f"
          },
          "geo": {
           "bgcolor": "white",
           "lakecolor": "white",
           "landcolor": "#E5ECF6",
           "showlakes": true,
           "showland": true,
           "subunitcolor": "white"
          },
          "hoverlabel": {
           "align": "left"
          },
          "hovermode": "closest",
          "mapbox": {
           "style": "light"
          },
          "paper_bgcolor": "white",
          "plot_bgcolor": "#E5ECF6",
          "polar": {
           "angularaxis": {
            "gridcolor": "white",
            "linecolor": "white",
            "ticks": ""
           },
           "bgcolor": "#E5ECF6",
           "radialaxis": {
            "gridcolor": "white",
            "linecolor": "white",
            "ticks": ""
           }
          },
          "scene": {
           "xaxis": {
            "backgroundcolor": "#E5ECF6",
            "gridcolor": "white",
            "gridwidth": 2,
            "linecolor": "white",
            "showbackground": true,
            "ticks": "",
            "zerolinecolor": "white"
           },
           "yaxis": {
            "backgroundcolor": "#E5ECF6",
            "gridcolor": "white",
            "gridwidth": 2,
            "linecolor": "white",
            "showbackground": true,
            "ticks": "",
            "zerolinecolor": "white"
           },
           "zaxis": {
            "backgroundcolor": "#E5ECF6",
            "gridcolor": "white",
            "gridwidth": 2,
            "linecolor": "white",
            "showbackground": true,
            "ticks": "",
            "zerolinecolor": "white"
           }
          },
          "shapedefaults": {
           "line": {
            "color": "#2a3f5f"
           }
          },
          "ternary": {
           "aaxis": {
            "gridcolor": "white",
            "linecolor": "white",
            "ticks": ""
           },
           "baxis": {
            "gridcolor": "white",
            "linecolor": "white",
            "ticks": ""
           },
           "bgcolor": "#E5ECF6",
           "caxis": {
            "gridcolor": "white",
            "linecolor": "white",
            "ticks": ""
           }
          },
          "title": {
           "x": 0.05
          },
          "xaxis": {
           "automargin": true,
           "gridcolor": "white",
           "linecolor": "white",
           "ticks": "",
           "title": {
            "standoff": 15
           },
           "zerolinecolor": "white",
           "zerolinewidth": 2
          },
          "yaxis": {
           "automargin": true,
           "gridcolor": "white",
           "linecolor": "white",
           "ticks": "",
           "title": {
            "standoff": 15
           },
           "zerolinecolor": "white",
           "zerolinewidth": 2
          }
         }
        },
        "title": {
         "text": "Global Auto Production"
        },
        "xaxis": {
         "title": {
          "text": "Year"
         }
        },
        "yaxis": {
         "title": {
          "text": "Car production (millions)"
         }
        }
       }
      },
      "text/html": [
       "<div>                            <div id=\"41ddd297-65c8-42d3-bbec-d2eae9fca86f\" class=\"plotly-graph-div\" style=\"height:525px; width:100%;\"></div>            <script type=\"text/javascript\">                require([\"plotly\"], function(Plotly) {                    window.PLOTLYENV=window.PLOTLYENV || {};                                    if (document.getElementById(\"41ddd297-65c8-42d3-bbec-d2eae9fca86f\")) {                    Plotly.newPlot(                        \"41ddd297-65c8-42d3-bbec-d2eae9fca86f\",                        [{\"hovertemplate\": \"variable=General Motors<br>x=%{x}<br>value=%{y}<extra></extra>\", \"legendgroup\": \"General Motors\", \"line\": {\"color\": \"#636efa\", \"dash\": \"solid\"}, \"mode\": \"lines\", \"name\": \"General Motors\", \"orientation\": \"v\", \"showlegend\": true, \"type\": \"scatter\", \"x\": [\"2004\", \"2005\", \"2006\", \"2007\"], \"xaxis\": \"x\", \"y\": [8.9, 9.0, 8.9, 8.8], \"yaxis\": \"y\"}, {\"hovertemplate\": \"variable=Ford<br>x=%{x}<br>value=%{y}<extra></extra>\", \"legendgroup\": \"Ford\", \"line\": {\"color\": \"#EF553B\", \"dash\": \"solid\"}, \"mode\": \"lines\", \"name\": \"Ford\", \"orientation\": \"v\", \"showlegend\": true, \"type\": \"scatter\", \"x\": [\"2004\", \"2005\", \"2006\", \"2007\"], \"xaxis\": \"x\", \"y\": [7.8, 7.7, 7.8, 7.9], \"yaxis\": \"y\"}, {\"hovertemplate\": \"variable=DaimlerChrysler<br>x=%{x}<br>value=%{y}<extra></extra>\", \"legendgroup\": \"DaimlerChrysler\", \"line\": {\"color\": \"#00cc96\", \"dash\": \"solid\"}, \"mode\": \"lines\", \"name\": \"DaimlerChrysler\", \"orientation\": \"v\", \"showlegend\": true, \"type\": \"scatter\", \"x\": [\"2004\", \"2005\", \"2006\", \"2007\"], \"xaxis\": \"x\", \"y\": [4.1, 4.2, 4.3, 4.6], \"yaxis\": \"y\"}, {\"hovertemplate\": \"variable=Toyota<br>x=%{x}<br>value=%{y}<extra></extra>\", \"legendgroup\": \"Toyota\", \"line\": {\"color\": \"#ab63fa\", \"dash\": \"solid\"}, \"mode\": \"lines\", \"name\": \"Toyota\", \"orientation\": \"v\", \"showlegend\": true, \"type\": \"scatter\", \"x\": [\"2004\", \"2005\", \"2006\", \"2007\"], \"xaxis\": \"x\", \"y\": [7.8, 8.3, 9.1, 9.6], \"yaxis\": \"y\"}, {\"hovertemplate\": \"variable=General Motors<br>x=%{x}<br>value=%{y}<br>size=%{marker.size}<extra></extra>\", \"legendgroup\": \"General Motors\", \"marker\": {\"color\": \"#636efa\", \"opacity\": 1, \"size\": [5, 5, 5, 5], \"sizemode\": \"area\", \"sizeref\": 0.0125, \"symbol\": \"circle\"}, \"mode\": \"markers\", \"name\": \"General Motors\", \"orientation\": \"v\", \"showlegend\": true, \"type\": \"scatter\", \"x\": [\"2004\", \"2005\", \"2006\", \"2007\"], \"xaxis\": \"x\", \"y\": [8.9, 9.0, 8.9, 8.8], \"yaxis\": \"y\"}, {\"hovertemplate\": \"variable=Ford<br>x=%{x}<br>value=%{y}<br>size=%{marker.size}<extra></extra>\", \"legendgroup\": \"Ford\", \"marker\": {\"color\": \"#EF553B\", \"opacity\": 1, \"size\": [5, 5, 5, 5], \"sizemode\": \"area\", \"sizeref\": 0.0125, \"symbol\": \"circle\"}, \"mode\": \"markers\", \"name\": \"Ford\", \"orientation\": \"v\", \"showlegend\": true, \"type\": \"scatter\", \"x\": [\"2004\", \"2005\", \"2006\", \"2007\"], \"xaxis\": \"x\", \"y\": [7.8, 7.7, 7.8, 7.9], \"yaxis\": \"y\"}, {\"hovertemplate\": \"variable=DaimlerChrysler<br>x=%{x}<br>value=%{y}<br>size=%{marker.size}<extra></extra>\", \"legendgroup\": \"DaimlerChrysler\", \"marker\": {\"color\": \"#00cc96\", \"opacity\": 1, \"size\": [5, 5, 5, 5], \"sizemode\": \"area\", \"sizeref\": 0.0125, \"symbol\": \"circle\"}, \"mode\": \"markers\", \"name\": \"DaimlerChrysler\", \"orientation\": \"v\", \"showlegend\": true, \"type\": \"scatter\", \"x\": [\"2004\", \"2005\", \"2006\", \"2007\"], \"xaxis\": \"x\", \"y\": [4.1, 4.2, 4.3, 4.6], \"yaxis\": \"y\"}, {\"hovertemplate\": \"variable=Toyota<br>x=%{x}<br>value=%{y}<br>size=%{marker.size}<extra></extra>\", \"legendgroup\": \"Toyota\", \"marker\": {\"color\": \"#ab63fa\", \"opacity\": 1, \"size\": [5, 5, 5, 5], \"sizemode\": \"area\", \"sizeref\": 0.0125, \"symbol\": \"circle\"}, \"mode\": \"markers\", \"name\": \"Toyota\", \"orientation\": \"v\", \"showlegend\": true, \"type\": \"scatter\", \"x\": [\"2004\", \"2005\", \"2006\", \"2007\"], \"xaxis\": \"x\", \"y\": [7.8, 8.3, 9.1, 9.6], \"yaxis\": \"y\"}],                        {\"legend\": {\"title\": {\"text\": \"Automotive Brands\"}}, \"template\": {\"data\": {\"bar\": [{\"error_x\": {\"color\": \"#2a3f5f\"}, \"error_y\": {\"color\": \"#2a3f5f\"}, \"marker\": {\"line\": {\"color\": \"#E5ECF6\", \"width\": 0.5}}, \"type\": \"bar\"}], \"barpolar\": [{\"marker\": {\"line\": {\"color\": \"#E5ECF6\", \"width\": 0.5}}, \"type\": \"barpolar\"}], \"carpet\": [{\"aaxis\": {\"endlinecolor\": \"#2a3f5f\", \"gridcolor\": \"white\", \"linecolor\": \"white\", \"minorgridcolor\": \"white\", \"startlinecolor\": \"#2a3f5f\"}, \"baxis\": {\"endlinecolor\": \"#2a3f5f\", \"gridcolor\": \"white\", \"linecolor\": \"white\", \"minorgridcolor\": \"white\", \"startlinecolor\": \"#2a3f5f\"}, \"type\": \"carpet\"}], \"choropleth\": [{\"colorbar\": {\"outlinewidth\": 0, \"ticks\": \"\"}, \"type\": \"choropleth\"}], \"contour\": [{\"colorbar\": {\"outlinewidth\": 0, \"ticks\": \"\"}, \"colorscale\": [[0.0, \"#0d0887\"], [0.1111111111111111, \"#46039f\"], [0.2222222222222222, \"#7201a8\"], [0.3333333333333333, \"#9c179e\"], [0.4444444444444444, \"#bd3786\"], [0.5555555555555556, \"#d8576b\"], [0.6666666666666666, \"#ed7953\"], [0.7777777777777778, \"#fb9f3a\"], [0.8888888888888888, \"#fdca26\"], [1.0, \"#f0f921\"]], \"type\": \"contour\"}], \"contourcarpet\": [{\"colorbar\": {\"outlinewidth\": 0, \"ticks\": \"\"}, \"type\": \"contourcarpet\"}], \"heatmap\": [{\"colorbar\": {\"outlinewidth\": 0, \"ticks\": \"\"}, \"colorscale\": [[0.0, \"#0d0887\"], [0.1111111111111111, \"#46039f\"], [0.2222222222222222, \"#7201a8\"], [0.3333333333333333, \"#9c179e\"], [0.4444444444444444, \"#bd3786\"], [0.5555555555555556, \"#d8576b\"], [0.6666666666666666, \"#ed7953\"], [0.7777777777777778, \"#fb9f3a\"], [0.8888888888888888, \"#fdca26\"], [1.0, \"#f0f921\"]], \"type\": \"heatmap\"}], \"heatmapgl\": [{\"colorbar\": {\"outlinewidth\": 0, \"ticks\": \"\"}, \"colorscale\": [[0.0, \"#0d0887\"], [0.1111111111111111, \"#46039f\"], [0.2222222222222222, \"#7201a8\"], [0.3333333333333333, \"#9c179e\"], [0.4444444444444444, \"#bd3786\"], [0.5555555555555556, \"#d8576b\"], [0.6666666666666666, \"#ed7953\"], [0.7777777777777778, \"#fb9f3a\"], [0.8888888888888888, \"#fdca26\"], [1.0, \"#f0f921\"]], \"type\": \"heatmapgl\"}], \"histogram\": [{\"marker\": {\"colorbar\": {\"outlinewidth\": 0, \"ticks\": \"\"}}, \"type\": \"histogram\"}], \"histogram2d\": [{\"colorbar\": {\"outlinewidth\": 0, \"ticks\": \"\"}, \"colorscale\": [[0.0, \"#0d0887\"], [0.1111111111111111, \"#46039f\"], [0.2222222222222222, \"#7201a8\"], [0.3333333333333333, \"#9c179e\"], [0.4444444444444444, \"#bd3786\"], [0.5555555555555556, \"#d8576b\"], [0.6666666666666666, \"#ed7953\"], [0.7777777777777778, \"#fb9f3a\"], [0.8888888888888888, \"#fdca26\"], [1.0, \"#f0f921\"]], \"type\": \"histogram2d\"}], \"histogram2dcontour\": [{\"colorbar\": {\"outlinewidth\": 0, \"ticks\": \"\"}, \"colorscale\": [[0.0, \"#0d0887\"], [0.1111111111111111, \"#46039f\"], [0.2222222222222222, \"#7201a8\"], [0.3333333333333333, \"#9c179e\"], [0.4444444444444444, \"#bd3786\"], [0.5555555555555556, \"#d8576b\"], [0.6666666666666666, \"#ed7953\"], [0.7777777777777778, \"#fb9f3a\"], [0.8888888888888888, \"#fdca26\"], [1.0, \"#f0f921\"]], \"type\": \"histogram2dcontour\"}], \"mesh3d\": [{\"colorbar\": {\"outlinewidth\": 0, \"ticks\": \"\"}, \"type\": \"mesh3d\"}], \"parcoords\": [{\"line\": {\"colorbar\": {\"outlinewidth\": 0, \"ticks\": \"\"}}, \"type\": \"parcoords\"}], \"pie\": [{\"automargin\": true, \"type\": \"pie\"}], \"scatter\": [{\"marker\": {\"colorbar\": {\"outlinewidth\": 0, \"ticks\": \"\"}}, \"type\": \"scatter\"}], \"scatter3d\": [{\"line\": {\"colorbar\": {\"outlinewidth\": 0, \"ticks\": \"\"}}, \"marker\": {\"colorbar\": {\"outlinewidth\": 0, \"ticks\": \"\"}}, \"type\": \"scatter3d\"}], \"scattercarpet\": [{\"marker\": {\"colorbar\": {\"outlinewidth\": 0, \"ticks\": \"\"}}, \"type\": \"scattercarpet\"}], \"scattergeo\": [{\"marker\": {\"colorbar\": {\"outlinewidth\": 0, \"ticks\": \"\"}}, \"type\": \"scattergeo\"}], \"scattergl\": [{\"marker\": {\"colorbar\": {\"outlinewidth\": 0, \"ticks\": \"\"}}, \"type\": \"scattergl\"}], \"scattermapbox\": [{\"marker\": {\"colorbar\": {\"outlinewidth\": 0, \"ticks\": \"\"}}, \"type\": \"scattermapbox\"}], \"scatterpolar\": [{\"marker\": {\"colorbar\": {\"outlinewidth\": 0, \"ticks\": \"\"}}, \"type\": \"scatterpolar\"}], \"scatterpolargl\": [{\"marker\": {\"colorbar\": {\"outlinewidth\": 0, \"ticks\": \"\"}}, \"type\": \"scatterpolargl\"}], \"scatterternary\": [{\"marker\": {\"colorbar\": {\"outlinewidth\": 0, \"ticks\": \"\"}}, \"type\": \"scatterternary\"}], \"surface\": [{\"colorbar\": {\"outlinewidth\": 0, \"ticks\": \"\"}, \"colorscale\": [[0.0, \"#0d0887\"], [0.1111111111111111, \"#46039f\"], [0.2222222222222222, \"#7201a8\"], [0.3333333333333333, \"#9c179e\"], [0.4444444444444444, \"#bd3786\"], [0.5555555555555556, \"#d8576b\"], [0.6666666666666666, \"#ed7953\"], [0.7777777777777778, \"#fb9f3a\"], [0.8888888888888888, \"#fdca26\"], [1.0, \"#f0f921\"]], \"type\": \"surface\"}], \"table\": [{\"cells\": {\"fill\": {\"color\": \"#EBF0F8\"}, \"line\": {\"color\": \"white\"}}, \"header\": {\"fill\": {\"color\": \"#C8D4E3\"}, \"line\": {\"color\": \"white\"}}, \"type\": \"table\"}]}, \"layout\": {\"annotationdefaults\": {\"arrowcolor\": \"#2a3f5f\", \"arrowhead\": 0, \"arrowwidth\": 1}, \"autotypenumbers\": \"strict\", \"coloraxis\": {\"colorbar\": {\"outlinewidth\": 0, \"ticks\": \"\"}}, \"colorscale\": {\"diverging\": [[0, \"#8e0152\"], [0.1, \"#c51b7d\"], [0.2, \"#de77ae\"], [0.3, \"#f1b6da\"], [0.4, \"#fde0ef\"], [0.5, \"#f7f7f7\"], [0.6, \"#e6f5d0\"], [0.7, \"#b8e186\"], [0.8, \"#7fbc41\"], [0.9, \"#4d9221\"], [1, \"#276419\"]], \"sequential\": [[0.0, \"#0d0887\"], [0.1111111111111111, \"#46039f\"], [0.2222222222222222, \"#7201a8\"], [0.3333333333333333, \"#9c179e\"], [0.4444444444444444, \"#bd3786\"], [0.5555555555555556, \"#d8576b\"], [0.6666666666666666, \"#ed7953\"], [0.7777777777777778, \"#fb9f3a\"], [0.8888888888888888, \"#fdca26\"], [1.0, \"#f0f921\"]], \"sequentialminus\": [[0.0, \"#0d0887\"], [0.1111111111111111, \"#46039f\"], [0.2222222222222222, \"#7201a8\"], [0.3333333333333333, \"#9c179e\"], [0.4444444444444444, \"#bd3786\"], [0.5555555555555556, \"#d8576b\"], [0.6666666666666666, \"#ed7953\"], [0.7777777777777778, \"#fb9f3a\"], [0.8888888888888888, \"#fdca26\"], [1.0, \"#f0f921\"]]}, \"colorway\": [\"#636efa\", \"#EF553B\", \"#00cc96\", \"#ab63fa\", \"#FFA15A\", \"#19d3f3\", \"#FF6692\", \"#B6E880\", \"#FF97FF\", \"#FECB52\"], \"font\": {\"color\": \"#2a3f5f\"}, \"geo\": {\"bgcolor\": \"white\", \"lakecolor\": \"white\", \"landcolor\": \"#E5ECF6\", \"showlakes\": true, \"showland\": true, \"subunitcolor\": \"white\"}, \"hoverlabel\": {\"align\": \"left\"}, \"hovermode\": \"closest\", \"mapbox\": {\"style\": \"light\"}, \"paper_bgcolor\": \"white\", \"plot_bgcolor\": \"#E5ECF6\", \"polar\": {\"angularaxis\": {\"gridcolor\": \"white\", \"linecolor\": \"white\", \"ticks\": \"\"}, \"bgcolor\": \"#E5ECF6\", \"radialaxis\": {\"gridcolor\": \"white\", \"linecolor\": \"white\", \"ticks\": \"\"}}, \"scene\": {\"xaxis\": {\"backgroundcolor\": \"#E5ECF6\", \"gridcolor\": \"white\", \"gridwidth\": 2, \"linecolor\": \"white\", \"showbackground\": true, \"ticks\": \"\", \"zerolinecolor\": \"white\"}, \"yaxis\": {\"backgroundcolor\": \"#E5ECF6\", \"gridcolor\": \"white\", \"gridwidth\": 2, \"linecolor\": \"white\", \"showbackground\": true, \"ticks\": \"\", \"zerolinecolor\": \"white\"}, \"zaxis\": {\"backgroundcolor\": \"#E5ECF6\", \"gridcolor\": \"white\", \"gridwidth\": 2, \"linecolor\": \"white\", \"showbackground\": true, \"ticks\": \"\", \"zerolinecolor\": \"white\"}}, \"shapedefaults\": {\"line\": {\"color\": \"#2a3f5f\"}}, \"ternary\": {\"aaxis\": {\"gridcolor\": \"white\", \"linecolor\": \"white\", \"ticks\": \"\"}, \"baxis\": {\"gridcolor\": \"white\", \"linecolor\": \"white\", \"ticks\": \"\"}, \"bgcolor\": \"#E5ECF6\", \"caxis\": {\"gridcolor\": \"white\", \"linecolor\": \"white\", \"ticks\": \"\"}}, \"title\": {\"x\": 0.05}, \"xaxis\": {\"automargin\": true, \"gridcolor\": \"white\", \"linecolor\": \"white\", \"ticks\": \"\", \"title\": {\"standoff\": 15}, \"zerolinecolor\": \"white\", \"zerolinewidth\": 2}, \"yaxis\": {\"automargin\": true, \"gridcolor\": \"white\", \"linecolor\": \"white\", \"ticks\": \"\", \"title\": {\"standoff\": 15}, \"zerolinecolor\": \"white\", \"zerolinewidth\": 2}}}, \"title\": {\"text\": \"Global Auto Production\"}, \"xaxis\": {\"title\": {\"text\": \"Year\"}}, \"yaxis\": {\"title\": {\"text\": \"Car production (millions)\"}}},                        {\"responsive\": true}                    ).then(function(){\n",
       "                            \n",
       "var gd = document.getElementById('41ddd297-65c8-42d3-bbec-d2eae9fca86f');\n",
       "var x = new MutationObserver(function (mutations, observer) {{\n",
       "        var display = window.getComputedStyle(gd).display;\n",
       "        if (!display || display === 'none') {{\n",
       "            console.log([gd, 'removed!']);\n",
       "            Plotly.purge(gd);\n",
       "            observer.disconnect();\n",
       "        }}\n",
       "}});\n",
       "\n",
       "// Listen for the removal of the full notebook cells\n",
       "var notebookContainer = gd.closest('#notebook-container');\n",
       "if (notebookContainer) {{\n",
       "    x.observe(notebookContainer, {childList: true});\n",
       "}}\n",
       "\n",
       "// Listen for the clearing of the current output cell\n",
       "var outputEl = gd.closest('.output');\n",
       "if (outputEl) {{\n",
       "    x.observe(outputEl, {childList: true});\n",
       "}}\n",
       "\n",
       "                        })                };                });            </script>        </div>"
      ]
     },
     "metadata": {},
     "output_type": "display_data"
    },
    {
     "name": "stdout",
     "output_type": "stream",
     "text": [
      "Manufacturer\n",
      "index               object\n",
      "General Motors     float64\n",
      "Ford               float64\n",
      "DaimlerChrysler    float64\n",
      "Toyota             float64\n",
      "dtype: object\n"
     ]
    },
    {
     "data": {
      "application/vnd.plotly.v1+json": {
       "config": {
        "plotlyServerURL": "https://plot.ly"
       },
       "data": [
        {
         "alignmentgroup": "True",
         "hovertemplate": "Automotive brands=%{x}<br>Car Production (millions)=%{y}<extra></extra>",
         "legendgroup": "General Motors",
         "marker": {
          "color": "#636efa"
         },
         "name": "General Motors",
         "offsetgroup": "General Motors",
         "orientation": "v",
         "showlegend": true,
         "textposition": "auto",
         "type": "bar",
         "x": [
          "General Motors"
         ],
         "xaxis": "x",
         "y": [
          8.8
         ],
         "yaxis": "y"
        },
        {
         "alignmentgroup": "True",
         "hovertemplate": "Automotive brands=%{x}<br>Car Production (millions)=%{y}<extra></extra>",
         "legendgroup": "Ford",
         "marker": {
          "color": "#EF553B"
         },
         "name": "Ford",
         "offsetgroup": "Ford",
         "orientation": "v",
         "showlegend": true,
         "textposition": "auto",
         "type": "bar",
         "x": [
          "Ford"
         ],
         "xaxis": "x",
         "y": [
          7.9
         ],
         "yaxis": "y"
        },
        {
         "alignmentgroup": "True",
         "hovertemplate": "Automotive brands=%{x}<br>Car Production (millions)=%{y}<extra></extra>",
         "legendgroup": "DaimlerChrysler",
         "marker": {
          "color": "#00cc96"
         },
         "name": "DaimlerChrysler",
         "offsetgroup": "DaimlerChrysler",
         "orientation": "v",
         "showlegend": true,
         "textposition": "auto",
         "type": "bar",
         "x": [
          "DaimlerChrysler"
         ],
         "xaxis": "x",
         "y": [
          4.6
         ],
         "yaxis": "y"
        },
        {
         "alignmentgroup": "True",
         "hovertemplate": "Automotive brands=%{x}<br>Car Production (millions)=%{y}<extra></extra>",
         "legendgroup": "Toyota",
         "marker": {
          "color": "#ab63fa"
         },
         "name": "Toyota",
         "offsetgroup": "Toyota",
         "orientation": "v",
         "showlegend": true,
         "textposition": "auto",
         "type": "bar",
         "x": [
          "Toyota"
         ],
         "xaxis": "x",
         "y": [
          9.6
         ],
         "yaxis": "y"
        }
       ],
       "layout": {
        "barmode": "group",
        "legend": {
         "title": {
          "text": "Automotive brands"
         },
         "tracegroupgap": 0
        },
        "template": {
         "data": {
          "bar": [
           {
            "error_x": {
             "color": "#2a3f5f"
            },
            "error_y": {
             "color": "#2a3f5f"
            },
            "marker": {
             "line": {
              "color": "#E5ECF6",
              "width": 0.5
             }
            },
            "type": "bar"
           }
          ],
          "barpolar": [
           {
            "marker": {
             "line": {
              "color": "#E5ECF6",
              "width": 0.5
             }
            },
            "type": "barpolar"
           }
          ],
          "carpet": [
           {
            "aaxis": {
             "endlinecolor": "#2a3f5f",
             "gridcolor": "white",
             "linecolor": "white",
             "minorgridcolor": "white",
             "startlinecolor": "#2a3f5f"
            },
            "baxis": {
             "endlinecolor": "#2a3f5f",
             "gridcolor": "white",
             "linecolor": "white",
             "minorgridcolor": "white",
             "startlinecolor": "#2a3f5f"
            },
            "type": "carpet"
           }
          ],
          "choropleth": [
           {
            "colorbar": {
             "outlinewidth": 0,
             "ticks": ""
            },
            "type": "choropleth"
           }
          ],
          "contour": [
           {
            "colorbar": {
             "outlinewidth": 0,
             "ticks": ""
            },
            "colorscale": [
             [
              0,
              "#0d0887"
             ],
             [
              0.1111111111111111,
              "#46039f"
             ],
             [
              0.2222222222222222,
              "#7201a8"
             ],
             [
              0.3333333333333333,
              "#9c179e"
             ],
             [
              0.4444444444444444,
              "#bd3786"
             ],
             [
              0.5555555555555556,
              "#d8576b"
             ],
             [
              0.6666666666666666,
              "#ed7953"
             ],
             [
              0.7777777777777778,
              "#fb9f3a"
             ],
             [
              0.8888888888888888,
              "#fdca26"
             ],
             [
              1,
              "#f0f921"
             ]
            ],
            "type": "contour"
           }
          ],
          "contourcarpet": [
           {
            "colorbar": {
             "outlinewidth": 0,
             "ticks": ""
            },
            "type": "contourcarpet"
           }
          ],
          "heatmap": [
           {
            "colorbar": {
             "outlinewidth": 0,
             "ticks": ""
            },
            "colorscale": [
             [
              0,
              "#0d0887"
             ],
             [
              0.1111111111111111,
              "#46039f"
             ],
             [
              0.2222222222222222,
              "#7201a8"
             ],
             [
              0.3333333333333333,
              "#9c179e"
             ],
             [
              0.4444444444444444,
              "#bd3786"
             ],
             [
              0.5555555555555556,
              "#d8576b"
             ],
             [
              0.6666666666666666,
              "#ed7953"
             ],
             [
              0.7777777777777778,
              "#fb9f3a"
             ],
             [
              0.8888888888888888,
              "#fdca26"
             ],
             [
              1,
              "#f0f921"
             ]
            ],
            "type": "heatmap"
           }
          ],
          "heatmapgl": [
           {
            "colorbar": {
             "outlinewidth": 0,
             "ticks": ""
            },
            "colorscale": [
             [
              0,
              "#0d0887"
             ],
             [
              0.1111111111111111,
              "#46039f"
             ],
             [
              0.2222222222222222,
              "#7201a8"
             ],
             [
              0.3333333333333333,
              "#9c179e"
             ],
             [
              0.4444444444444444,
              "#bd3786"
             ],
             [
              0.5555555555555556,
              "#d8576b"
             ],
             [
              0.6666666666666666,
              "#ed7953"
             ],
             [
              0.7777777777777778,
              "#fb9f3a"
             ],
             [
              0.8888888888888888,
              "#fdca26"
             ],
             [
              1,
              "#f0f921"
             ]
            ],
            "type": "heatmapgl"
           }
          ],
          "histogram": [
           {
            "marker": {
             "colorbar": {
              "outlinewidth": 0,
              "ticks": ""
             }
            },
            "type": "histogram"
           }
          ],
          "histogram2d": [
           {
            "colorbar": {
             "outlinewidth": 0,
             "ticks": ""
            },
            "colorscale": [
             [
              0,
              "#0d0887"
             ],
             [
              0.1111111111111111,
              "#46039f"
             ],
             [
              0.2222222222222222,
              "#7201a8"
             ],
             [
              0.3333333333333333,
              "#9c179e"
             ],
             [
              0.4444444444444444,
              "#bd3786"
             ],
             [
              0.5555555555555556,
              "#d8576b"
             ],
             [
              0.6666666666666666,
              "#ed7953"
             ],
             [
              0.7777777777777778,
              "#fb9f3a"
             ],
             [
              0.8888888888888888,
              "#fdca26"
             ],
             [
              1,
              "#f0f921"
             ]
            ],
            "type": "histogram2d"
           }
          ],
          "histogram2dcontour": [
           {
            "colorbar": {
             "outlinewidth": 0,
             "ticks": ""
            },
            "colorscale": [
             [
              0,
              "#0d0887"
             ],
             [
              0.1111111111111111,
              "#46039f"
             ],
             [
              0.2222222222222222,
              "#7201a8"
             ],
             [
              0.3333333333333333,
              "#9c179e"
             ],
             [
              0.4444444444444444,
              "#bd3786"
             ],
             [
              0.5555555555555556,
              "#d8576b"
             ],
             [
              0.6666666666666666,
              "#ed7953"
             ],
             [
              0.7777777777777778,
              "#fb9f3a"
             ],
             [
              0.8888888888888888,
              "#fdca26"
             ],
             [
              1,
              "#f0f921"
             ]
            ],
            "type": "histogram2dcontour"
           }
          ],
          "mesh3d": [
           {
            "colorbar": {
             "outlinewidth": 0,
             "ticks": ""
            },
            "type": "mesh3d"
           }
          ],
          "parcoords": [
           {
            "line": {
             "colorbar": {
              "outlinewidth": 0,
              "ticks": ""
             }
            },
            "type": "parcoords"
           }
          ],
          "pie": [
           {
            "automargin": true,
            "type": "pie"
           }
          ],
          "scatter": [
           {
            "marker": {
             "colorbar": {
              "outlinewidth": 0,
              "ticks": ""
             }
            },
            "type": "scatter"
           }
          ],
          "scatter3d": [
           {
            "line": {
             "colorbar": {
              "outlinewidth": 0,
              "ticks": ""
             }
            },
            "marker": {
             "colorbar": {
              "outlinewidth": 0,
              "ticks": ""
             }
            },
            "type": "scatter3d"
           }
          ],
          "scattercarpet": [
           {
            "marker": {
             "colorbar": {
              "outlinewidth": 0,
              "ticks": ""
             }
            },
            "type": "scattercarpet"
           }
          ],
          "scattergeo": [
           {
            "marker": {
             "colorbar": {
              "outlinewidth": 0,
              "ticks": ""
             }
            },
            "type": "scattergeo"
           }
          ],
          "scattergl": [
           {
            "marker": {
             "colorbar": {
              "outlinewidth": 0,
              "ticks": ""
             }
            },
            "type": "scattergl"
           }
          ],
          "scattermapbox": [
           {
            "marker": {
             "colorbar": {
              "outlinewidth": 0,
              "ticks": ""
             }
            },
            "type": "scattermapbox"
           }
          ],
          "scatterpolar": [
           {
            "marker": {
             "colorbar": {
              "outlinewidth": 0,
              "ticks": ""
             }
            },
            "type": "scatterpolar"
           }
          ],
          "scatterpolargl": [
           {
            "marker": {
             "colorbar": {
              "outlinewidth": 0,
              "ticks": ""
             }
            },
            "type": "scatterpolargl"
           }
          ],
          "scatterternary": [
           {
            "marker": {
             "colorbar": {
              "outlinewidth": 0,
              "ticks": ""
             }
            },
            "type": "scatterternary"
           }
          ],
          "surface": [
           {
            "colorbar": {
             "outlinewidth": 0,
             "ticks": ""
            },
            "colorscale": [
             [
              0,
              "#0d0887"
             ],
             [
              0.1111111111111111,
              "#46039f"
             ],
             [
              0.2222222222222222,
              "#7201a8"
             ],
             [
              0.3333333333333333,
              "#9c179e"
             ],
             [
              0.4444444444444444,
              "#bd3786"
             ],
             [
              0.5555555555555556,
              "#d8576b"
             ],
             [
              0.6666666666666666,
              "#ed7953"
             ],
             [
              0.7777777777777778,
              "#fb9f3a"
             ],
             [
              0.8888888888888888,
              "#fdca26"
             ],
             [
              1,
              "#f0f921"
             ]
            ],
            "type": "surface"
           }
          ],
          "table": [
           {
            "cells": {
             "fill": {
              "color": "#EBF0F8"
             },
             "line": {
              "color": "white"
             }
            },
            "header": {
             "fill": {
              "color": "#C8D4E3"
             },
             "line": {
              "color": "white"
             }
            },
            "type": "table"
           }
          ]
         },
         "layout": {
          "annotationdefaults": {
           "arrowcolor": "#2a3f5f",
           "arrowhead": 0,
           "arrowwidth": 1
          },
          "autotypenumbers": "strict",
          "coloraxis": {
           "colorbar": {
            "outlinewidth": 0,
            "ticks": ""
           }
          },
          "colorscale": {
           "diverging": [
            [
             0,
             "#8e0152"
            ],
            [
             0.1,
             "#c51b7d"
            ],
            [
             0.2,
             "#de77ae"
            ],
            [
             0.3,
             "#f1b6da"
            ],
            [
             0.4,
             "#fde0ef"
            ],
            [
             0.5,
             "#f7f7f7"
            ],
            [
             0.6,
             "#e6f5d0"
            ],
            [
             0.7,
             "#b8e186"
            ],
            [
             0.8,
             "#7fbc41"
            ],
            [
             0.9,
             "#4d9221"
            ],
            [
             1,
             "#276419"
            ]
           ],
           "sequential": [
            [
             0,
             "#0d0887"
            ],
            [
             0.1111111111111111,
             "#46039f"
            ],
            [
             0.2222222222222222,
             "#7201a8"
            ],
            [
             0.3333333333333333,
             "#9c179e"
            ],
            [
             0.4444444444444444,
             "#bd3786"
            ],
            [
             0.5555555555555556,
             "#d8576b"
            ],
            [
             0.6666666666666666,
             "#ed7953"
            ],
            [
             0.7777777777777778,
             "#fb9f3a"
            ],
            [
             0.8888888888888888,
             "#fdca26"
            ],
            [
             1,
             "#f0f921"
            ]
           ],
           "sequentialminus": [
            [
             0,
             "#0d0887"
            ],
            [
             0.1111111111111111,
             "#46039f"
            ],
            [
             0.2222222222222222,
             "#7201a8"
            ],
            [
             0.3333333333333333,
             "#9c179e"
            ],
            [
             0.4444444444444444,
             "#bd3786"
            ],
            [
             0.5555555555555556,
             "#d8576b"
            ],
            [
             0.6666666666666666,
             "#ed7953"
            ],
            [
             0.7777777777777778,
             "#fb9f3a"
            ],
            [
             0.8888888888888888,
             "#fdca26"
            ],
            [
             1,
             "#f0f921"
            ]
           ]
          },
          "colorway": [
           "#636efa",
           "#EF553B",
           "#00cc96",
           "#ab63fa",
           "#FFA15A",
           "#19d3f3",
           "#FF6692",
           "#B6E880",
           "#FF97FF",
           "#FECB52"
          ],
          "font": {
           "color": "#2a3f5f"
          },
          "geo": {
           "bgcolor": "white",
           "lakecolor": "white",
           "landcolor": "#E5ECF6",
           "showlakes": true,
           "showland": true,
           "subunitcolor": "white"
          },
          "hoverlabel": {
           "align": "left"
          },
          "hovermode": "closest",
          "mapbox": {
           "style": "light"
          },
          "paper_bgcolor": "white",
          "plot_bgcolor": "#E5ECF6",
          "polar": {
           "angularaxis": {
            "gridcolor": "white",
            "linecolor": "white",
            "ticks": ""
           },
           "bgcolor": "#E5ECF6",
           "radialaxis": {
            "gridcolor": "white",
            "linecolor": "white",
            "ticks": ""
           }
          },
          "scene": {
           "xaxis": {
            "backgroundcolor": "#E5ECF6",
            "gridcolor": "white",
            "gridwidth": 2,
            "linecolor": "white",
            "showbackground": true,
            "ticks": "",
            "zerolinecolor": "white"
           },
           "yaxis": {
            "backgroundcolor": "#E5ECF6",
            "gridcolor": "white",
            "gridwidth": 2,
            "linecolor": "white",
            "showbackground": true,
            "ticks": "",
            "zerolinecolor": "white"
           },
           "zaxis": {
            "backgroundcolor": "#E5ECF6",
            "gridcolor": "white",
            "gridwidth": 2,
            "linecolor": "white",
            "showbackground": true,
            "ticks": "",
            "zerolinecolor": "white"
           }
          },
          "shapedefaults": {
           "line": {
            "color": "#2a3f5f"
           }
          },
          "ternary": {
           "aaxis": {
            "gridcolor": "white",
            "linecolor": "white",
            "ticks": ""
           },
           "baxis": {
            "gridcolor": "white",
            "linecolor": "white",
            "ticks": ""
           },
           "bgcolor": "#E5ECF6",
           "caxis": {
            "gridcolor": "white",
            "linecolor": "white",
            "ticks": ""
           }
          },
          "title": {
           "x": 0.05
          },
          "xaxis": {
           "automargin": true,
           "gridcolor": "white",
           "linecolor": "white",
           "ticks": "",
           "title": {
            "standoff": 15
           },
           "zerolinecolor": "white",
           "zerolinewidth": 2
          },
          "yaxis": {
           "automargin": true,
           "gridcolor": "white",
           "linecolor": "white",
           "ticks": "",
           "title": {
            "standoff": 15
           },
           "zerolinecolor": "white",
           "zerolinewidth": 2
          }
         }
        },
        "title": {
         "text": "2007 Auto Production"
        },
        "xaxis": {
         "anchor": "y",
         "categoryarray": [
          "General Motors",
          "Ford",
          "DaimlerChrysler",
          "Toyota"
         ],
         "categoryorder": "array",
         "domain": [
          0,
          1
         ],
         "title": {
          "text": "Automotive brands"
         }
        },
        "yaxis": {
         "anchor": "x",
         "domain": [
          0,
          1
         ],
         "title": {
          "text": "Car Production (millions)"
         }
        }
       }
      },
      "text/html": [
       "<div>                            <div id=\"c700fba6-2681-411b-a1aa-030e23c1131a\" class=\"plotly-graph-div\" style=\"height:525px; width:100%;\"></div>            <script type=\"text/javascript\">                require([\"plotly\"], function(Plotly) {                    window.PLOTLYENV=window.PLOTLYENV || {};                                    if (document.getElementById(\"c700fba6-2681-411b-a1aa-030e23c1131a\")) {                    Plotly.newPlot(                        \"c700fba6-2681-411b-a1aa-030e23c1131a\",                        [{\"alignmentgroup\": \"True\", \"hovertemplate\": \"Automotive brands=%{x}<br>Car Production (millions)=%{y}<extra></extra>\", \"legendgroup\": \"General Motors\", \"marker\": {\"color\": \"#636efa\"}, \"name\": \"General Motors\", \"offsetgroup\": \"General Motors\", \"orientation\": \"v\", \"showlegend\": true, \"textposition\": \"auto\", \"type\": \"bar\", \"x\": [\"General Motors\"], \"xaxis\": \"x\", \"y\": [8.8], \"yaxis\": \"y\"}, {\"alignmentgroup\": \"True\", \"hovertemplate\": \"Automotive brands=%{x}<br>Car Production (millions)=%{y}<extra></extra>\", \"legendgroup\": \"Ford\", \"marker\": {\"color\": \"#EF553B\"}, \"name\": \"Ford\", \"offsetgroup\": \"Ford\", \"orientation\": \"v\", \"showlegend\": true, \"textposition\": \"auto\", \"type\": \"bar\", \"x\": [\"Ford\"], \"xaxis\": \"x\", \"y\": [7.9], \"yaxis\": \"y\"}, {\"alignmentgroup\": \"True\", \"hovertemplate\": \"Automotive brands=%{x}<br>Car Production (millions)=%{y}<extra></extra>\", \"legendgroup\": \"DaimlerChrysler\", \"marker\": {\"color\": \"#00cc96\"}, \"name\": \"DaimlerChrysler\", \"offsetgroup\": \"DaimlerChrysler\", \"orientation\": \"v\", \"showlegend\": true, \"textposition\": \"auto\", \"type\": \"bar\", \"x\": [\"DaimlerChrysler\"], \"xaxis\": \"x\", \"y\": [4.6], \"yaxis\": \"y\"}, {\"alignmentgroup\": \"True\", \"hovertemplate\": \"Automotive brands=%{x}<br>Car Production (millions)=%{y}<extra></extra>\", \"legendgroup\": \"Toyota\", \"marker\": {\"color\": \"#ab63fa\"}, \"name\": \"Toyota\", \"offsetgroup\": \"Toyota\", \"orientation\": \"v\", \"showlegend\": true, \"textposition\": \"auto\", \"type\": \"bar\", \"x\": [\"Toyota\"], \"xaxis\": \"x\", \"y\": [9.6], \"yaxis\": \"y\"}],                        {\"barmode\": \"group\", \"legend\": {\"title\": {\"text\": \"Automotive brands\"}, \"tracegroupgap\": 0}, \"template\": {\"data\": {\"bar\": [{\"error_x\": {\"color\": \"#2a3f5f\"}, \"error_y\": {\"color\": \"#2a3f5f\"}, \"marker\": {\"line\": {\"color\": \"#E5ECF6\", \"width\": 0.5}}, \"type\": \"bar\"}], \"barpolar\": [{\"marker\": {\"line\": {\"color\": \"#E5ECF6\", \"width\": 0.5}}, \"type\": \"barpolar\"}], \"carpet\": [{\"aaxis\": {\"endlinecolor\": \"#2a3f5f\", \"gridcolor\": \"white\", \"linecolor\": \"white\", \"minorgridcolor\": \"white\", \"startlinecolor\": \"#2a3f5f\"}, \"baxis\": {\"endlinecolor\": \"#2a3f5f\", \"gridcolor\": \"white\", \"linecolor\": \"white\", \"minorgridcolor\": \"white\", \"startlinecolor\": \"#2a3f5f\"}, \"type\": \"carpet\"}], \"choropleth\": [{\"colorbar\": {\"outlinewidth\": 0, \"ticks\": \"\"}, \"type\": \"choropleth\"}], \"contour\": [{\"colorbar\": {\"outlinewidth\": 0, \"ticks\": \"\"}, \"colorscale\": [[0.0, \"#0d0887\"], [0.1111111111111111, \"#46039f\"], [0.2222222222222222, \"#7201a8\"], [0.3333333333333333, \"#9c179e\"], [0.4444444444444444, \"#bd3786\"], [0.5555555555555556, \"#d8576b\"], [0.6666666666666666, \"#ed7953\"], [0.7777777777777778, \"#fb9f3a\"], [0.8888888888888888, \"#fdca26\"], [1.0, \"#f0f921\"]], \"type\": \"contour\"}], \"contourcarpet\": [{\"colorbar\": {\"outlinewidth\": 0, \"ticks\": \"\"}, \"type\": \"contourcarpet\"}], \"heatmap\": [{\"colorbar\": {\"outlinewidth\": 0, \"ticks\": \"\"}, \"colorscale\": [[0.0, \"#0d0887\"], [0.1111111111111111, \"#46039f\"], [0.2222222222222222, \"#7201a8\"], [0.3333333333333333, \"#9c179e\"], [0.4444444444444444, \"#bd3786\"], [0.5555555555555556, \"#d8576b\"], [0.6666666666666666, \"#ed7953\"], [0.7777777777777778, \"#fb9f3a\"], [0.8888888888888888, \"#fdca26\"], [1.0, \"#f0f921\"]], \"type\": \"heatmap\"}], \"heatmapgl\": [{\"colorbar\": {\"outlinewidth\": 0, \"ticks\": \"\"}, \"colorscale\": [[0.0, \"#0d0887\"], [0.1111111111111111, \"#46039f\"], [0.2222222222222222, \"#7201a8\"], [0.3333333333333333, \"#9c179e\"], [0.4444444444444444, \"#bd3786\"], [0.5555555555555556, \"#d8576b\"], [0.6666666666666666, \"#ed7953\"], [0.7777777777777778, \"#fb9f3a\"], [0.8888888888888888, \"#fdca26\"], [1.0, \"#f0f921\"]], \"type\": \"heatmapgl\"}], \"histogram\": [{\"marker\": {\"colorbar\": {\"outlinewidth\": 0, \"ticks\": \"\"}}, \"type\": \"histogram\"}], \"histogram2d\": [{\"colorbar\": {\"outlinewidth\": 0, \"ticks\": \"\"}, \"colorscale\": [[0.0, \"#0d0887\"], [0.1111111111111111, \"#46039f\"], [0.2222222222222222, \"#7201a8\"], [0.3333333333333333, \"#9c179e\"], [0.4444444444444444, \"#bd3786\"], [0.5555555555555556, \"#d8576b\"], [0.6666666666666666, \"#ed7953\"], [0.7777777777777778, \"#fb9f3a\"], [0.8888888888888888, \"#fdca26\"], [1.0, \"#f0f921\"]], \"type\": \"histogram2d\"}], \"histogram2dcontour\": [{\"colorbar\": {\"outlinewidth\": 0, \"ticks\": \"\"}, \"colorscale\": [[0.0, \"#0d0887\"], [0.1111111111111111, \"#46039f\"], [0.2222222222222222, \"#7201a8\"], [0.3333333333333333, \"#9c179e\"], [0.4444444444444444, \"#bd3786\"], [0.5555555555555556, \"#d8576b\"], [0.6666666666666666, \"#ed7953\"], [0.7777777777777778, \"#fb9f3a\"], [0.8888888888888888, \"#fdca26\"], [1.0, \"#f0f921\"]], \"type\": \"histogram2dcontour\"}], \"mesh3d\": [{\"colorbar\": {\"outlinewidth\": 0, \"ticks\": \"\"}, \"type\": \"mesh3d\"}], \"parcoords\": [{\"line\": {\"colorbar\": {\"outlinewidth\": 0, \"ticks\": \"\"}}, \"type\": \"parcoords\"}], \"pie\": [{\"automargin\": true, \"type\": \"pie\"}], \"scatter\": [{\"marker\": {\"colorbar\": {\"outlinewidth\": 0, \"ticks\": \"\"}}, \"type\": \"scatter\"}], \"scatter3d\": [{\"line\": {\"colorbar\": {\"outlinewidth\": 0, \"ticks\": \"\"}}, \"marker\": {\"colorbar\": {\"outlinewidth\": 0, \"ticks\": \"\"}}, \"type\": \"scatter3d\"}], \"scattercarpet\": [{\"marker\": {\"colorbar\": {\"outlinewidth\": 0, \"ticks\": \"\"}}, \"type\": \"scattercarpet\"}], \"scattergeo\": [{\"marker\": {\"colorbar\": {\"outlinewidth\": 0, \"ticks\": \"\"}}, \"type\": \"scattergeo\"}], \"scattergl\": [{\"marker\": {\"colorbar\": {\"outlinewidth\": 0, \"ticks\": \"\"}}, \"type\": \"scattergl\"}], \"scattermapbox\": [{\"marker\": {\"colorbar\": {\"outlinewidth\": 0, \"ticks\": \"\"}}, \"type\": \"scattermapbox\"}], \"scatterpolar\": [{\"marker\": {\"colorbar\": {\"outlinewidth\": 0, \"ticks\": \"\"}}, \"type\": \"scatterpolar\"}], \"scatterpolargl\": [{\"marker\": {\"colorbar\": {\"outlinewidth\": 0, \"ticks\": \"\"}}, \"type\": \"scatterpolargl\"}], \"scatterternary\": [{\"marker\": {\"colorbar\": {\"outlinewidth\": 0, \"ticks\": \"\"}}, \"type\": \"scatterternary\"}], \"surface\": [{\"colorbar\": {\"outlinewidth\": 0, \"ticks\": \"\"}, \"colorscale\": [[0.0, \"#0d0887\"], [0.1111111111111111, \"#46039f\"], [0.2222222222222222, \"#7201a8\"], [0.3333333333333333, \"#9c179e\"], [0.4444444444444444, \"#bd3786\"], [0.5555555555555556, \"#d8576b\"], [0.6666666666666666, \"#ed7953\"], [0.7777777777777778, \"#fb9f3a\"], [0.8888888888888888, \"#fdca26\"], [1.0, \"#f0f921\"]], \"type\": \"surface\"}], \"table\": [{\"cells\": {\"fill\": {\"color\": \"#EBF0F8\"}, \"line\": {\"color\": \"white\"}}, \"header\": {\"fill\": {\"color\": \"#C8D4E3\"}, \"line\": {\"color\": \"white\"}}, \"type\": \"table\"}]}, \"layout\": {\"annotationdefaults\": {\"arrowcolor\": \"#2a3f5f\", \"arrowhead\": 0, \"arrowwidth\": 1}, \"autotypenumbers\": \"strict\", \"coloraxis\": {\"colorbar\": {\"outlinewidth\": 0, \"ticks\": \"\"}}, \"colorscale\": {\"diverging\": [[0, \"#8e0152\"], [0.1, \"#c51b7d\"], [0.2, \"#de77ae\"], [0.3, \"#f1b6da\"], [0.4, \"#fde0ef\"], [0.5, \"#f7f7f7\"], [0.6, \"#e6f5d0\"], [0.7, \"#b8e186\"], [0.8, \"#7fbc41\"], [0.9, \"#4d9221\"], [1, \"#276419\"]], \"sequential\": [[0.0, \"#0d0887\"], [0.1111111111111111, \"#46039f\"], [0.2222222222222222, \"#7201a8\"], [0.3333333333333333, \"#9c179e\"], [0.4444444444444444, \"#bd3786\"], [0.5555555555555556, \"#d8576b\"], [0.6666666666666666, \"#ed7953\"], [0.7777777777777778, \"#fb9f3a\"], [0.8888888888888888, \"#fdca26\"], [1.0, \"#f0f921\"]], \"sequentialminus\": [[0.0, \"#0d0887\"], [0.1111111111111111, \"#46039f\"], [0.2222222222222222, \"#7201a8\"], [0.3333333333333333, \"#9c179e\"], [0.4444444444444444, \"#bd3786\"], [0.5555555555555556, \"#d8576b\"], [0.6666666666666666, \"#ed7953\"], [0.7777777777777778, \"#fb9f3a\"], [0.8888888888888888, \"#fdca26\"], [1.0, \"#f0f921\"]]}, \"colorway\": [\"#636efa\", \"#EF553B\", \"#00cc96\", \"#ab63fa\", \"#FFA15A\", \"#19d3f3\", \"#FF6692\", \"#B6E880\", \"#FF97FF\", \"#FECB52\"], \"font\": {\"color\": \"#2a3f5f\"}, \"geo\": {\"bgcolor\": \"white\", \"lakecolor\": \"white\", \"landcolor\": \"#E5ECF6\", \"showlakes\": true, \"showland\": true, \"subunitcolor\": \"white\"}, \"hoverlabel\": {\"align\": \"left\"}, \"hovermode\": \"closest\", \"mapbox\": {\"style\": \"light\"}, \"paper_bgcolor\": \"white\", \"plot_bgcolor\": \"#E5ECF6\", \"polar\": {\"angularaxis\": {\"gridcolor\": \"white\", \"linecolor\": \"white\", \"ticks\": \"\"}, \"bgcolor\": \"#E5ECF6\", \"radialaxis\": {\"gridcolor\": \"white\", \"linecolor\": \"white\", \"ticks\": \"\"}}, \"scene\": {\"xaxis\": {\"backgroundcolor\": \"#E5ECF6\", \"gridcolor\": \"white\", \"gridwidth\": 2, \"linecolor\": \"white\", \"showbackground\": true, \"ticks\": \"\", \"zerolinecolor\": \"white\"}, \"yaxis\": {\"backgroundcolor\": \"#E5ECF6\", \"gridcolor\": \"white\", \"gridwidth\": 2, \"linecolor\": \"white\", \"showbackground\": true, \"ticks\": \"\", \"zerolinecolor\": \"white\"}, \"zaxis\": {\"backgroundcolor\": \"#E5ECF6\", \"gridcolor\": \"white\", \"gridwidth\": 2, \"linecolor\": \"white\", \"showbackground\": true, \"ticks\": \"\", \"zerolinecolor\": \"white\"}}, \"shapedefaults\": {\"line\": {\"color\": \"#2a3f5f\"}}, \"ternary\": {\"aaxis\": {\"gridcolor\": \"white\", \"linecolor\": \"white\", \"ticks\": \"\"}, \"baxis\": {\"gridcolor\": \"white\", \"linecolor\": \"white\", \"ticks\": \"\"}, \"bgcolor\": \"#E5ECF6\", \"caxis\": {\"gridcolor\": \"white\", \"linecolor\": \"white\", \"ticks\": \"\"}}, \"title\": {\"x\": 0.05}, \"xaxis\": {\"automargin\": true, \"gridcolor\": \"white\", \"linecolor\": \"white\", \"ticks\": \"\", \"title\": {\"standoff\": 15}, \"zerolinecolor\": \"white\", \"zerolinewidth\": 2}, \"yaxis\": {\"automargin\": true, \"gridcolor\": \"white\", \"linecolor\": \"white\", \"ticks\": \"\", \"title\": {\"standoff\": 15}, \"zerolinecolor\": \"white\", \"zerolinewidth\": 2}}}, \"title\": {\"text\": \"2007 Auto Production\"}, \"xaxis\": {\"anchor\": \"y\", \"categoryarray\": [\"General Motors\", \"Ford\", \"DaimlerChrysler\", \"Toyota\"], \"categoryorder\": \"array\", \"domain\": [0.0, 1.0], \"title\": {\"text\": \"Automotive brands\"}}, \"yaxis\": {\"anchor\": \"x\", \"domain\": [0.0, 1.0], \"title\": {\"text\": \"Car Production (millions)\"}}},                        {\"responsive\": true}                    ).then(function(){\n",
       "                            \n",
       "var gd = document.getElementById('c700fba6-2681-411b-a1aa-030e23c1131a');\n",
       "var x = new MutationObserver(function (mutations, observer) {{\n",
       "        var display = window.getComputedStyle(gd).display;\n",
       "        if (!display || display === 'none') {{\n",
       "            console.log([gd, 'removed!']);\n",
       "            Plotly.purge(gd);\n",
       "            observer.disconnect();\n",
       "        }}\n",
       "}});\n",
       "\n",
       "// Listen for the removal of the full notebook cells\n",
       "var notebookContainer = gd.closest('#notebook-container');\n",
       "if (notebookContainer) {{\n",
       "    x.observe(notebookContainer, {childList: true});\n",
       "}}\n",
       "\n",
       "// Listen for the clearing of the current output cell\n",
       "var outputEl = gd.closest('.output');\n",
       "if (outputEl) {{\n",
       "    x.observe(outputEl, {childList: true});\n",
       "}}\n",
       "\n",
       "                        })                };                });            </script>        </div>"
      ]
     },
     "metadata": {},
     "output_type": "display_data"
    }
   ],
   "source": [
    "# 14.\n",
    "import plotly.express as px\n",
    "import plotly.graph_objects as go\n",
    "csm_data = {\"Manufacturer\":['General Motors', 'Ford', 'DaimlerChrysler', 'Toyota'], \n",
    "           \"2004\":[8.9, 7.8, 4.1, 7.8], \n",
    "           \"2005\":[9, 7.7, 4.2, 8.3], \n",
    "           \"2006\":[8.9, 7.8, 4.3, 9.1], \n",
    "           \"2007\":[8.8, 7.9, 4.6, 9.6]}\n",
    "df_csm_data = pd.DataFrame(csm_data)\n",
    "print(df_csm_data)\n",
    "# A)\n",
    "\"\"\"Setup data\"\"\"\n",
    "tdf_csm_data = df_csm_data.set_index('Manufacturer').T.reset_index()\n",
    "year = tdf_csm_data.iloc[:, 0]\n",
    "car_production_values = [tdf_csm_data[\"General Motors\"], tdf_csm_data[\"Ford\"], tdf_csm_data[\"DaimlerChrysler\"], tdf_csm_data[\"Toyota\"]]\n",
    "print('\\n', tdf_csm_data)\n",
    "\"\"\"Build histogram\"\"\"\n",
    "fig1 = px.line(tdf_csm_data, \n",
    "            x=year, \n",
    "            y=car_production_values\n",
    ")\n",
    "fig2 = px.scatter(tdf_csm_data, \n",
    "               x=year, \n",
    "               y=car_production_values, \n",
    "               size=[5, 5, 5, 5], \n",
    "               opacity = 1\n",
    ")\n",
    "\n",
    "fig3 = go.Figure(data=fig1.data + fig2.data)\n",
    "fig3.update_layout(title='Global Auto Production', \n",
    "                  xaxis_title='Year', \n",
    "                  yaxis_title='Car production (millions)', \n",
    "                  legend_title='Automotive Brands')\n",
    "fig3.show()\n",
    "\n",
    "# B)\n",
    "\"\"\"The time series graph shows that Toyota is the biggest car production company in 2006 and 2007, overcoming\n",
    "GM in number of cars produced\"\"\"\n",
    "# C)\n",
    "\"\"\"Setup data\"\"\"\n",
    "\n",
    "last_year_data = df_csm_data['2007']\n",
    "year = df_csm_data['Manufacturer']\n",
    "print(tdf_csm_data.dtypes)\n",
    "\"\"\"Building graph\"\"\"\n",
    "fig = px.bar(df_csm_data, \n",
    "            x=year, \n",
    "            y=last_year_data, \n",
    "            color=df_csm_data['Manufacturer'], \n",
    "            barmode='group', \n",
    "            title='2007 Auto Production', \n",
    "            labels={'2007': 'Car Production (millions)', 'Manufacturer': 'Automotive brands'}\n",
    ")\n",
    "\n",
    "\n",
    "fig.show()"
   ]
  },
  {
   "cell_type": "code",
   "execution_count": 4,
   "metadata": {
    "ExecuteTime": {
     "end_time": "2021-05-07T19:57:46.071876Z",
     "start_time": "2021-05-07T19:57:46.055192Z"
    },
    "code_folding": [
     0
    ]
   },
   "outputs": [
    {
     "data": {
      "text/plain": [
       "'The trend is to approve less drugs per year, it might be due to more strict legislations.'"
      ]
     },
     "execution_count": 4,
     "metadata": {},
     "output_type": "execute_result"
    }
   ],
   "source": [
    "#15.\n",
    "# A)\n",
    "\"\"\"Quantitative data\"\"\"\n",
    "# B)\n",
    "\"\"\"Time series\"\"\"\n",
    "# C)\n",
    "\"\"\"18.75 million drugs\"\"\"\n",
    "# D)\n",
    "\"\"\"2002, around 16 million drugs\"\"\"\n",
    "# E)\n",
    "\"\"\"The trend is to approve less drugs per year, it might be due to more strict legislations.\"\"\""
   ]
  },
  {
   "cell_type": "code",
   "execution_count": 15,
   "metadata": {
    "ExecuteTime": {
     "end_time": "2021-05-18T19:09:00.499682Z",
     "start_time": "2021-05-18T19:09:00.294135Z"
    },
    "code_folding": [
     0
    ],
    "scrolled": true
   },
   "outputs": [
    {
     "data": {
      "application/vnd.plotly.v1+json": {
       "config": {
        "plotlyServerURL": "https://plot.ly"
       },
       "data": [
        {
         "hovertemplate": "Year=%{x}<br>Average price=%{y}<extra></extra>",
         "legendgroup": "",
         "line": {
          "color": "#636efa",
          "dash": "solid"
         },
         "mode": "lines",
         "name": "",
         "showlegend": false,
         "type": "scattergl",
         "x": [
          "2021-04-19T00:00:00",
          "2021-04-12T00:00:00",
          "2021-04-05T00:00:00",
          "2021-03-29T00:00:00",
          "2021-03-22T00:00:00",
          "2021-03-15T00:00:00",
          "2021-03-08T00:00:00",
          "2021-03-01T00:00:00",
          "2021-02-22T00:00:00",
          "2021-02-15T00:00:00",
          "2021-02-08T00:00:00",
          "2021-02-01T00:00:00",
          "2021-01-25T00:00:00",
          "2021-01-18T00:00:00",
          "2021-01-11T00:00:00",
          "2021-01-04T00:00:00",
          "2020-12-28T00:00:00",
          "2020-12-21T00:00:00",
          "2020-12-14T00:00:00",
          "2020-12-07T00:00:00",
          "2020-11-30T00:00:00",
          "2020-11-23T00:00:00",
          "2020-11-16T00:00:00",
          "2020-11-09T00:00:00",
          "2020-11-02T00:00:00",
          "2020-10-26T00:00:00",
          "2020-10-19T00:00:00",
          "2020-10-12T00:00:00",
          "2020-10-05T00:00:00",
          "2020-09-28T00:00:00",
          "2020-09-21T00:00:00",
          "2020-09-14T00:00:00",
          "2020-09-07T00:00:00",
          "2020-08-31T00:00:00",
          "2020-08-24T00:00:00",
          "2020-08-17T00:00:00",
          "2020-08-10T00:00:00",
          "2020-08-03T00:00:00",
          "2020-07-27T00:00:00",
          "2020-07-20T00:00:00",
          "2020-07-13T00:00:00",
          "2020-07-06T00:00:00",
          "2020-06-29T00:00:00",
          "2020-06-22T00:00:00",
          "2020-06-15T00:00:00",
          "2020-06-08T00:00:00",
          "2020-06-01T00:00:00",
          "2020-05-25T00:00:00",
          "2020-05-18T00:00:00",
          "2020-05-11T00:00:00",
          "2020-05-04T00:00:00",
          "2020-04-27T00:00:00",
          "2020-04-20T00:00:00",
          "2020-04-13T00:00:00",
          "2020-04-06T00:00:00",
          "2020-03-30T00:00:00",
          "2020-03-23T00:00:00",
          "2020-03-16T00:00:00",
          "2020-03-09T00:00:00",
          "2020-03-02T00:00:00",
          "2020-02-24T00:00:00",
          "2020-02-17T00:00:00",
          "2020-02-10T00:00:00",
          "2020-02-03T00:00:00",
          "2020-01-27T00:00:00",
          "2020-01-20T00:00:00",
          "2020-01-13T00:00:00",
          "2020-01-06T00:00:00",
          "2019-12-30T00:00:00",
          "2019-12-23T00:00:00",
          "2019-12-16T00:00:00",
          "2019-12-09T00:00:00",
          "2019-12-02T00:00:00",
          "2019-11-25T00:00:00",
          "2019-11-18T00:00:00",
          "2019-11-11T00:00:00",
          "2019-11-04T00:00:00",
          "2019-10-28T00:00:00",
          "2019-10-21T00:00:00",
          "2019-10-14T00:00:00",
          "2019-10-07T00:00:00",
          "2019-09-30T00:00:00",
          "2019-09-23T00:00:00",
          "2019-09-16T00:00:00",
          "2019-09-09T00:00:00",
          "2019-09-02T00:00:00",
          "2019-08-26T00:00:00",
          "2019-08-19T00:00:00",
          "2019-08-12T00:00:00",
          "2019-08-05T00:00:00",
          "2019-07-29T00:00:00",
          "2019-07-22T00:00:00",
          "2019-07-15T00:00:00",
          "2019-07-08T00:00:00",
          "2019-07-01T00:00:00",
          "2019-06-24T00:00:00",
          "2019-06-17T00:00:00",
          "2019-06-10T00:00:00",
          "2019-06-03T00:00:00",
          "2019-05-27T00:00:00",
          "2019-05-20T00:00:00",
          "2019-05-13T00:00:00",
          "2019-05-06T00:00:00",
          "2019-04-29T00:00:00",
          "2019-04-22T00:00:00",
          "2019-04-15T00:00:00",
          "2019-04-08T00:00:00",
          "2019-04-01T00:00:00",
          "2019-03-25T00:00:00",
          "2019-03-18T00:00:00",
          "2019-03-11T00:00:00",
          "2019-03-04T00:00:00",
          "2019-02-25T00:00:00",
          "2019-02-18T00:00:00",
          "2019-02-11T00:00:00",
          "2019-02-04T00:00:00",
          "2019-01-28T00:00:00",
          "2019-01-21T00:00:00",
          "2019-01-14T00:00:00",
          "2019-01-07T00:00:00",
          "2018-12-31T00:00:00",
          "2018-12-24T00:00:00",
          "2018-12-17T00:00:00",
          "2018-12-10T00:00:00",
          "2018-12-03T00:00:00",
          "2018-11-26T00:00:00",
          "2018-11-19T00:00:00",
          "2018-11-12T00:00:00",
          "2018-11-05T00:00:00",
          "2018-10-29T00:00:00",
          "2018-10-22T00:00:00",
          "2018-10-15T00:00:00",
          "2018-10-08T00:00:00",
          "2018-10-01T00:00:00",
          "2018-09-24T00:00:00",
          "2018-09-17T00:00:00",
          "2018-09-10T00:00:00",
          "2018-09-03T00:00:00",
          "2018-08-27T00:00:00",
          "2018-08-20T00:00:00",
          "2018-08-13T00:00:00",
          "2018-08-06T00:00:00",
          "2018-07-30T00:00:00",
          "2018-07-23T00:00:00",
          "2018-07-16T00:00:00",
          "2018-07-09T00:00:00",
          "2018-07-02T00:00:00",
          "2018-06-25T00:00:00",
          "2018-06-18T00:00:00",
          "2018-06-11T00:00:00",
          "2018-06-04T00:00:00",
          "2018-05-28T00:00:00",
          "2018-05-21T00:00:00",
          "2018-05-14T00:00:00",
          "2018-05-07T00:00:00",
          "2018-04-30T00:00:00",
          "2018-04-23T00:00:00",
          "2018-04-16T00:00:00",
          "2018-04-09T00:00:00",
          "2018-04-02T00:00:00",
          "2018-03-26T00:00:00",
          "2018-03-19T00:00:00",
          "2018-03-12T00:00:00",
          "2018-03-05T00:00:00",
          "2018-02-26T00:00:00",
          "2018-02-19T00:00:00",
          "2018-02-12T00:00:00",
          "2018-02-05T00:00:00",
          "2018-01-29T00:00:00",
          "2018-01-22T00:00:00",
          "2018-01-15T00:00:00",
          "2018-01-08T00:00:00",
          "2018-01-01T00:00:00",
          "2017-12-25T00:00:00",
          "2017-12-18T00:00:00",
          "2017-12-11T00:00:00",
          "2017-12-04T00:00:00",
          "2017-11-27T00:00:00",
          "2017-11-20T00:00:00",
          "2017-11-13T00:00:00",
          "2017-11-06T00:00:00",
          "2017-10-30T00:00:00",
          "2017-10-23T00:00:00",
          "2017-10-16T00:00:00",
          "2017-10-09T00:00:00",
          "2017-10-02T00:00:00",
          "2017-09-25T00:00:00",
          "2017-09-18T00:00:00",
          "2017-09-11T00:00:00",
          "2017-09-04T00:00:00",
          "2017-08-28T00:00:00",
          "2017-08-21T00:00:00",
          "2017-08-14T00:00:00",
          "2017-08-07T00:00:00",
          "2017-07-31T00:00:00",
          "2017-07-24T00:00:00",
          "2017-07-17T00:00:00",
          "2017-07-10T00:00:00",
          "2017-07-03T00:00:00",
          "2017-06-26T00:00:00",
          "2017-06-19T00:00:00",
          "2017-06-12T00:00:00",
          "2017-06-05T00:00:00",
          "2017-05-29T00:00:00",
          "2017-05-22T00:00:00",
          "2017-05-15T00:00:00",
          "2017-05-08T00:00:00",
          "2017-05-01T00:00:00",
          "2017-04-24T00:00:00",
          "2017-04-17T00:00:00",
          "2017-04-10T00:00:00",
          "2017-04-03T00:00:00",
          "2017-03-27T00:00:00",
          "2017-03-20T00:00:00",
          "2017-03-13T00:00:00",
          "2017-03-06T00:00:00",
          "2017-02-27T00:00:00",
          "2017-02-20T00:00:00",
          "2017-02-13T00:00:00",
          "2017-02-06T00:00:00",
          "2017-01-30T00:00:00",
          "2017-01-23T00:00:00",
          "2017-01-16T00:00:00",
          "2017-01-09T00:00:00",
          "2017-01-02T00:00:00",
          "2016-12-26T00:00:00",
          "2016-12-19T00:00:00",
          "2016-12-12T00:00:00",
          "2016-12-05T00:00:00",
          "2016-11-28T00:00:00",
          "2016-11-21T00:00:00",
          "2016-11-14T00:00:00",
          "2016-11-07T00:00:00",
          "2016-10-31T00:00:00",
          "2016-10-24T00:00:00",
          "2016-10-17T00:00:00",
          "2016-10-10T00:00:00",
          "2016-10-03T00:00:00",
          "2016-09-26T00:00:00",
          "2016-09-19T00:00:00",
          "2016-09-12T00:00:00",
          "2016-09-05T00:00:00",
          "2016-08-29T00:00:00",
          "2016-08-22T00:00:00",
          "2016-08-15T00:00:00",
          "2016-08-08T00:00:00",
          "2016-08-01T00:00:00",
          "2016-07-25T00:00:00",
          "2016-07-18T00:00:00",
          "2016-07-11T00:00:00",
          "2016-07-04T00:00:00",
          "2016-06-27T00:00:00",
          "2016-06-20T00:00:00",
          "2016-06-13T00:00:00",
          "2016-06-06T00:00:00",
          "2016-05-30T00:00:00",
          "2016-05-23T00:00:00",
          "2016-05-16T00:00:00",
          "2016-05-09T00:00:00",
          "2016-05-02T00:00:00",
          "2016-04-25T00:00:00",
          "2016-04-18T00:00:00",
          "2016-04-11T00:00:00",
          "2016-04-04T00:00:00",
          "2016-03-28T00:00:00",
          "2016-03-21T00:00:00",
          "2016-03-14T00:00:00",
          "2016-03-07T00:00:00",
          "2016-02-29T00:00:00",
          "2016-02-22T00:00:00",
          "2016-02-15T00:00:00",
          "2016-02-08T00:00:00",
          "2016-02-01T00:00:00",
          "2016-01-25T00:00:00",
          "2016-01-18T00:00:00",
          "2016-01-11T00:00:00",
          "2016-01-04T00:00:00",
          "2015-12-28T00:00:00",
          "2015-12-21T00:00:00",
          "2015-12-14T00:00:00",
          "2015-12-07T00:00:00",
          "2015-11-30T00:00:00",
          "2015-11-23T00:00:00",
          "2015-11-16T00:00:00",
          "2015-11-09T00:00:00",
          "2015-11-02T00:00:00",
          "2015-10-26T00:00:00",
          "2015-10-19T00:00:00",
          "2015-10-12T00:00:00",
          "2015-10-05T00:00:00",
          "2015-09-28T00:00:00",
          "2015-09-21T00:00:00",
          "2015-09-14T00:00:00",
          "2015-09-07T00:00:00",
          "2015-08-31T00:00:00",
          "2015-08-24T00:00:00",
          "2015-08-17T00:00:00",
          "2015-08-10T00:00:00",
          "2015-08-03T00:00:00",
          "2015-07-27T00:00:00",
          "2015-07-20T00:00:00",
          "2015-07-13T00:00:00",
          "2015-07-06T00:00:00",
          "2015-06-29T00:00:00",
          "2015-06-22T00:00:00",
          "2015-06-15T00:00:00",
          "2015-06-08T00:00:00",
          "2015-06-01T00:00:00",
          "2015-05-25T00:00:00",
          "2015-05-18T00:00:00",
          "2015-05-11T00:00:00",
          "2015-05-04T00:00:00",
          "2015-04-27T00:00:00",
          "2015-04-20T00:00:00",
          "2015-04-13T00:00:00",
          "2015-04-06T00:00:00",
          "2015-03-30T00:00:00",
          "2015-03-23T00:00:00",
          "2015-03-16T00:00:00",
          "2015-03-09T00:00:00",
          "2015-03-02T00:00:00",
          "2015-02-23T00:00:00",
          "2015-02-16T00:00:00",
          "2015-02-09T00:00:00",
          "2015-02-02T00:00:00",
          "2015-01-26T00:00:00",
          "2015-01-19T00:00:00",
          "2015-01-12T00:00:00",
          "2015-01-05T00:00:00",
          "2014-12-29T00:00:00",
          "2014-12-22T00:00:00",
          "2014-12-15T00:00:00",
          "2014-12-08T00:00:00",
          "2014-12-01T00:00:00",
          "2014-11-24T00:00:00",
          "2014-11-17T00:00:00",
          "2014-11-10T00:00:00",
          "2014-11-03T00:00:00",
          "2014-10-27T00:00:00",
          "2014-10-20T00:00:00",
          "2014-10-13T00:00:00",
          "2014-10-06T00:00:00",
          "2014-09-29T00:00:00",
          "2014-09-22T00:00:00",
          "2014-09-15T00:00:00",
          "2014-09-08T00:00:00",
          "2014-09-01T00:00:00",
          "2014-08-25T00:00:00",
          "2014-08-18T00:00:00",
          "2014-08-11T00:00:00",
          "2014-08-04T00:00:00",
          "2014-07-28T00:00:00",
          "2014-07-21T00:00:00",
          "2014-07-14T00:00:00",
          "2014-07-07T00:00:00",
          "2014-06-30T00:00:00",
          "2014-06-23T00:00:00",
          "2014-06-16T00:00:00",
          "2014-06-09T00:00:00",
          "2014-06-02T00:00:00",
          "2014-05-26T00:00:00",
          "2014-05-19T00:00:00",
          "2014-05-12T00:00:00",
          "2014-05-05T00:00:00",
          "2014-04-28T00:00:00",
          "2014-04-21T00:00:00",
          "2014-04-14T00:00:00",
          "2014-04-07T00:00:00",
          "2014-03-31T00:00:00",
          "2014-03-24T00:00:00",
          "2014-03-17T00:00:00",
          "2014-03-10T00:00:00",
          "2014-03-03T00:00:00",
          "2014-02-24T00:00:00",
          "2014-02-17T00:00:00",
          "2014-02-10T00:00:00",
          "2014-02-03T00:00:00",
          "2014-01-27T00:00:00",
          "2014-01-20T00:00:00",
          "2014-01-13T00:00:00",
          "2014-01-06T00:00:00",
          "2013-12-30T00:00:00",
          "2013-12-23T00:00:00",
          "2013-12-16T00:00:00",
          "2013-12-09T00:00:00",
          "2013-12-02T00:00:00",
          "2013-11-25T00:00:00",
          "2013-11-18T00:00:00",
          "2013-11-11T00:00:00",
          "2013-11-04T00:00:00",
          "2013-10-28T00:00:00",
          "2013-10-21T00:00:00",
          "2013-10-14T00:00:00",
          "2013-10-07T00:00:00",
          "2013-09-30T00:00:00",
          "2013-09-23T00:00:00",
          "2013-09-16T00:00:00",
          "2013-09-09T00:00:00",
          "2013-09-02T00:00:00",
          "2013-08-26T00:00:00",
          "2013-08-19T00:00:00",
          "2013-08-12T00:00:00",
          "2013-08-05T00:00:00",
          "2013-07-29T00:00:00",
          "2013-07-22T00:00:00",
          "2013-07-15T00:00:00",
          "2013-07-08T00:00:00",
          "2013-07-01T00:00:00",
          "2013-06-24T00:00:00",
          "2013-06-17T00:00:00",
          "2013-06-10T00:00:00",
          "2013-06-03T00:00:00",
          "2013-05-27T00:00:00",
          "2013-05-20T00:00:00",
          "2013-05-13T00:00:00",
          "2013-05-06T00:00:00",
          "2013-04-29T00:00:00",
          "2013-04-22T00:00:00",
          "2013-04-15T00:00:00",
          "2013-04-08T00:00:00",
          "2013-04-01T00:00:00",
          "2013-03-25T00:00:00",
          "2013-03-18T00:00:00",
          "2013-03-11T00:00:00",
          "2013-03-04T00:00:00",
          "2013-02-25T00:00:00",
          "2013-02-18T00:00:00",
          "2013-02-11T00:00:00",
          "2013-02-04T00:00:00",
          "2013-01-28T00:00:00",
          "2013-01-21T00:00:00",
          "2013-01-14T00:00:00",
          "2013-01-07T00:00:00",
          "2012-12-31T00:00:00",
          "2012-12-24T00:00:00",
          "2012-12-17T00:00:00",
          "2012-12-10T00:00:00",
          "2012-12-03T00:00:00",
          "2012-11-26T00:00:00",
          "2012-11-19T00:00:00",
          "2012-11-12T00:00:00",
          "2012-11-05T00:00:00",
          "2012-10-29T00:00:00",
          "2012-10-22T00:00:00",
          "2012-10-15T00:00:00",
          "2012-10-08T00:00:00",
          "2012-10-01T00:00:00",
          "2012-09-24T00:00:00",
          "2012-09-17T00:00:00",
          "2012-09-10T00:00:00",
          "2012-09-03T00:00:00",
          "2012-08-27T00:00:00",
          "2012-08-20T00:00:00",
          "2012-08-13T00:00:00",
          "2012-08-06T00:00:00",
          "2012-07-30T00:00:00",
          "2012-07-23T00:00:00",
          "2012-07-16T00:00:00",
          "2012-07-09T00:00:00",
          "2012-07-02T00:00:00",
          "2012-06-25T00:00:00",
          "2012-06-18T00:00:00",
          "2012-06-11T00:00:00",
          "2012-06-04T00:00:00",
          "2012-05-28T00:00:00",
          "2012-05-21T00:00:00",
          "2012-05-14T00:00:00",
          "2012-05-07T00:00:00",
          "2012-04-30T00:00:00",
          "2012-04-23T00:00:00",
          "2012-04-16T00:00:00",
          "2012-04-09T00:00:00",
          "2012-04-02T00:00:00",
          "2012-03-26T00:00:00",
          "2012-03-19T00:00:00",
          "2012-03-12T00:00:00",
          "2012-03-05T00:00:00",
          "2012-02-27T00:00:00",
          "2012-02-20T00:00:00",
          "2012-02-13T00:00:00",
          "2012-02-06T00:00:00",
          "2012-01-30T00:00:00",
          "2012-01-23T00:00:00",
          "2012-01-16T00:00:00",
          "2012-01-09T00:00:00",
          "2012-01-02T00:00:00",
          "2011-12-26T00:00:00",
          "2011-12-19T00:00:00",
          "2011-12-12T00:00:00",
          "2011-12-05T00:00:00",
          "2011-11-28T00:00:00",
          "2011-11-21T00:00:00",
          "2011-11-14T00:00:00",
          "2011-11-07T00:00:00",
          "2011-10-31T00:00:00",
          "2011-10-24T00:00:00",
          "2011-10-17T00:00:00",
          "2011-10-10T00:00:00",
          "2011-10-03T00:00:00",
          "2011-09-26T00:00:00",
          "2011-09-19T00:00:00",
          "2011-09-12T00:00:00",
          "2011-09-05T00:00:00",
          "2011-08-29T00:00:00",
          "2011-08-22T00:00:00",
          "2011-08-15T00:00:00",
          "2011-08-08T00:00:00",
          "2011-08-01T00:00:00",
          "2011-07-25T00:00:00",
          "2011-07-18T00:00:00",
          "2011-07-11T00:00:00",
          "2011-07-04T00:00:00",
          "2011-06-27T00:00:00",
          "2011-06-20T00:00:00",
          "2011-06-13T00:00:00",
          "2011-06-06T00:00:00",
          "2011-05-30T00:00:00",
          "2011-05-23T00:00:00",
          "2011-05-16T00:00:00",
          "2011-05-09T00:00:00",
          "2011-05-02T00:00:00",
          "2011-04-25T00:00:00",
          "2011-04-18T00:00:00",
          "2011-04-11T00:00:00",
          "2011-04-04T00:00:00",
          "2011-03-28T00:00:00",
          "2011-03-21T00:00:00",
          "2011-03-14T00:00:00",
          "2011-03-07T00:00:00",
          "2011-02-28T00:00:00",
          "2011-02-21T00:00:00",
          "2011-02-14T00:00:00",
          "2011-02-07T00:00:00",
          "2011-01-31T00:00:00",
          "2011-01-24T00:00:00",
          "2011-01-17T00:00:00",
          "2011-01-10T00:00:00",
          "2011-01-03T00:00:00",
          "2010-12-27T00:00:00",
          "2010-12-20T00:00:00",
          "2010-12-13T00:00:00",
          "2010-12-06T00:00:00",
          "2010-11-29T00:00:00",
          "2010-11-22T00:00:00",
          "2010-11-15T00:00:00",
          "2010-11-08T00:00:00",
          "2010-11-01T00:00:00",
          "2010-10-25T00:00:00",
          "2010-10-18T00:00:00",
          "2010-10-11T00:00:00",
          "2010-10-04T00:00:00",
          "2010-09-27T00:00:00",
          "2010-09-20T00:00:00",
          "2010-09-13T00:00:00",
          "2010-09-06T00:00:00",
          "2010-08-30T00:00:00",
          "2010-08-23T00:00:00",
          "2010-08-16T00:00:00",
          "2010-08-09T00:00:00",
          "2010-08-02T00:00:00",
          "2010-07-26T00:00:00",
          "2010-07-19T00:00:00",
          "2010-07-12T00:00:00",
          "2010-07-05T00:00:00",
          "2010-06-28T00:00:00",
          "2010-06-21T00:00:00",
          "2010-06-14T00:00:00",
          "2010-06-07T00:00:00",
          "2010-05-31T00:00:00",
          "2010-05-24T00:00:00",
          "2010-05-17T00:00:00",
          "2010-05-10T00:00:00",
          "2010-05-03T00:00:00",
          "2010-04-26T00:00:00",
          "2010-04-19T00:00:00",
          "2010-04-12T00:00:00",
          "2010-04-05T00:00:00",
          "2010-03-29T00:00:00",
          "2010-03-22T00:00:00",
          "2010-03-15T00:00:00",
          "2010-03-08T00:00:00",
          "2010-03-01T00:00:00",
          "2010-02-22T00:00:00",
          "2010-02-15T00:00:00",
          "2010-02-08T00:00:00",
          "2010-02-01T00:00:00",
          "2010-01-25T00:00:00",
          "2010-01-18T00:00:00",
          "2010-01-11T00:00:00",
          "2010-01-04T00:00:00",
          "2009-12-28T00:00:00",
          "2009-12-21T00:00:00",
          "2009-12-14T00:00:00",
          "2009-12-07T00:00:00",
          "2009-11-30T00:00:00",
          "2009-11-23T00:00:00",
          "2009-11-16T00:00:00",
          "2009-11-09T00:00:00",
          "2009-11-02T00:00:00",
          "2009-10-26T00:00:00",
          "2009-10-19T00:00:00",
          "2009-10-12T00:00:00",
          "2009-10-05T00:00:00",
          "2009-09-28T00:00:00",
          "2009-09-21T00:00:00",
          "2009-09-14T00:00:00",
          "2009-09-07T00:00:00",
          "2009-08-31T00:00:00",
          "2009-08-24T00:00:00",
          "2009-08-17T00:00:00",
          "2009-08-10T00:00:00",
          "2009-08-03T00:00:00",
          "2009-07-27T00:00:00",
          "2009-07-20T00:00:00",
          "2009-07-13T00:00:00",
          "2009-07-06T00:00:00",
          "2009-06-29T00:00:00",
          "2009-06-22T00:00:00",
          "2009-06-15T00:00:00",
          "2009-06-08T00:00:00",
          "2009-06-01T00:00:00",
          "2009-05-25T00:00:00",
          "2009-05-18T00:00:00",
          "2009-05-11T00:00:00",
          "2009-05-04T00:00:00",
          "2009-04-27T00:00:00",
          "2009-04-20T00:00:00",
          "2009-04-13T00:00:00",
          "2009-04-06T00:00:00",
          "2009-03-30T00:00:00",
          "2009-03-23T00:00:00",
          "2009-03-16T00:00:00",
          "2009-03-09T00:00:00",
          "2009-03-02T00:00:00",
          "2009-02-23T00:00:00",
          "2009-02-16T00:00:00",
          "2009-02-09T00:00:00",
          "2009-02-02T00:00:00",
          "2009-01-26T00:00:00",
          "2009-01-19T00:00:00",
          "2009-01-12T00:00:00",
          "2009-01-05T00:00:00",
          "2008-12-29T00:00:00",
          "2008-12-22T00:00:00",
          "2008-12-15T00:00:00",
          "2008-12-08T00:00:00",
          "2008-12-01T00:00:00",
          "2008-11-24T00:00:00",
          "2008-11-17T00:00:00",
          "2008-11-10T00:00:00",
          "2008-11-03T00:00:00",
          "2008-10-27T00:00:00",
          "2008-10-20T00:00:00",
          "2008-10-13T00:00:00",
          "2008-10-06T00:00:00",
          "2008-09-29T00:00:00",
          "2008-09-22T00:00:00",
          "2008-09-15T00:00:00",
          "2008-09-08T00:00:00",
          "2008-09-01T00:00:00",
          "2008-08-25T00:00:00",
          "2008-08-18T00:00:00",
          "2008-08-11T00:00:00",
          "2008-08-04T00:00:00",
          "2008-07-28T00:00:00",
          "2008-07-21T00:00:00",
          "2008-07-14T00:00:00",
          "2008-07-07T00:00:00",
          "2008-06-30T00:00:00",
          "2008-06-23T00:00:00",
          "2008-06-16T00:00:00",
          "2008-06-09T00:00:00",
          "2008-06-02T00:00:00",
          "2008-05-26T00:00:00",
          "2008-05-19T00:00:00",
          "2008-05-12T00:00:00",
          "2008-05-05T00:00:00",
          "2008-04-28T00:00:00",
          "2008-04-21T00:00:00",
          "2008-04-14T00:00:00",
          "2008-04-07T00:00:00",
          "2008-03-31T00:00:00",
          "2008-03-24T00:00:00",
          "2008-03-17T00:00:00",
          "2008-03-10T00:00:00",
          "2008-03-03T00:00:00",
          "2008-02-25T00:00:00",
          "2008-02-18T00:00:00",
          "2008-02-11T00:00:00",
          "2008-02-04T00:00:00",
          "2008-01-28T00:00:00",
          "2008-01-21T00:00:00",
          "2008-01-14T00:00:00",
          "2008-01-07T00:00:00",
          "2007-12-31T00:00:00",
          "2007-12-24T00:00:00",
          "2007-12-17T00:00:00",
          "2007-12-10T00:00:00",
          "2007-12-03T00:00:00",
          "2007-11-26T00:00:00",
          "2007-11-19T00:00:00",
          "2007-11-12T00:00:00",
          "2007-11-05T00:00:00",
          "2007-10-29T00:00:00",
          "2007-10-22T00:00:00",
          "2007-10-15T00:00:00",
          "2007-10-08T00:00:00",
          "2007-10-01T00:00:00",
          "2007-09-24T00:00:00",
          "2007-09-17T00:00:00",
          "2007-09-10T00:00:00",
          "2007-09-03T00:00:00",
          "2007-08-27T00:00:00",
          "2007-08-20T00:00:00",
          "2007-08-13T00:00:00",
          "2007-08-06T00:00:00",
          "2007-07-30T00:00:00",
          "2007-07-23T00:00:00",
          "2007-07-16T00:00:00",
          "2007-07-09T00:00:00",
          "2007-07-02T00:00:00",
          "2007-06-25T00:00:00",
          "2007-06-18T00:00:00",
          "2007-06-11T00:00:00",
          "2007-06-04T00:00:00",
          "2007-05-28T00:00:00",
          "2007-05-21T00:00:00",
          "2007-05-14T00:00:00",
          "2007-05-07T00:00:00",
          "2007-04-30T00:00:00",
          "2007-04-23T00:00:00",
          "2007-04-16T00:00:00",
          "2007-04-09T00:00:00",
          "2007-04-02T00:00:00",
          "2007-03-26T00:00:00",
          "2007-03-19T00:00:00",
          "2007-03-12T00:00:00",
          "2007-03-05T00:00:00",
          "2007-02-26T00:00:00",
          "2007-02-19T00:00:00",
          "2007-02-12T00:00:00",
          "2007-02-05T00:00:00",
          "2007-01-29T00:00:00",
          "2007-01-22T00:00:00",
          "2007-01-15T00:00:00",
          "2007-01-08T00:00:00",
          "2007-01-01T00:00:00",
          "2006-12-25T00:00:00",
          "2006-12-18T00:00:00",
          "2006-12-11T00:00:00",
          "2006-12-04T00:00:00",
          "2006-11-27T00:00:00",
          "2006-11-20T00:00:00",
          "2006-11-13T00:00:00",
          "2006-11-06T00:00:00",
          "2006-10-30T00:00:00",
          "2006-10-23T00:00:00",
          "2006-10-16T00:00:00",
          "2006-10-09T00:00:00",
          "2006-10-02T00:00:00",
          "2006-09-25T00:00:00",
          "2006-09-18T00:00:00",
          "2006-09-11T00:00:00",
          "2006-09-04T00:00:00",
          "2006-08-28T00:00:00",
          "2006-08-21T00:00:00",
          "2006-08-14T00:00:00",
          "2006-08-07T00:00:00",
          "2006-07-31T00:00:00",
          "2006-07-24T00:00:00",
          "2006-07-17T00:00:00",
          "2006-07-10T00:00:00",
          "2006-07-03T00:00:00",
          "2006-06-26T00:00:00",
          "2006-06-19T00:00:00",
          "2006-06-12T00:00:00",
          "2006-06-05T00:00:00",
          "2006-05-29T00:00:00",
          "2006-05-22T00:00:00",
          "2006-05-15T00:00:00",
          "2006-05-08T00:00:00",
          "2006-05-01T00:00:00",
          "2006-04-24T00:00:00",
          "2006-04-17T00:00:00",
          "2006-04-10T00:00:00",
          "2006-04-03T00:00:00",
          "2006-03-27T00:00:00",
          "2006-03-20T00:00:00",
          "2006-03-13T00:00:00",
          "2006-03-06T00:00:00",
          "2006-02-27T00:00:00",
          "2006-02-20T00:00:00",
          "2006-02-13T00:00:00",
          "2006-02-06T00:00:00",
          "2006-01-30T00:00:00",
          "2006-01-23T00:00:00",
          "2006-01-16T00:00:00",
          "2006-01-09T00:00:00",
          "2006-01-02T00:00:00",
          "2005-12-26T00:00:00",
          "2005-12-19T00:00:00",
          "2005-12-12T00:00:00",
          "2005-12-05T00:00:00",
          "2005-11-28T00:00:00",
          "2005-11-21T00:00:00",
          "2005-11-14T00:00:00",
          "2005-11-07T00:00:00",
          "2005-10-31T00:00:00",
          "2005-10-24T00:00:00",
          "2005-10-17T00:00:00",
          "2005-10-10T00:00:00",
          "2005-10-03T00:00:00",
          "2005-09-26T00:00:00",
          "2005-09-19T00:00:00",
          "2005-09-12T00:00:00",
          "2005-09-05T00:00:00",
          "2005-08-29T00:00:00",
          "2005-08-22T00:00:00",
          "2005-08-15T00:00:00",
          "2005-08-08T00:00:00",
          "2005-08-01T00:00:00",
          "2005-07-25T00:00:00",
          "2005-07-18T00:00:00",
          "2005-07-11T00:00:00",
          "2005-07-04T00:00:00",
          "2005-06-27T00:00:00",
          "2005-06-20T00:00:00",
          "2005-06-13T00:00:00",
          "2005-06-06T00:00:00",
          "2005-05-30T00:00:00",
          "2005-05-23T00:00:00",
          "2005-05-16T00:00:00",
          "2005-05-09T00:00:00",
          "2005-05-02T00:00:00",
          "2005-04-25T00:00:00",
          "2005-04-18T00:00:00",
          "2005-04-11T00:00:00",
          "2005-04-04T00:00:00",
          "2005-03-28T00:00:00",
          "2005-03-21T00:00:00",
          "2005-03-14T00:00:00",
          "2005-03-07T00:00:00",
          "2005-02-28T00:00:00",
          "2005-02-21T00:00:00",
          "2005-02-14T00:00:00",
          "2005-02-07T00:00:00",
          "2005-01-31T00:00:00",
          "2005-01-24T00:00:00",
          "2005-01-17T00:00:00",
          "2005-01-10T00:00:00",
          "2005-01-03T00:00:00",
          "2004-12-27T00:00:00",
          "2004-12-20T00:00:00",
          "2004-12-13T00:00:00",
          "2004-12-06T00:00:00",
          "2004-11-29T00:00:00",
          "2004-11-22T00:00:00",
          "2004-11-15T00:00:00",
          "2004-11-08T00:00:00",
          "2004-11-01T00:00:00",
          "2004-10-25T00:00:00",
          "2004-10-18T00:00:00",
          "2004-10-11T00:00:00",
          "2004-10-04T00:00:00",
          "2004-09-27T00:00:00",
          "2004-09-20T00:00:00",
          "2004-09-13T00:00:00",
          "2004-09-06T00:00:00",
          "2004-08-30T00:00:00",
          "2004-08-23T00:00:00",
          "2004-08-16T00:00:00",
          "2004-08-09T00:00:00",
          "2004-08-02T00:00:00",
          "2004-07-26T00:00:00",
          "2004-07-19T00:00:00",
          "2004-07-12T00:00:00",
          "2004-07-05T00:00:00",
          "2004-06-28T00:00:00",
          "2004-06-21T00:00:00",
          "2004-06-14T00:00:00",
          "2004-06-07T00:00:00",
          "2004-05-31T00:00:00",
          "2004-05-24T00:00:00",
          "2004-05-17T00:00:00",
          "2004-05-10T00:00:00",
          "2004-05-03T00:00:00",
          "2004-04-26T00:00:00",
          "2004-04-19T00:00:00",
          "2004-04-12T00:00:00",
          "2004-04-05T00:00:00",
          "2004-03-29T00:00:00",
          "2004-03-22T00:00:00",
          "2004-03-15T00:00:00",
          "2004-03-08T00:00:00",
          "2004-03-01T00:00:00",
          "2004-02-23T00:00:00",
          "2004-02-16T00:00:00",
          "2004-02-09T00:00:00",
          "2004-02-02T00:00:00",
          "2004-01-26T00:00:00",
          "2004-01-19T00:00:00",
          "2004-01-12T00:00:00",
          "2004-01-05T00:00:00",
          "2003-12-29T00:00:00",
          "2003-12-22T00:00:00",
          "2003-12-15T00:00:00",
          "2003-12-08T00:00:00",
          "2003-12-01T00:00:00",
          "2003-11-24T00:00:00",
          "2003-11-17T00:00:00",
          "2003-11-10T00:00:00",
          "2003-11-03T00:00:00",
          "2003-10-27T00:00:00",
          "2003-10-20T00:00:00",
          "2003-10-13T00:00:00",
          "2003-10-06T00:00:00",
          "2003-09-29T00:00:00",
          "2003-09-22T00:00:00",
          "2003-09-15T00:00:00",
          "2003-09-08T00:00:00",
          "2003-09-01T00:00:00",
          "2003-08-25T00:00:00",
          "2003-08-18T00:00:00",
          "2003-08-11T00:00:00",
          "2003-08-04T00:00:00",
          "2003-07-28T00:00:00",
          "2003-07-21T00:00:00",
          "2003-07-14T00:00:00",
          "2003-07-07T00:00:00",
          "2003-06-30T00:00:00",
          "2003-06-23T00:00:00",
          "2003-06-16T00:00:00",
          "2003-06-09T00:00:00",
          "2003-06-02T00:00:00",
          "2003-05-26T00:00:00",
          "2003-05-19T00:00:00",
          "2003-05-12T00:00:00",
          "2003-05-05T00:00:00",
          "2003-04-28T00:00:00",
          "2003-04-21T00:00:00",
          "2003-04-14T00:00:00",
          "2003-04-07T00:00:00",
          "2003-03-31T00:00:00",
          "2003-03-24T00:00:00",
          "2003-03-17T00:00:00",
          "2003-03-10T00:00:00",
          "2003-03-03T00:00:00",
          "2003-02-24T00:00:00",
          "2003-02-17T00:00:00",
          "2003-02-10T00:00:00",
          "2003-02-03T00:00:00",
          "2003-01-27T00:00:00",
          "2003-01-20T00:00:00",
          "2003-01-13T00:00:00",
          "2003-01-06T00:00:00",
          "2002-12-30T00:00:00",
          "2002-12-23T00:00:00",
          "2002-12-16T00:00:00",
          "2002-12-09T00:00:00",
          "2002-12-02T00:00:00",
          "2002-11-25T00:00:00",
          "2002-11-18T00:00:00",
          "2002-11-11T00:00:00",
          "2002-11-04T00:00:00",
          "2002-10-28T00:00:00",
          "2002-10-21T00:00:00",
          "2002-10-14T00:00:00",
          "2002-10-07T00:00:00",
          "2002-09-30T00:00:00",
          "2002-09-23T00:00:00",
          "2002-09-16T00:00:00",
          "2002-09-09T00:00:00",
          "2002-09-02T00:00:00",
          "2002-08-26T00:00:00",
          "2002-08-19T00:00:00",
          "2002-08-12T00:00:00",
          "2002-08-05T00:00:00",
          "2002-07-29T00:00:00",
          "2002-07-22T00:00:00",
          "2002-07-15T00:00:00",
          "2002-07-08T00:00:00",
          "2002-07-01T00:00:00",
          "2002-06-24T00:00:00",
          "2002-06-17T00:00:00",
          "2002-06-10T00:00:00",
          "2002-06-03T00:00:00",
          "2002-05-27T00:00:00",
          "2002-05-20T00:00:00",
          "2002-05-13T00:00:00",
          "2002-05-06T00:00:00",
          "2002-04-29T00:00:00",
          "2002-04-22T00:00:00",
          "2002-04-15T00:00:00",
          "2002-04-08T00:00:00",
          "2002-04-01T00:00:00",
          "2002-03-25T00:00:00",
          "2002-03-18T00:00:00",
          "2002-03-11T00:00:00",
          "2002-03-04T00:00:00",
          "2002-02-25T00:00:00",
          "2002-02-18T00:00:00",
          "2002-02-11T00:00:00",
          "2002-02-04T00:00:00",
          "2002-01-28T00:00:00",
          "2002-01-21T00:00:00",
          "2002-01-14T00:00:00",
          "2002-01-07T00:00:00",
          "2001-12-31T00:00:00",
          "2001-12-24T00:00:00",
          "2001-12-17T00:00:00",
          "2001-12-10T00:00:00",
          "2001-12-03T00:00:00",
          "2001-11-26T00:00:00",
          "2001-11-19T00:00:00",
          "2001-11-12T00:00:00",
          "2001-11-05T00:00:00",
          "2001-10-29T00:00:00",
          "2001-10-22T00:00:00",
          "2001-10-15T00:00:00",
          "2001-10-08T00:00:00",
          "2001-10-01T00:00:00",
          "2001-09-24T00:00:00",
          "2001-09-17T00:00:00",
          "2001-09-10T00:00:00",
          "2001-09-03T00:00:00",
          "2001-08-27T00:00:00",
          "2001-08-20T00:00:00",
          "2001-08-13T00:00:00",
          "2001-08-06T00:00:00",
          "2001-07-30T00:00:00",
          "2001-07-23T00:00:00",
          "2001-07-16T00:00:00",
          "2001-07-09T00:00:00",
          "2001-07-02T00:00:00",
          "2001-06-25T00:00:00",
          "2001-06-18T00:00:00",
          "2001-06-11T00:00:00",
          "2001-06-04T00:00:00",
          "2001-05-28T00:00:00",
          "2001-05-21T00:00:00",
          "2001-05-14T00:00:00",
          "2001-05-07T00:00:00",
          "2001-04-30T00:00:00",
          "2001-04-23T00:00:00",
          "2001-04-16T00:00:00",
          "2001-04-09T00:00:00",
          "2001-04-02T00:00:00",
          "2001-03-26T00:00:00",
          "2001-03-19T00:00:00",
          "2001-03-12T00:00:00",
          "2001-03-05T00:00:00",
          "2001-02-26T00:00:00",
          "2001-02-19T00:00:00",
          "2001-02-12T00:00:00",
          "2001-02-05T00:00:00",
          "2001-01-29T00:00:00",
          "2001-01-22T00:00:00",
          "2001-01-15T00:00:00",
          "2001-01-08T00:00:00",
          "2001-01-01T00:00:00",
          "2000-12-25T00:00:00",
          "2000-12-18T00:00:00",
          "2000-12-11T00:00:00",
          "2000-12-04T00:00:00",
          "2000-11-27T00:00:00",
          "2000-11-20T00:00:00",
          "2000-11-13T00:00:00",
          "2000-11-06T00:00:00",
          "2000-10-30T00:00:00",
          "2000-10-23T00:00:00",
          "2000-10-16T00:00:00",
          "2000-10-09T00:00:00",
          "2000-10-02T00:00:00",
          "2000-09-25T00:00:00",
          "2000-09-18T00:00:00",
          "2000-09-11T00:00:00",
          "2000-09-04T00:00:00",
          "2000-08-28T00:00:00",
          "2000-08-21T00:00:00",
          "2000-08-14T00:00:00",
          "2000-08-07T00:00:00",
          "2000-07-31T00:00:00",
          "2000-07-24T00:00:00",
          "2000-07-17T00:00:00",
          "2000-07-10T00:00:00",
          "2000-07-03T00:00:00",
          "2000-06-26T00:00:00",
          "2000-06-19T00:00:00",
          "2000-06-12T00:00:00",
          "2000-06-05T00:00:00",
          "2000-05-29T00:00:00",
          "2000-05-22T00:00:00",
          "2000-05-15T00:00:00",
          "2000-05-08T00:00:00",
          "2000-05-01T00:00:00",
          "2000-04-24T00:00:00",
          "2000-04-17T00:00:00",
          "2000-04-10T00:00:00",
          "2000-04-03T00:00:00",
          "2000-03-27T00:00:00",
          "2000-03-20T00:00:00",
          "2000-03-13T00:00:00",
          "2000-03-06T00:00:00",
          "2000-02-28T00:00:00",
          "2000-02-21T00:00:00",
          "2000-02-14T00:00:00",
          "2000-02-07T00:00:00",
          "2000-01-31T00:00:00",
          "2000-01-24T00:00:00",
          "2000-01-17T00:00:00",
          "2000-01-10T00:00:00",
          "2000-01-03T00:00:00",
          "1999-12-27T00:00:00",
          "1999-12-20T00:00:00",
          "1999-12-13T00:00:00",
          "1999-12-06T00:00:00",
          "1999-11-29T00:00:00",
          "1999-11-22T00:00:00",
          "1999-11-15T00:00:00",
          "1999-11-08T00:00:00",
          "1999-11-01T00:00:00",
          "1999-10-25T00:00:00",
          "1999-10-18T00:00:00",
          "1999-10-11T00:00:00",
          "1999-10-04T00:00:00",
          "1999-09-27T00:00:00",
          "1999-09-20T00:00:00",
          "1999-09-13T00:00:00",
          "1999-09-06T00:00:00",
          "1999-08-30T00:00:00",
          "1999-08-23T00:00:00",
          "1999-08-16T00:00:00",
          "1999-08-09T00:00:00",
          "1999-08-02T00:00:00",
          "1999-07-26T00:00:00",
          "1999-07-19T00:00:00",
          "1999-07-12T00:00:00",
          "1999-07-05T00:00:00",
          "1999-06-28T00:00:00",
          "1999-06-21T00:00:00",
          "1999-06-14T00:00:00",
          "1999-06-07T00:00:00",
          "1999-05-31T00:00:00",
          "1999-05-24T00:00:00",
          "1999-05-17T00:00:00",
          "1999-05-10T00:00:00",
          "1999-05-03T00:00:00",
          "1999-04-26T00:00:00",
          "1999-04-19T00:00:00",
          "1999-04-12T00:00:00",
          "1999-04-05T00:00:00",
          "1999-03-29T00:00:00",
          "1999-03-22T00:00:00",
          "1999-03-15T00:00:00",
          "1999-03-08T00:00:00",
          "1999-03-01T00:00:00",
          "1999-02-22T00:00:00",
          "1999-02-15T00:00:00",
          "1999-02-08T00:00:00",
          "1999-02-01T00:00:00",
          "1999-01-25T00:00:00",
          "1999-01-18T00:00:00",
          "1999-01-11T00:00:00",
          "1999-01-04T00:00:00",
          "1998-12-28T00:00:00",
          "1998-12-21T00:00:00",
          "1998-12-14T00:00:00",
          "1998-12-07T00:00:00",
          "1998-11-30T00:00:00",
          "1998-11-23T00:00:00",
          "1998-11-16T00:00:00",
          "1998-11-09T00:00:00",
          "1998-11-02T00:00:00",
          "1998-10-26T00:00:00",
          "1998-10-19T00:00:00",
          "1998-10-12T00:00:00",
          "1998-10-05T00:00:00",
          "1998-09-28T00:00:00",
          "1998-09-21T00:00:00",
          "1998-09-14T00:00:00",
          "1998-09-07T00:00:00",
          "1998-08-31T00:00:00",
          "1998-08-24T00:00:00",
          "1998-08-17T00:00:00",
          "1998-08-10T00:00:00",
          "1998-08-03T00:00:00",
          "1998-07-27T00:00:00",
          "1998-07-20T00:00:00",
          "1998-07-13T00:00:00",
          "1998-07-06T00:00:00",
          "1998-06-29T00:00:00",
          "1998-06-22T00:00:00",
          "1998-06-15T00:00:00",
          "1998-06-08T00:00:00",
          "1998-06-01T00:00:00",
          "1998-05-25T00:00:00",
          "1998-05-18T00:00:00",
          "1998-05-11T00:00:00",
          "1998-05-04T00:00:00",
          "1998-04-27T00:00:00",
          "1998-04-20T00:00:00",
          "1998-04-13T00:00:00",
          "1998-04-06T00:00:00",
          "1998-03-30T00:00:00",
          "1998-03-23T00:00:00",
          "1998-03-16T00:00:00",
          "1998-03-09T00:00:00",
          "1998-03-02T00:00:00",
          "1998-02-23T00:00:00",
          "1998-02-16T00:00:00",
          "1998-02-09T00:00:00",
          "1998-02-02T00:00:00",
          "1998-01-26T00:00:00",
          "1998-01-19T00:00:00",
          "1998-01-12T00:00:00",
          "1998-01-05T00:00:00",
          "1997-12-29T00:00:00",
          "1997-12-22T00:00:00",
          "1997-12-15T00:00:00",
          "1997-12-08T00:00:00",
          "1997-12-01T00:00:00",
          "1997-11-24T00:00:00",
          "1997-11-17T00:00:00",
          "1997-11-10T00:00:00",
          "1997-11-03T00:00:00",
          "1997-10-27T00:00:00",
          "1997-10-20T00:00:00",
          "1997-10-13T00:00:00",
          "1997-10-06T00:00:00",
          "1997-09-29T00:00:00",
          "1997-09-22T00:00:00",
          "1997-09-15T00:00:00",
          "1997-09-08T00:00:00",
          "1997-09-01T00:00:00",
          "1997-08-25T00:00:00",
          "1997-08-18T00:00:00",
          "1997-08-11T00:00:00",
          "1997-08-04T00:00:00",
          "1997-07-28T00:00:00",
          "1997-07-21T00:00:00",
          "1997-07-14T00:00:00",
          "1997-07-07T00:00:00",
          "1997-06-30T00:00:00",
          "1997-06-23T00:00:00",
          "1997-06-16T00:00:00",
          "1997-06-09T00:00:00",
          "1997-06-02T00:00:00",
          "1997-05-26T00:00:00",
          "1997-05-19T00:00:00",
          "1997-05-12T00:00:00",
          "1997-05-05T00:00:00",
          "1997-04-28T00:00:00",
          "1997-04-21T00:00:00",
          "1997-04-14T00:00:00",
          "1997-04-07T00:00:00",
          "1997-03-31T00:00:00",
          "1997-03-24T00:00:00",
          "1997-03-17T00:00:00",
          "1997-03-10T00:00:00",
          "1997-03-03T00:00:00",
          "1997-02-24T00:00:00",
          "1997-02-17T00:00:00",
          "1997-02-10T00:00:00",
          "1997-02-03T00:00:00",
          "1997-01-27T00:00:00",
          "1997-01-20T00:00:00",
          "1997-01-13T00:00:00",
          "1997-01-06T00:00:00",
          "1996-12-30T00:00:00",
          "1996-12-23T00:00:00",
          "1996-12-16T00:00:00",
          "1996-12-09T00:00:00",
          "1996-12-02T00:00:00",
          "1996-11-25T00:00:00",
          "1996-11-18T00:00:00",
          "1996-11-11T00:00:00",
          "1996-11-04T00:00:00",
          "1996-10-28T00:00:00",
          "1996-10-21T00:00:00",
          "1996-10-14T00:00:00",
          "1996-10-07T00:00:00",
          "1996-09-30T00:00:00",
          "1996-09-23T00:00:00",
          "1996-09-16T00:00:00",
          "1996-09-09T00:00:00",
          "1996-09-02T00:00:00",
          "1996-08-26T00:00:00",
          "1996-08-19T00:00:00",
          "1996-08-12T00:00:00",
          "1996-08-05T00:00:00",
          "1996-07-29T00:00:00",
          "1996-07-22T00:00:00",
          "1996-07-15T00:00:00",
          "1996-07-08T00:00:00",
          "1996-07-01T00:00:00",
          "1996-06-24T00:00:00",
          "1996-06-17T00:00:00",
          "1996-06-10T00:00:00",
          "1996-06-03T00:00:00",
          "1996-05-27T00:00:00",
          "1996-05-20T00:00:00",
          "1996-05-13T00:00:00",
          "1996-05-06T00:00:00",
          "1996-04-29T00:00:00",
          "1996-04-22T00:00:00",
          "1996-04-15T00:00:00",
          "1996-04-08T00:00:00",
          "1996-04-01T00:00:00",
          "1996-03-25T00:00:00",
          "1996-03-18T00:00:00",
          "1996-03-11T00:00:00",
          "1996-03-04T00:00:00",
          "1996-02-26T00:00:00",
          "1996-02-19T00:00:00",
          "1996-02-12T00:00:00",
          "1996-02-05T00:00:00",
          "1996-01-29T00:00:00",
          "1996-01-22T00:00:00",
          "1996-01-15T00:00:00",
          "1996-01-08T00:00:00",
          "1996-01-01T00:00:00",
          "1995-12-25T00:00:00",
          "1995-12-18T00:00:00",
          "1995-12-11T00:00:00",
          "1995-12-04T00:00:00",
          "1995-11-27T00:00:00",
          "1995-11-20T00:00:00",
          "1995-11-13T00:00:00",
          "1995-11-06T00:00:00",
          "1995-10-30T00:00:00",
          "1995-10-23T00:00:00",
          "1995-10-16T00:00:00",
          "1995-10-09T00:00:00",
          "1995-10-02T00:00:00",
          "1995-09-25T00:00:00",
          "1995-09-18T00:00:00",
          "1995-09-11T00:00:00",
          "1995-09-04T00:00:00",
          "1995-08-28T00:00:00",
          "1995-08-21T00:00:00",
          "1995-08-14T00:00:00",
          "1995-08-07T00:00:00",
          "1995-07-31T00:00:00",
          "1995-07-24T00:00:00",
          "1995-07-17T00:00:00",
          "1995-07-10T00:00:00",
          "1995-07-03T00:00:00",
          "1995-06-26T00:00:00",
          "1995-06-19T00:00:00",
          "1995-06-12T00:00:00",
          "1995-06-05T00:00:00",
          "1995-05-29T00:00:00",
          "1995-05-22T00:00:00",
          "1995-05-15T00:00:00",
          "1995-05-08T00:00:00",
          "1995-05-01T00:00:00",
          "1995-04-24T00:00:00",
          "1995-04-17T00:00:00",
          "1995-04-10T00:00:00",
          "1995-04-03T00:00:00",
          "1995-03-27T00:00:00",
          "1995-03-20T00:00:00",
          "1995-03-13T00:00:00",
          "1995-03-06T00:00:00",
          "1995-02-27T00:00:00",
          "1995-02-20T00:00:00",
          "1995-02-13T00:00:00",
          "1995-02-06T00:00:00",
          "1995-01-30T00:00:00",
          "1995-01-23T00:00:00",
          "1995-01-16T00:00:00",
          "1995-01-09T00:00:00",
          "1995-01-02T00:00:00",
          "1994-12-26T00:00:00",
          "1994-12-19T00:00:00",
          "1994-12-12T00:00:00",
          "1994-12-05T00:00:00",
          "1994-11-28T00:00:00",
          "1994-11-21T00:00:00",
          "1994-11-14T00:00:00",
          "1994-11-07T00:00:00",
          "1994-10-31T00:00:00",
          "1994-10-24T00:00:00",
          "1994-10-17T00:00:00",
          "1994-10-10T00:00:00",
          "1994-10-03T00:00:00",
          "1994-09-26T00:00:00",
          "1994-09-19T00:00:00",
          "1994-09-12T00:00:00",
          "1994-09-05T00:00:00",
          "1994-08-29T00:00:00",
          "1994-08-22T00:00:00",
          "1994-08-15T00:00:00",
          "1994-08-08T00:00:00",
          "1994-08-01T00:00:00",
          "1994-07-25T00:00:00",
          "1994-07-18T00:00:00",
          "1994-07-11T00:00:00",
          "1994-07-04T00:00:00",
          "1994-06-27T00:00:00",
          "1994-06-20T00:00:00",
          "1994-06-13T00:00:00",
          "1994-06-06T00:00:00",
          "1994-05-30T00:00:00",
          "1994-05-23T00:00:00",
          "1994-05-16T00:00:00",
          "1994-05-09T00:00:00",
          "1994-05-02T00:00:00",
          "1994-04-25T00:00:00",
          "1994-04-18T00:00:00",
          "1994-04-11T00:00:00",
          "1994-04-04T00:00:00",
          "1994-03-28T00:00:00",
          "1994-03-21T00:00:00",
          "1994-03-14T00:00:00",
          "1994-03-07T00:00:00",
          "1994-02-28T00:00:00",
          "1994-02-21T00:00:00",
          "1994-02-14T00:00:00",
          "1994-02-07T00:00:00",
          "1994-01-31T00:00:00",
          "1994-01-24T00:00:00",
          "1994-01-17T00:00:00",
          "1994-01-10T00:00:00",
          "1994-01-03T00:00:00",
          "1993-12-27T00:00:00",
          "1993-12-20T00:00:00",
          "1993-12-13T00:00:00",
          "1993-12-06T00:00:00",
          "1993-11-29T00:00:00",
          "1993-11-22T00:00:00",
          "1993-11-15T00:00:00",
          "1993-11-08T00:00:00",
          "1993-11-01T00:00:00",
          "1993-10-25T00:00:00",
          "1993-10-18T00:00:00",
          "1993-10-11T00:00:00",
          "1993-10-04T00:00:00",
          "1993-09-27T00:00:00",
          "1993-09-20T00:00:00",
          "1993-09-13T00:00:00",
          "1993-09-06T00:00:00",
          "1993-08-30T00:00:00",
          "1993-08-23T00:00:00",
          "1993-08-16T00:00:00",
          "1993-08-09T00:00:00",
          "1993-08-02T00:00:00",
          "1993-07-26T00:00:00",
          "1993-07-19T00:00:00",
          "1993-07-12T00:00:00",
          "1993-07-05T00:00:00",
          "1993-06-28T00:00:00",
          "1993-06-21T00:00:00",
          "1993-06-14T00:00:00",
          "1993-06-07T00:00:00",
          "1993-05-31T00:00:00",
          "1993-05-24T00:00:00",
          "1993-05-17T00:00:00",
          "1993-05-10T00:00:00",
          "1993-05-03T00:00:00",
          "1993-04-26T00:00:00",
          "1993-04-19T00:00:00",
          "1993-04-12T00:00:00",
          "1993-04-05T00:00:00",
          "1993-03-29T00:00:00",
          "1993-03-22T00:00:00",
          "1993-03-15T00:00:00",
          "1993-03-08T00:00:00",
          "1993-03-01T00:00:00",
          "1993-02-22T00:00:00",
          "1993-02-15T00:00:00",
          "1993-02-08T00:00:00",
          "1993-02-01T00:00:00",
          "1993-01-25T00:00:00",
          "1993-01-18T00:00:00",
          "1993-01-11T00:00:00",
          "1993-01-04T00:00:00",
          "1992-12-28T00:00:00",
          "1992-12-21T00:00:00",
          "1992-12-14T00:00:00",
          "1992-12-07T00:00:00",
          "1992-11-30T00:00:00",
          "1992-11-23T00:00:00",
          "1992-11-16T00:00:00",
          "1992-11-09T00:00:00",
          "1992-11-02T00:00:00",
          "1992-10-26T00:00:00",
          "1992-10-19T00:00:00",
          "1992-10-12T00:00:00",
          "1992-10-05T00:00:00",
          "1992-09-28T00:00:00",
          "1992-09-21T00:00:00",
          "1992-09-14T00:00:00",
          "1992-09-07T00:00:00",
          "1992-08-31T00:00:00",
          "1992-08-24T00:00:00",
          "1992-08-17T00:00:00",
          "1992-08-10T00:00:00",
          "1992-08-03T00:00:00",
          "1992-07-27T00:00:00",
          "1992-07-20T00:00:00",
          "1992-07-13T00:00:00",
          "1992-07-06T00:00:00",
          "1992-06-29T00:00:00",
          "1992-06-22T00:00:00",
          "1992-06-15T00:00:00",
          "1992-06-08T00:00:00",
          "1992-06-01T00:00:00",
          "1992-05-25T00:00:00",
          "1992-05-18T00:00:00",
          "1992-05-11T00:00:00",
          "1992-05-04T00:00:00",
          "1992-04-27T00:00:00",
          "1992-04-20T00:00:00",
          "1992-04-13T00:00:00",
          "1992-04-06T00:00:00",
          "1992-03-30T00:00:00",
          "1992-03-23T00:00:00",
          "1992-03-16T00:00:00",
          "1992-03-09T00:00:00",
          "1992-03-02T00:00:00",
          "1992-02-24T00:00:00",
          "1992-02-17T00:00:00",
          "1992-02-10T00:00:00",
          "1992-02-03T00:00:00",
          "1992-01-27T00:00:00",
          "1992-01-20T00:00:00",
          "1992-01-13T00:00:00",
          "1992-01-06T00:00:00",
          "1991-12-30T00:00:00",
          "1991-12-23T00:00:00",
          "1991-12-16T00:00:00",
          "1991-12-09T00:00:00",
          "1991-12-02T00:00:00",
          "1991-11-25T00:00:00",
          "1991-11-18T00:00:00",
          "1991-11-11T00:00:00",
          "1991-11-04T00:00:00",
          "1991-10-28T00:00:00",
          "1991-10-21T00:00:00",
          "1991-10-14T00:00:00",
          "1991-10-07T00:00:00",
          "1991-09-30T00:00:00",
          "1991-09-23T00:00:00",
          "1991-09-16T00:00:00",
          "1991-09-09T00:00:00",
          "1991-09-02T00:00:00",
          "1991-08-26T00:00:00",
          "1991-08-19T00:00:00",
          "1991-08-12T00:00:00",
          "1991-08-05T00:00:00",
          "1991-07-29T00:00:00",
          "1991-07-22T00:00:00",
          "1991-07-15T00:00:00",
          "1991-07-08T00:00:00",
          "1991-07-01T00:00:00",
          "1991-06-24T00:00:00",
          "1991-06-17T00:00:00",
          "1991-06-10T00:00:00",
          "1991-06-03T00:00:00",
          "1991-05-27T00:00:00",
          "1991-05-20T00:00:00",
          "1991-05-13T00:00:00",
          "1991-05-06T00:00:00",
          "1991-04-29T00:00:00",
          "1991-04-22T00:00:00",
          "1991-04-15T00:00:00",
          "1991-04-08T00:00:00",
          "1991-04-01T00:00:00",
          "1991-03-25T00:00:00",
          "1991-03-18T00:00:00",
          "1991-03-11T00:00:00",
          "1991-03-04T00:00:00",
          "1991-02-25T00:00:00",
          "1991-02-18T00:00:00",
          "1991-02-11T00:00:00",
          "1991-02-04T00:00:00",
          "1991-01-28T00:00:00",
          "1991-01-21T00:00:00",
          "1990-12-03T00:00:00",
          "1990-11-26T00:00:00",
          "1990-11-19T00:00:00",
          "1990-11-12T00:00:00",
          "1990-11-05T00:00:00",
          "1990-10-29T00:00:00",
          "1990-10-22T00:00:00",
          "1990-10-15T00:00:00",
          "1990-10-08T00:00:00",
          "1990-10-01T00:00:00",
          "1990-09-24T00:00:00",
          "1990-09-17T00:00:00",
          "1990-09-10T00:00:00",
          "1990-09-03T00:00:00",
          "1990-08-27T00:00:00",
          "1990-08-20T00:00:00"
         ],
         "xaxis": "x",
         "y": [
          2.767,
          2.763,
          2.777,
          2.771,
          2.78,
          2.766,
          2.684,
          2.625,
          2.549,
          2.409,
          2.372,
          2.316,
          2.298,
          2.285,
          2.232,
          2.16,
          2.158,
          2.137,
          2.063,
          2.063,
          2.022,
          2.009,
          2.018,
          2.004,
          2.021,
          2.053,
          2.064,
          2.084,
          2.091,
          2.088,
          2.078,
          2.091,
          2.122,
          2.135,
          2.09,
          2.077,
          2.078,
          2.085,
          2.085,
          2.099,
          2.113,
          2.1,
          2.094,
          2.048,
          2.017,
          1.947,
          1.883,
          1.87,
          1.776,
          1.75,
          1.68,
          1.655,
          1.694,
          1.735,
          1.8,
          1.886,
          2.007,
          2.139,
          2.272,
          2.324,
          2.373,
          2.337,
          2.324,
          2.358,
          2.412,
          2.448,
          2.482,
          2.494,
          2.488,
          2.447,
          2.448,
          2.478,
          2.485,
          2.469,
          2.473,
          2.493,
          2.485,
          2.469,
          2.512,
          2.495,
          2.513,
          2.518,
          2.561,
          2.454,
          2.45,
          2.461,
          2.471,
          2.501,
          2.524,
          2.588,
          2.615,
          2.653,
          2.682,
          2.644,
          2.608,
          2.541,
          2.553,
          2.62,
          2.691,
          2.696,
          2.723,
          2.735,
          2.771,
          2.761,
          2.723,
          2.725,
          2.65,
          2.611,
          2.544,
          2.477,
          2.399,
          2.352,
          2.311,
          2.23,
          2.187,
          2.162,
          2.162,
          2.147,
          2.143,
          2.128,
          2.156,
          2.216,
          2.268,
          2.325,
          2.35,
          2.445,
          2.525,
          2.604,
          2.67,
          2.732,
          2.763,
          2.806,
          2.829,
          2.796,
          2.779,
          2.771,
          2.765,
          2.759,
          2.761,
          2.755,
          2.774,
          2.781,
          2.772,
          2.754,
          2.79,
          2.774,
          2.762,
          2.745,
          2.79,
          2.822,
          2.849,
          2.877,
          2.834,
          2.786,
          2.733,
          2.741,
          2.696,
          2.644,
          2.587,
          2.592,
          2.541,
          2.494,
          2.455,
          2.462,
          2.442,
          2.455,
          2.511,
          2.544,
          2.516,
          2.482,
          2.473,
          2.429,
          2.436,
          2.384,
          2.358,
          2.401,
          2.41,
          2.444,
          2.48,
          2.504,
          2.468,
          2.41,
          2.406,
          2.413,
          2.426,
          2.493,
          2.508,
          2.559,
          2.61,
          2.604,
          2.322,
          2.273,
          2.301,
          2.29,
          2.269,
          2.224,
          2.188,
          2.21,
          2.163,
          2.201,
          2.224,
          2.276,
          2.325,
          2.308,
          2.306,
          2.283,
          2.288,
          2.331,
          2.372,
          2.356,
          2.351,
          2.281,
          2.228,
          2.238,
          2.242,
          2.264,
          2.233,
          2.224,
          2.228,
          2.221,
          2.224,
          2.258,
          2.298,
          2.328,
          2.319,
          2.254,
          2.203,
          2.174,
          2.137,
          2.079,
          2.078,
          2.105,
          2.157,
          2.159,
          2.175,
          2.198,
          2.216,
          2.184,
          2.166,
          2.17,
          2.138,
          2.17,
          2.187,
          2.136,
          2.096,
          2.087,
          2.091,
          2.105,
          2.148,
          2.171,
          2.205,
          2.25,
          2.29,
          2.343,
          2.328,
          2.281,
          2.235,
          2.17,
          2.143,
          2.168,
          2.08,
          2.053,
          1.981,
          1.994,
          1.976,
          1.935,
          1.888,
          1.782,
          1.715,
          1.661,
          1.638,
          1.663,
          1.729,
          1.752,
          1.81,
          1.888,
          1.922,
          1.933,
          1.929,
          1.953,
          1.969,
          1.974,
          2.015,
          2.11,
          2.172,
          2.17,
          2.166,
          2.22,
          2.283,
          2.252,
          2.246,
          2.237,
          2.28,
          2.337,
          2.406,
          2.534,
          2.608,
          2.505,
          2.555,
          2.605,
          2.661,
          2.694,
          2.702,
          2.713,
          2.72,
          2.744,
          2.668,
          2.656,
          2.642,
          2.604,
          2.547,
          2.517,
          2.451,
          2.393,
          2.317,
          2.315,
          2.348,
          2.347,
          2.339,
          2.367,
          2.36,
          2.256,
          2.206,
          2.133,
          2.013,
          1.982,
          1.999,
          2.066,
          2.136,
          2.229,
          2.341,
          2.499,
          2.634,
          2.738,
          2.781,
          2.856,
          2.907,
          2.956,
          3.016,
          3.07,
          3.147,
          3.246,
          3.304,
          3.296,
          3.352,
          3.406,
          3.41,
          3.397,
          3.408,
          3.447,
          3.449,
          3.468,
          3.523,
          3.56,
          3.605,
          3.635,
          3.639,
          3.621,
          3.61,
          3.624,
          3.607,
          3.593,
          3.597,
          3.606,
          3.635,
          3.612,
          3.581,
          3.533,
          3.521,
          3.487,
          3.489,
          3.452,
          3.421,
          3.394,
          3.326,
          3.257,
          3.243,
          3.241,
          3.24,
          3.267,
          3.261,
          3.264,
          3.198,
          3.165,
          3.208,
          3.209,
          3.241,
          3.161,
          3.133,
          3.209,
          3.235,
          3.31,
          3.296,
          3.298,
          3.354,
          3.425,
          3.475,
          3.54,
          3.575,
          3.504,
          3.496,
          3.493,
          3.566,
          3.57,
          3.612,
          3.57,
          3.413,
          3.41,
          3.498,
          3.577,
          3.619,
          3.61,
          3.601,
          3.636,
          3.543,
          3.478,
          3.455,
          3.472,
          3.469,
          3.539,
          3.572,
          3.616,
          3.633,
          3.644,
          3.698,
          3.722,
          3.69,
          3.537,
          3.471,
          3.296,
          3.254,
          3.236,
          3.233,
          3.245,
          3.205,
          3.198,
          3.297,
          3.337,
          3.382,
          3.36,
          3.372,
          3.406,
          3.48,
          3.582,
          3.713,
          3.742,
          3.75,
          3.775,
          3.832,
          3.799,
          3.797,
          3.722,
          3.682,
          3.662,
          3.606,
          3.45,
          3.435,
          3.364,
          3.357,
          3.291,
          3.378,
          3.473,
          3.489,
          3.518,
          3.575,
          3.622,
          3.658,
          3.718,
          3.764,
          3.805,
          3.867,
          3.877,
          3.874,
          3.843,
          3.787,
          3.747,
          3.717,
          3.641,
          3.523,
          3.466,
          3.436,
          3.386,
          3.333,
          3.342,
          3.333,
          3.254,
          3.213,
          3.183,
          3.244,
          3.24,
          3.248,
          3.312,
          3.388,
          3.37,
          3.405,
          3.415,
          3.431,
          3.368,
          3.381,
          3.461,
          3.56,
          3.629,
          3.643,
          3.601,
          3.552,
          3.576,
          3.646,
          3.684,
          3.667,
          3.648,
          3.608,
          3.534,
          3.513,
          3.597,
          3.664,
          3.738,
          3.741,
          3.788,
          3.905,
          3.907,
          3.906,
          3.817,
          3.787,
          3.743,
          3.635,
          3.538,
          3.507,
          3.517,
          3.473,
          3.341,
          3.141,
          3.095,
          3.094,
          3.061,
          3.074,
          3.068,
          3.052,
          3.034,
          3.015,
          2.934,
          2.937,
          2.917,
          2.805,
          2.828,
          2.849,
          2.832,
          2.76,
          2.772,
          2.795,
          2.793,
          2.705,
          2.668,
          2.703,
          2.695,
          2.647,
          2.64,
          2.653,
          2.696,
          2.74,
          2.687,
          2.703,
          2.672,
          2.666,
          2.676,
          2.712,
          2.696,
          2.652,
          2.674,
          2.679,
          2.741,
          2.823,
          2.87,
          2.864,
          2.815,
          2.831,
          2.829,
          2.795,
          2.765,
          2.792,
          2.76,
          2.721,
          2.671,
          2.621,
          2.563,
          2.611,
          2.618,
          2.666,
          2.703,
          2.717,
          2.627,
          2.564,
          2.546,
          2.56,
          2.601,
          2.594,
          2.603,
          2.585,
          2.627,
          2.66,
          2.641,
          2.532,
          2.432,
          2.396,
          2.425,
          2.477,
          2.499,
          2.519,
          2.553,
          2.572,
          2.58,
          2.596,
          2.511,
          2.46,
          2.411,
          2.479,
          2.563,
          2.593,
          2.65,
          2.639,
          2.6,
          2.502,
          2.414,
          2.281,
          2.218,
          2.045,
          2.016,
          2.031,
          2.025,
          2.011,
          2.03,
          1.944,
          1.885,
          1.918,
          1.91,
          1.868,
          1.931,
          1.897,
          1.871,
          1.813,
          1.832,
          1.772,
          1.672,
          1.59,
          1.635,
          1.648,
          1.681,
          1.79,
          1.857,
          2.027,
          2.17,
          2.34,
          2.589,
          2.855,
          3.109,
          3.485,
          3.644,
          3.732,
          3.867,
          3.637,
          3.667,
          3.66,
          3.706,
          3.764,
          3.828,
          3.896,
          4.005,
          4.054,
          4.051,
          4.027,
          4.002,
          4.007,
          3.979,
          3.932,
          3.913,
          3.762,
          3.694,
          3.571,
          3.566,
          3.467,
          3.35,
          3.299,
          3.259,
          3.224,
          3.257,
          3.2,
          3.137,
          3.115,
          3.035,
          2.947,
          2.966,
          2.953,
          2.991,
          3.041,
          3.088,
          3.028,
          2.943,
          2.962,
          2.957,
          3.029,
          3.072,
          3.077,
          3.101,
          3.007,
          2.859,
          2.806,
          2.746,
          2.761,
          2.784,
          2.816,
          2.792,
          2.84,
          2.818,
          2.756,
          2.783,
          2.752,
          2.816,
          2.849,
          2.938,
          3.046,
          2.971,
          2.933,
          2.951,
          2.974,
          3.04,
          3.132,
          3.195,
          3.211,
          3.069,
          3.002,
          2.922,
          2.811,
          2.822,
          2.746,
          2.636,
          2.54,
          2.511,
          2.499,
          2.46,
          2.338,
          2.251,
          2.198,
          2.151,
          2.119,
          2.107,
          2.173,
          2.258,
          2.296,
          2.303,
          2.29,
          2.267,
          2.277,
          2.221,
          2.218,
          2.216,
          2.189,
          2.204,
          2.186,
          2.195,
          2.222,
          2.263,
          2.32,
          2.441,
          2.563,
          2.68,
          2.8,
          2.877,
          2.958,
          3.004,
          2.955,
          2.95,
          2.928,
          2.91,
          2.873,
          2.796,
          2.793,
          2.833,
          2.811,
          2.784,
          2.801,
          2.871,
          2.834,
          2.866,
          2.881,
          2.764,
          2.663,
          2.567,
          2.479,
          2.495,
          2.355,
          2.321,
          2.236,
          2.205,
          2.246,
          2.31,
          2.332,
          2.314,
          2.297,
          2.321,
          2.236,
          2.188,
          2.205,
          2.175,
          2.127,
          2.124,
          2.168,
          2.258,
          2.336,
          2.438,
          2.564,
          2.693,
          2.828,
          2.922,
          2.767,
          2.73,
          2.912,
          3.037,
          2.581,
          2.583,
          2.519,
          2.323,
          2.239,
          2.235,
          2.272,
          2.292,
          2.189,
          2.186,
          2.128,
          2.099,
          2.078,
          2.051,
          2.077,
          2.116,
          2.137,
          2.191,
          2.197,
          2.198,
          2.251,
          2.196,
          2.137,
          2.095,
          2.039,
          1.979,
          1.904,
          1.878,
          1.873,
          1.89,
          1.896,
          1.839,
          1.802,
          1.771,
          1.745,
          1.754,
          1.777,
          1.799,
          1.868,
          1.903,
          1.901,
          1.918,
          1.951,
          1.986,
          1.98,
          1.984,
          1.949,
          1.902,
          1.895,
          1.839,
          1.813,
          1.815,
          1.827,
          1.854,
          1.842,
          1.839,
          1.846,
          1.861,
          1.888,
          1.869,
          1.835,
          1.859,
          1.873,
          1.926,
          1.983,
          2.004,
          2.026,
          1.979,
          1.904,
          1.811,
          1.774,
          1.773,
          1.74,
          1.737,
          1.716,
          1.698,
          1.675,
          1.69,
          1.664,
          1.641,
          1.617,
          1.609,
          1.591,
          1.604,
          1.579,
          1.544,
          1.492,
          1.454,
          1.459,
          1.433,
          1.441,
          1.454,
          1.478,
          1.459,
          1.464,
          1.494,
          1.499,
          1.527,
          1.515,
          1.511,
          1.524,
          1.58,
          1.636,
          1.653,
          1.688,
          1.693,
          1.594,
          1.55,
          1.516,
          1.488,
          1.496,
          1.489,
          1.448,
          1.443,
          1.451,
          1.48,
          1.456,
          1.428,
          1.439,
          1.444,
          1.427,
          1.441,
          1.486,
          1.504,
          1.521,
          1.557,
          1.577,
          1.626,
          1.673,
          1.663,
          1.641,
          1.617,
          1.63,
          1.582,
          1.499,
          1.437,
          1.422,
          1.423,
          1.412,
          1.417,
          1.371,
          1.322,
          1.316,
          1.316,
          1.336,
          1.37,
          1.406,
          1.427,
          1.427,
          1.443,
          1.422,
          1.416,
          1.385,
          1.357,
          1.367,
          1.355,
          1.353,
          1.365,
          1.357,
          1.355,
          1.355,
          1.376,
          1.381,
          1.361,
          1.345,
          1.357,
          1.342,
          1.335,
          1.332,
          1.353,
          1.348,
          1.36,
          1.349,
          1.356,
          1.353,
          1.367,
          1.368,
          1.382,
          1.339,
          1.308,
          1.262,
          1.194,
          1.118,
          1.087,
          1.089,
          1.085,
          1.098,
          1.081,
          1.087,
          1.099,
          1.109,
          1.096,
          1.063,
          1.042,
          1.075,
          1.084,
          1.097,
          1.14,
          1.147,
          1.17,
          1.193,
          1.221,
          1.264,
          1.31,
          1.381,
          1.46,
          1.516,
          1.511,
          1.538,
          1.48,
          1.399,
          1.347,
          1.319,
          1.319,
          1.318,
          1.33,
          1.35,
          1.384,
          1.454,
          1.526,
          1.58,
          1.63,
          1.656,
          1.637,
          1.663,
          1.659,
          1.585,
          1.586,
          1.535,
          1.469,
          1.411,
          1.379,
          1.377,
          1.387,
          1.393,
          1.41,
          1.429,
          1.46,
          1.426,
          1.446,
          1.456,
          1.458,
          1.4,
          1.377,
          1.388,
          1.396,
          1.425,
          1.464,
          1.489,
          1.487,
          1.501,
          1.502,
          1.523,
          1.532,
          1.516,
          1.473,
          1.498,
          1.525,
          1.539,
          1.535,
          1.502,
          1.456,
          1.444,
          1.42,
          1.437,
          1.447,
          1.499,
          1.521,
          1.571,
          1.606,
          1.641,
          1.664,
          1.607,
          1.535,
          1.509,
          1.494,
          1.466,
          1.427,
          1.386,
          1.406,
          1.415,
          1.447,
          1.478,
          1.484,
          1.508,
          1.511,
          1.49,
          1.413,
          1.4,
          1.35,
          1.319,
          1.307,
          1.307,
          1.268,
          1.252,
          1.26,
          1.263,
          1.257,
          1.263,
          1.26,
          1.262,
          1.258,
          1.24,
          1.222,
          1.218,
          1.225,
          1.22,
          1.234,
          1.242,
          1.248,
          1.252,
          1.234,
          1.223,
          1.214,
          1.212,
          1.214,
          1.183,
          1.172,
          1.172,
          1.148,
          1.123,
          1.11,
          1.095,
          1.105,
          1.088,
          1.092,
          1.088,
          1.101,
          1.112,
          1.109,
          1.107,
          1.099,
          1.103,
          1.107,
          1.087,
          1.055,
          0.999,
          0.958,
          0.9,
          0.891,
          0.885,
          0.899,
          0.907,
          0.908,
          0.913,
          0.921,
          0.92,
          0.913,
          0.914,
          0.921,
          0.923,
          0.933,
          0.954,
          0.971,
          0.981,
          0.994,
          0.997,
          1.001,
          1.007,
          1.01,
          1.006,
          0.999,
          0.999,
          0.987,
          0.991,
          0.998,
          1.004,
          1.011,
          1.018,
          1.023,
          1.035,
          1.044,
          1.037,
          1.041,
          1.042,
          1.041,
          1.049,
          1.06,
          1.047,
          1.052,
          1.055,
          1.052,
          1.038,
          1.032,
          1.021,
          1.018,
          1.023,
          1.026,
          0.998,
          1.006,
          1.017,
          1.025,
          1.038,
          1.032,
          1.045,
          1.051,
          1.055,
          1.072,
          1.083,
          1.089,
          1.099,
          1.108,
          1.118,
          1.128,
          1.14,
          1.15,
          1.156,
          1.164,
          1.163,
          1.168,
          1.178,
          1.187,
          1.195,
          1.195,
          1.208,
          1.219,
          1.227,
          1.229,
          1.23,
          1.218,
          1.219,
          1.185,
          1.164,
          1.17,
          1.165,
          1.169,
          1.171,
          1.179,
          1.189,
          1.198,
          1.206,
          1.204,
          1.195,
          1.182,
          1.182,
          1.185,
          1.188,
          1.187,
          1.192,
          1.191,
          1.196,
          1.191,
          1.199,
          1.208,
          1.217,
          1.22,
          1.227,
          1.23,
          1.232,
          1.236,
          1.235,
          1.22,
          1.224,
          1.227,
          1.233,
          1.241,
          1.242,
          1.246,
          1.238,
          1.229,
          1.225,
          1.217,
          1.205,
          1.203,
          1.191,
          1.199,
          1.203,
          1.203,
          1.201,
          1.193,
          1.201,
          1.199,
          1.196,
          1.199,
          1.209,
          1.215,
          1.215,
          1.217,
          1.219,
          1.23,
          1.241,
          1.247,
          1.252,
          1.26,
          1.269,
          1.262,
          1.259,
          1.257,
          1.243,
          1.234,
          1.195,
          1.172,
          1.158,
          1.128,
          1.116,
          1.115,
          1.099,
          1.078,
          1.073,
          1.076,
          1.079,
          1.084,
          1.092,
          1.086,
          1.077,
          1.075,
          1.072,
          1.057,
          1.058,
          1.057,
          1.056,
          1.059,
          1.06,
          1.062,
          1.073,
          1.081,
          1.092,
          1.1,
          1.106,
          1.106,
          1.107,
          1.111,
          1.113,
          1.122,
          1.121,
          1.124,
          1.126,
          1.138,
          1.148,
          1.159,
          1.169,
          1.177,
          1.183,
          1.19,
          1.194,
          1.193,
          1.191,
          1.173,
          1.164,
          1.141,
          1.133,
          1.11,
          1.094,
          1.077,
          1.063,
          1.055,
          1.056,
          1.063,
          1.06,
          1.052,
          1.058,
          1.062,
          1.068,
          1.068,
          1.062,
          1.07,
          1.063,
          1.044,
          1.056,
          1.064,
          1.075,
          1.082,
          1.113,
          1.122,
          1.123,
          1.121,
          1.107,
          1.106,
          1.114,
          1.12,
          1.129,
          1.14,
          1.15,
          1.156,
          1.161,
          1.165,
          1.161,
          1.157,
          1.13,
          1.114,
          1.109,
          1.103,
          1.097,
          1.095,
          1.079,
          1.073,
          1.065,
          1.056,
          1.05,
          1.046,
          1.045,
          1.04,
          1.037,
          1.033,
          1.028,
          1.011,
          1.012,
          1.007,
          1.005,
          1.007,
          1.004,
          1.009,
          1.016,
          1.007,
          1.005,
          0.999,
          1.001,
          0.995,
          0.992,
          0.999,
          1.003,
          1.018,
          1.036,
          1.051,
          1.058,
          1.064,
          1.075,
          1.084,
          1.092,
          1.093,
          1.09,
          1.092,
          1.047,
          1.045,
          1.051,
          1.055,
          1.062,
          1.065,
          1.059,
          1.06,
          1.062,
          1.069,
          1.075,
          1.081,
          1.086,
          1.089,
          1.095,
          1.101,
          1.104,
          1.107,
          1.106,
          1.106,
          1.097,
          1.086,
          1.086,
          1.079,
          1.079,
          1.068,
          1.057,
          1.056,
          1.058,
          1.048,
          1.042,
          1.047,
          1.053,
          1.062,
          1.055,
          1.055,
          1.061,
          1.066,
          1.065,
          1.069,
          1.074,
          1.078,
          1.089,
          1.098,
          1.106,
          1.112,
          1.12,
          1.12,
          1.113,
          1.113,
          1.115,
          1.115,
          1.118,
          1.123,
          1.124,
          1.121,
          1.121,
          1.123,
          1.116,
          1.123,
          1.126,
          1.128,
          1.132,
          1.139,
          1.147,
          1.149,
          1.153,
          1.151,
          1.143,
          1.128,
          1.12,
          1.118,
          1.102,
          1.089,
          1.072,
          1.058,
          1.051,
          1.026,
          1.013,
          1.015,
          1.01,
          1.013,
          1.012,
          1.014,
          1.011,
          1.004,
          0.995,
          1.006,
          1.014,
          1.026,
          1.042,
          1.053,
          1.063,
          1.075,
          1.091,
          1.099,
          1.099,
          1.104,
          1.102,
          1.091,
          1.091,
          1.088,
          1.084,
          1.089,
          1.092,
          1.097,
          1.11,
          1.12,
          1.127,
          1.124,
          1.124,
          1.112,
          1.099,
          1.091,
          1.091,
          1.094,
          1.098,
          1.104,
          1.114,
          1.126,
          1.135,
          1.138,
          1.14,
          1.129,
          1.121,
          1.113,
          1.104,
          1.09,
          1.069,
          1.066,
          1.052,
          1.047,
          1.043,
          1.045,
          1.025,
          1.054,
          1.078,
          1.106,
          1.139,
          1.168,
          1.192,
          1.341,
          1.311,
          1.323,
          1.328,
          1.334,
          1.339,
          1.345,
          1.339,
          1.333,
          1.321,
          1.272,
          1.266,
          1.252,
          1.242,
          1.245,
          1.191
         ],
         "yaxis": "y"
        }
       ],
       "layout": {
        "legend": {
         "tracegroupgap": 0
        },
        "template": {
         "data": {
          "bar": [
           {
            "error_x": {
             "color": "#2a3f5f"
            },
            "error_y": {
             "color": "#2a3f5f"
            },
            "marker": {
             "line": {
              "color": "#E5ECF6",
              "width": 0.5
             }
            },
            "type": "bar"
           }
          ],
          "barpolar": [
           {
            "marker": {
             "line": {
              "color": "#E5ECF6",
              "width": 0.5
             }
            },
            "type": "barpolar"
           }
          ],
          "carpet": [
           {
            "aaxis": {
             "endlinecolor": "#2a3f5f",
             "gridcolor": "white",
             "linecolor": "white",
             "minorgridcolor": "white",
             "startlinecolor": "#2a3f5f"
            },
            "baxis": {
             "endlinecolor": "#2a3f5f",
             "gridcolor": "white",
             "linecolor": "white",
             "minorgridcolor": "white",
             "startlinecolor": "#2a3f5f"
            },
            "type": "carpet"
           }
          ],
          "choropleth": [
           {
            "colorbar": {
             "outlinewidth": 0,
             "ticks": ""
            },
            "type": "choropleth"
           }
          ],
          "contour": [
           {
            "colorbar": {
             "outlinewidth": 0,
             "ticks": ""
            },
            "colorscale": [
             [
              0,
              "#0d0887"
             ],
             [
              0.1111111111111111,
              "#46039f"
             ],
             [
              0.2222222222222222,
              "#7201a8"
             ],
             [
              0.3333333333333333,
              "#9c179e"
             ],
             [
              0.4444444444444444,
              "#bd3786"
             ],
             [
              0.5555555555555556,
              "#d8576b"
             ],
             [
              0.6666666666666666,
              "#ed7953"
             ],
             [
              0.7777777777777778,
              "#fb9f3a"
             ],
             [
              0.8888888888888888,
              "#fdca26"
             ],
             [
              1,
              "#f0f921"
             ]
            ],
            "type": "contour"
           }
          ],
          "contourcarpet": [
           {
            "colorbar": {
             "outlinewidth": 0,
             "ticks": ""
            },
            "type": "contourcarpet"
           }
          ],
          "heatmap": [
           {
            "colorbar": {
             "outlinewidth": 0,
             "ticks": ""
            },
            "colorscale": [
             [
              0,
              "#0d0887"
             ],
             [
              0.1111111111111111,
              "#46039f"
             ],
             [
              0.2222222222222222,
              "#7201a8"
             ],
             [
              0.3333333333333333,
              "#9c179e"
             ],
             [
              0.4444444444444444,
              "#bd3786"
             ],
             [
              0.5555555555555556,
              "#d8576b"
             ],
             [
              0.6666666666666666,
              "#ed7953"
             ],
             [
              0.7777777777777778,
              "#fb9f3a"
             ],
             [
              0.8888888888888888,
              "#fdca26"
             ],
             [
              1,
              "#f0f921"
             ]
            ],
            "type": "heatmap"
           }
          ],
          "heatmapgl": [
           {
            "colorbar": {
             "outlinewidth": 0,
             "ticks": ""
            },
            "colorscale": [
             [
              0,
              "#0d0887"
             ],
             [
              0.1111111111111111,
              "#46039f"
             ],
             [
              0.2222222222222222,
              "#7201a8"
             ],
             [
              0.3333333333333333,
              "#9c179e"
             ],
             [
              0.4444444444444444,
              "#bd3786"
             ],
             [
              0.5555555555555556,
              "#d8576b"
             ],
             [
              0.6666666666666666,
              "#ed7953"
             ],
             [
              0.7777777777777778,
              "#fb9f3a"
             ],
             [
              0.8888888888888888,
              "#fdca26"
             ],
             [
              1,
              "#f0f921"
             ]
            ],
            "type": "heatmapgl"
           }
          ],
          "histogram": [
           {
            "marker": {
             "colorbar": {
              "outlinewidth": 0,
              "ticks": ""
             }
            },
            "type": "histogram"
           }
          ],
          "histogram2d": [
           {
            "colorbar": {
             "outlinewidth": 0,
             "ticks": ""
            },
            "colorscale": [
             [
              0,
              "#0d0887"
             ],
             [
              0.1111111111111111,
              "#46039f"
             ],
             [
              0.2222222222222222,
              "#7201a8"
             ],
             [
              0.3333333333333333,
              "#9c179e"
             ],
             [
              0.4444444444444444,
              "#bd3786"
             ],
             [
              0.5555555555555556,
              "#d8576b"
             ],
             [
              0.6666666666666666,
              "#ed7953"
             ],
             [
              0.7777777777777778,
              "#fb9f3a"
             ],
             [
              0.8888888888888888,
              "#fdca26"
             ],
             [
              1,
              "#f0f921"
             ]
            ],
            "type": "histogram2d"
           }
          ],
          "histogram2dcontour": [
           {
            "colorbar": {
             "outlinewidth": 0,
             "ticks": ""
            },
            "colorscale": [
             [
              0,
              "#0d0887"
             ],
             [
              0.1111111111111111,
              "#46039f"
             ],
             [
              0.2222222222222222,
              "#7201a8"
             ],
             [
              0.3333333333333333,
              "#9c179e"
             ],
             [
              0.4444444444444444,
              "#bd3786"
             ],
             [
              0.5555555555555556,
              "#d8576b"
             ],
             [
              0.6666666666666666,
              "#ed7953"
             ],
             [
              0.7777777777777778,
              "#fb9f3a"
             ],
             [
              0.8888888888888888,
              "#fdca26"
             ],
             [
              1,
              "#f0f921"
             ]
            ],
            "type": "histogram2dcontour"
           }
          ],
          "mesh3d": [
           {
            "colorbar": {
             "outlinewidth": 0,
             "ticks": ""
            },
            "type": "mesh3d"
           }
          ],
          "parcoords": [
           {
            "line": {
             "colorbar": {
              "outlinewidth": 0,
              "ticks": ""
             }
            },
            "type": "parcoords"
           }
          ],
          "pie": [
           {
            "automargin": true,
            "type": "pie"
           }
          ],
          "scatter": [
           {
            "marker": {
             "colorbar": {
              "outlinewidth": 0,
              "ticks": ""
             }
            },
            "type": "scatter"
           }
          ],
          "scatter3d": [
           {
            "line": {
             "colorbar": {
              "outlinewidth": 0,
              "ticks": ""
             }
            },
            "marker": {
             "colorbar": {
              "outlinewidth": 0,
              "ticks": ""
             }
            },
            "type": "scatter3d"
           }
          ],
          "scattercarpet": [
           {
            "marker": {
             "colorbar": {
              "outlinewidth": 0,
              "ticks": ""
             }
            },
            "type": "scattercarpet"
           }
          ],
          "scattergeo": [
           {
            "marker": {
             "colorbar": {
              "outlinewidth": 0,
              "ticks": ""
             }
            },
            "type": "scattergeo"
           }
          ],
          "scattergl": [
           {
            "marker": {
             "colorbar": {
              "outlinewidth": 0,
              "ticks": ""
             }
            },
            "type": "scattergl"
           }
          ],
          "scattermapbox": [
           {
            "marker": {
             "colorbar": {
              "outlinewidth": 0,
              "ticks": ""
             }
            },
            "type": "scattermapbox"
           }
          ],
          "scatterpolar": [
           {
            "marker": {
             "colorbar": {
              "outlinewidth": 0,
              "ticks": ""
             }
            },
            "type": "scatterpolar"
           }
          ],
          "scatterpolargl": [
           {
            "marker": {
             "colorbar": {
              "outlinewidth": 0,
              "ticks": ""
             }
            },
            "type": "scatterpolargl"
           }
          ],
          "scatterternary": [
           {
            "marker": {
             "colorbar": {
              "outlinewidth": 0,
              "ticks": ""
             }
            },
            "type": "scatterternary"
           }
          ],
          "surface": [
           {
            "colorbar": {
             "outlinewidth": 0,
             "ticks": ""
            },
            "colorscale": [
             [
              0,
              "#0d0887"
             ],
             [
              0.1111111111111111,
              "#46039f"
             ],
             [
              0.2222222222222222,
              "#7201a8"
             ],
             [
              0.3333333333333333,
              "#9c179e"
             ],
             [
              0.4444444444444444,
              "#bd3786"
             ],
             [
              0.5555555555555556,
              "#d8576b"
             ],
             [
              0.6666666666666666,
              "#ed7953"
             ],
             [
              0.7777777777777778,
              "#fb9f3a"
             ],
             [
              0.8888888888888888,
              "#fdca26"
             ],
             [
              1,
              "#f0f921"
             ]
            ],
            "type": "surface"
           }
          ],
          "table": [
           {
            "cells": {
             "fill": {
              "color": "#EBF0F8"
             },
             "line": {
              "color": "white"
             }
            },
            "header": {
             "fill": {
              "color": "#C8D4E3"
             },
             "line": {
              "color": "white"
             }
            },
            "type": "table"
           }
          ]
         },
         "layout": {
          "annotationdefaults": {
           "arrowcolor": "#2a3f5f",
           "arrowhead": 0,
           "arrowwidth": 1
          },
          "autotypenumbers": "strict",
          "coloraxis": {
           "colorbar": {
            "outlinewidth": 0,
            "ticks": ""
           }
          },
          "colorscale": {
           "diverging": [
            [
             0,
             "#8e0152"
            ],
            [
             0.1,
             "#c51b7d"
            ],
            [
             0.2,
             "#de77ae"
            ],
            [
             0.3,
             "#f1b6da"
            ],
            [
             0.4,
             "#fde0ef"
            ],
            [
             0.5,
             "#f7f7f7"
            ],
            [
             0.6,
             "#e6f5d0"
            ],
            [
             0.7,
             "#b8e186"
            ],
            [
             0.8,
             "#7fbc41"
            ],
            [
             0.9,
             "#4d9221"
            ],
            [
             1,
             "#276419"
            ]
           ],
           "sequential": [
            [
             0,
             "#0d0887"
            ],
            [
             0.1111111111111111,
             "#46039f"
            ],
            [
             0.2222222222222222,
             "#7201a8"
            ],
            [
             0.3333333333333333,
             "#9c179e"
            ],
            [
             0.4444444444444444,
             "#bd3786"
            ],
            [
             0.5555555555555556,
             "#d8576b"
            ],
            [
             0.6666666666666666,
             "#ed7953"
            ],
            [
             0.7777777777777778,
             "#fb9f3a"
            ],
            [
             0.8888888888888888,
             "#fdca26"
            ],
            [
             1,
             "#f0f921"
            ]
           ],
           "sequentialminus": [
            [
             0,
             "#0d0887"
            ],
            [
             0.1111111111111111,
             "#46039f"
            ],
            [
             0.2222222222222222,
             "#7201a8"
            ],
            [
             0.3333333333333333,
             "#9c179e"
            ],
            [
             0.4444444444444444,
             "#bd3786"
            ],
            [
             0.5555555555555556,
             "#d8576b"
            ],
            [
             0.6666666666666666,
             "#ed7953"
            ],
            [
             0.7777777777777778,
             "#fb9f3a"
            ],
            [
             0.8888888888888888,
             "#fdca26"
            ],
            [
             1,
             "#f0f921"
            ]
           ]
          },
          "colorway": [
           "#636efa",
           "#EF553B",
           "#00cc96",
           "#ab63fa",
           "#FFA15A",
           "#19d3f3",
           "#FF6692",
           "#B6E880",
           "#FF97FF",
           "#FECB52"
          ],
          "font": {
           "color": "#2a3f5f"
          },
          "geo": {
           "bgcolor": "white",
           "lakecolor": "white",
           "landcolor": "#E5ECF6",
           "showlakes": true,
           "showland": true,
           "subunitcolor": "white"
          },
          "hoverlabel": {
           "align": "left"
          },
          "hovermode": "closest",
          "mapbox": {
           "style": "light"
          },
          "paper_bgcolor": "white",
          "plot_bgcolor": "#E5ECF6",
          "polar": {
           "angularaxis": {
            "gridcolor": "white",
            "linecolor": "white",
            "ticks": ""
           },
           "bgcolor": "#E5ECF6",
           "radialaxis": {
            "gridcolor": "white",
            "linecolor": "white",
            "ticks": ""
           }
          },
          "scene": {
           "xaxis": {
            "backgroundcolor": "#E5ECF6",
            "gridcolor": "white",
            "gridwidth": 2,
            "linecolor": "white",
            "showbackground": true,
            "ticks": "",
            "zerolinecolor": "white"
           },
           "yaxis": {
            "backgroundcolor": "#E5ECF6",
            "gridcolor": "white",
            "gridwidth": 2,
            "linecolor": "white",
            "showbackground": true,
            "ticks": "",
            "zerolinecolor": "white"
           },
           "zaxis": {
            "backgroundcolor": "#E5ECF6",
            "gridcolor": "white",
            "gridwidth": 2,
            "linecolor": "white",
            "showbackground": true,
            "ticks": "",
            "zerolinecolor": "white"
           }
          },
          "shapedefaults": {
           "line": {
            "color": "#2a3f5f"
           }
          },
          "ternary": {
           "aaxis": {
            "gridcolor": "white",
            "linecolor": "white",
            "ticks": ""
           },
           "baxis": {
            "gridcolor": "white",
            "linecolor": "white",
            "ticks": ""
           },
           "bgcolor": "#E5ECF6",
           "caxis": {
            "gridcolor": "white",
            "linecolor": "white",
            "ticks": ""
           }
          },
          "title": {
           "x": 0.05
          },
          "xaxis": {
           "automargin": true,
           "gridcolor": "white",
           "linecolor": "white",
           "ticks": "",
           "title": {
            "standoff": 15
           },
           "zerolinecolor": "white",
           "zerolinewidth": 2
          },
          "yaxis": {
           "automargin": true,
           "gridcolor": "white",
           "linecolor": "white",
           "ticks": "",
           "title": {
            "standoff": 15
           },
           "zerolinecolor": "white",
           "zerolinewidth": 2
          }
         }
        },
        "title": {
         "text": "Average gasoline gallon price"
        },
        "xaxis": {
         "anchor": "y",
         "domain": [
          0,
          1
         ],
         "title": {
          "text": "Year"
         }
        },
        "yaxis": {
         "anchor": "x",
         "domain": [
          0,
          1
         ],
         "title": {
          "text": "Average price"
         }
        }
       }
      },
      "text/html": [
       "<div>                            <div id=\"8fc3ece8-c8bd-4748-a92e-8d0d4e194249\" class=\"plotly-graph-div\" style=\"height:525px; width:100%;\"></div>            <script type=\"text/javascript\">                require([\"plotly\"], function(Plotly) {                    window.PLOTLYENV=window.PLOTLYENV || {};                                    if (document.getElementById(\"8fc3ece8-c8bd-4748-a92e-8d0d4e194249\")) {                    Plotly.newPlot(                        \"8fc3ece8-c8bd-4748-a92e-8d0d4e194249\",                        [{\"hovertemplate\": \"Year=%{x}<br>Average price=%{y}<extra></extra>\", \"legendgroup\": \"\", \"line\": {\"color\": \"#636efa\", \"dash\": \"solid\"}, \"mode\": \"lines\", \"name\": \"\", \"showlegend\": false, \"type\": \"scattergl\", \"x\": [\"2021-04-19T00:00:00\", \"2021-04-12T00:00:00\", \"2021-04-05T00:00:00\", \"2021-03-29T00:00:00\", \"2021-03-22T00:00:00\", \"2021-03-15T00:00:00\", \"2021-03-08T00:00:00\", \"2021-03-01T00:00:00\", \"2021-02-22T00:00:00\", \"2021-02-15T00:00:00\", \"2021-02-08T00:00:00\", \"2021-02-01T00:00:00\", \"2021-01-25T00:00:00\", \"2021-01-18T00:00:00\", \"2021-01-11T00:00:00\", \"2021-01-04T00:00:00\", \"2020-12-28T00:00:00\", \"2020-12-21T00:00:00\", \"2020-12-14T00:00:00\", \"2020-12-07T00:00:00\", \"2020-11-30T00:00:00\", \"2020-11-23T00:00:00\", \"2020-11-16T00:00:00\", \"2020-11-09T00:00:00\", \"2020-11-02T00:00:00\", \"2020-10-26T00:00:00\", \"2020-10-19T00:00:00\", \"2020-10-12T00:00:00\", \"2020-10-05T00:00:00\", \"2020-09-28T00:00:00\", \"2020-09-21T00:00:00\", \"2020-09-14T00:00:00\", \"2020-09-07T00:00:00\", \"2020-08-31T00:00:00\", \"2020-08-24T00:00:00\", \"2020-08-17T00:00:00\", \"2020-08-10T00:00:00\", \"2020-08-03T00:00:00\", \"2020-07-27T00:00:00\", \"2020-07-20T00:00:00\", \"2020-07-13T00:00:00\", \"2020-07-06T00:00:00\", \"2020-06-29T00:00:00\", \"2020-06-22T00:00:00\", \"2020-06-15T00:00:00\", \"2020-06-08T00:00:00\", \"2020-06-01T00:00:00\", \"2020-05-25T00:00:00\", \"2020-05-18T00:00:00\", \"2020-05-11T00:00:00\", \"2020-05-04T00:00:00\", \"2020-04-27T00:00:00\", \"2020-04-20T00:00:00\", \"2020-04-13T00:00:00\", \"2020-04-06T00:00:00\", \"2020-03-30T00:00:00\", \"2020-03-23T00:00:00\", \"2020-03-16T00:00:00\", \"2020-03-09T00:00:00\", \"2020-03-02T00:00:00\", \"2020-02-24T00:00:00\", \"2020-02-17T00:00:00\", \"2020-02-10T00:00:00\", \"2020-02-03T00:00:00\", \"2020-01-27T00:00:00\", \"2020-01-20T00:00:00\", \"2020-01-13T00:00:00\", \"2020-01-06T00:00:00\", \"2019-12-30T00:00:00\", \"2019-12-23T00:00:00\", \"2019-12-16T00:00:00\", \"2019-12-09T00:00:00\", \"2019-12-02T00:00:00\", \"2019-11-25T00:00:00\", \"2019-11-18T00:00:00\", \"2019-11-11T00:00:00\", \"2019-11-04T00:00:00\", \"2019-10-28T00:00:00\", \"2019-10-21T00:00:00\", \"2019-10-14T00:00:00\", \"2019-10-07T00:00:00\", \"2019-09-30T00:00:00\", \"2019-09-23T00:00:00\", \"2019-09-16T00:00:00\", \"2019-09-09T00:00:00\", \"2019-09-02T00:00:00\", \"2019-08-26T00:00:00\", \"2019-08-19T00:00:00\", \"2019-08-12T00:00:00\", \"2019-08-05T00:00:00\", \"2019-07-29T00:00:00\", \"2019-07-22T00:00:00\", \"2019-07-15T00:00:00\", \"2019-07-08T00:00:00\", \"2019-07-01T00:00:00\", \"2019-06-24T00:00:00\", \"2019-06-17T00:00:00\", \"2019-06-10T00:00:00\", \"2019-06-03T00:00:00\", \"2019-05-27T00:00:00\", \"2019-05-20T00:00:00\", \"2019-05-13T00:00:00\", \"2019-05-06T00:00:00\", \"2019-04-29T00:00:00\", \"2019-04-22T00:00:00\", \"2019-04-15T00:00:00\", \"2019-04-08T00:00:00\", \"2019-04-01T00:00:00\", \"2019-03-25T00:00:00\", \"2019-03-18T00:00:00\", \"2019-03-11T00:00:00\", \"2019-03-04T00:00:00\", \"2019-02-25T00:00:00\", \"2019-02-18T00:00:00\", \"2019-02-11T00:00:00\", \"2019-02-04T00:00:00\", \"2019-01-28T00:00:00\", \"2019-01-21T00:00:00\", \"2019-01-14T00:00:00\", \"2019-01-07T00:00:00\", \"2018-12-31T00:00:00\", \"2018-12-24T00:00:00\", \"2018-12-17T00:00:00\", \"2018-12-10T00:00:00\", \"2018-12-03T00:00:00\", \"2018-11-26T00:00:00\", \"2018-11-19T00:00:00\", \"2018-11-12T00:00:00\", \"2018-11-05T00:00:00\", \"2018-10-29T00:00:00\", \"2018-10-22T00:00:00\", \"2018-10-15T00:00:00\", \"2018-10-08T00:00:00\", \"2018-10-01T00:00:00\", \"2018-09-24T00:00:00\", \"2018-09-17T00:00:00\", \"2018-09-10T00:00:00\", \"2018-09-03T00:00:00\", \"2018-08-27T00:00:00\", \"2018-08-20T00:00:00\", \"2018-08-13T00:00:00\", \"2018-08-06T00:00:00\", \"2018-07-30T00:00:00\", \"2018-07-23T00:00:00\", \"2018-07-16T00:00:00\", \"2018-07-09T00:00:00\", \"2018-07-02T00:00:00\", \"2018-06-25T00:00:00\", \"2018-06-18T00:00:00\", \"2018-06-11T00:00:00\", \"2018-06-04T00:00:00\", \"2018-05-28T00:00:00\", \"2018-05-21T00:00:00\", \"2018-05-14T00:00:00\", \"2018-05-07T00:00:00\", \"2018-04-30T00:00:00\", \"2018-04-23T00:00:00\", \"2018-04-16T00:00:00\", \"2018-04-09T00:00:00\", \"2018-04-02T00:00:00\", \"2018-03-26T00:00:00\", \"2018-03-19T00:00:00\", \"2018-03-12T00:00:00\", \"2018-03-05T00:00:00\", \"2018-02-26T00:00:00\", \"2018-02-19T00:00:00\", \"2018-02-12T00:00:00\", \"2018-02-05T00:00:00\", \"2018-01-29T00:00:00\", \"2018-01-22T00:00:00\", \"2018-01-15T00:00:00\", \"2018-01-08T00:00:00\", \"2018-01-01T00:00:00\", \"2017-12-25T00:00:00\", \"2017-12-18T00:00:00\", \"2017-12-11T00:00:00\", \"2017-12-04T00:00:00\", \"2017-11-27T00:00:00\", \"2017-11-20T00:00:00\", \"2017-11-13T00:00:00\", \"2017-11-06T00:00:00\", \"2017-10-30T00:00:00\", \"2017-10-23T00:00:00\", \"2017-10-16T00:00:00\", \"2017-10-09T00:00:00\", \"2017-10-02T00:00:00\", \"2017-09-25T00:00:00\", \"2017-09-18T00:00:00\", \"2017-09-11T00:00:00\", \"2017-09-04T00:00:00\", \"2017-08-28T00:00:00\", \"2017-08-21T00:00:00\", \"2017-08-14T00:00:00\", \"2017-08-07T00:00:00\", \"2017-07-31T00:00:00\", \"2017-07-24T00:00:00\", \"2017-07-17T00:00:00\", \"2017-07-10T00:00:00\", \"2017-07-03T00:00:00\", \"2017-06-26T00:00:00\", \"2017-06-19T00:00:00\", \"2017-06-12T00:00:00\", \"2017-06-05T00:00:00\", \"2017-05-29T00:00:00\", \"2017-05-22T00:00:00\", \"2017-05-15T00:00:00\", \"2017-05-08T00:00:00\", \"2017-05-01T00:00:00\", \"2017-04-24T00:00:00\", \"2017-04-17T00:00:00\", \"2017-04-10T00:00:00\", \"2017-04-03T00:00:00\", \"2017-03-27T00:00:00\", \"2017-03-20T00:00:00\", \"2017-03-13T00:00:00\", \"2017-03-06T00:00:00\", \"2017-02-27T00:00:00\", \"2017-02-20T00:00:00\", \"2017-02-13T00:00:00\", \"2017-02-06T00:00:00\", \"2017-01-30T00:00:00\", \"2017-01-23T00:00:00\", \"2017-01-16T00:00:00\", \"2017-01-09T00:00:00\", \"2017-01-02T00:00:00\", \"2016-12-26T00:00:00\", \"2016-12-19T00:00:00\", \"2016-12-12T00:00:00\", \"2016-12-05T00:00:00\", \"2016-11-28T00:00:00\", \"2016-11-21T00:00:00\", \"2016-11-14T00:00:00\", \"2016-11-07T00:00:00\", \"2016-10-31T00:00:00\", \"2016-10-24T00:00:00\", \"2016-10-17T00:00:00\", \"2016-10-10T00:00:00\", \"2016-10-03T00:00:00\", \"2016-09-26T00:00:00\", \"2016-09-19T00:00:00\", \"2016-09-12T00:00:00\", \"2016-09-05T00:00:00\", \"2016-08-29T00:00:00\", \"2016-08-22T00:00:00\", \"2016-08-15T00:00:00\", \"2016-08-08T00:00:00\", \"2016-08-01T00:00:00\", \"2016-07-25T00:00:00\", \"2016-07-18T00:00:00\", \"2016-07-11T00:00:00\", \"2016-07-04T00:00:00\", \"2016-06-27T00:00:00\", \"2016-06-20T00:00:00\", \"2016-06-13T00:00:00\", \"2016-06-06T00:00:00\", \"2016-05-30T00:00:00\", \"2016-05-23T00:00:00\", \"2016-05-16T00:00:00\", \"2016-05-09T00:00:00\", \"2016-05-02T00:00:00\", \"2016-04-25T00:00:00\", \"2016-04-18T00:00:00\", \"2016-04-11T00:00:00\", \"2016-04-04T00:00:00\", \"2016-03-28T00:00:00\", \"2016-03-21T00:00:00\", \"2016-03-14T00:00:00\", \"2016-03-07T00:00:00\", \"2016-02-29T00:00:00\", \"2016-02-22T00:00:00\", \"2016-02-15T00:00:00\", \"2016-02-08T00:00:00\", \"2016-02-01T00:00:00\", \"2016-01-25T00:00:00\", \"2016-01-18T00:00:00\", \"2016-01-11T00:00:00\", \"2016-01-04T00:00:00\", \"2015-12-28T00:00:00\", \"2015-12-21T00:00:00\", \"2015-12-14T00:00:00\", \"2015-12-07T00:00:00\", \"2015-11-30T00:00:00\", \"2015-11-23T00:00:00\", \"2015-11-16T00:00:00\", \"2015-11-09T00:00:00\", \"2015-11-02T00:00:00\", \"2015-10-26T00:00:00\", \"2015-10-19T00:00:00\", \"2015-10-12T00:00:00\", \"2015-10-05T00:00:00\", \"2015-09-28T00:00:00\", \"2015-09-21T00:00:00\", \"2015-09-14T00:00:00\", \"2015-09-07T00:00:00\", \"2015-08-31T00:00:00\", \"2015-08-24T00:00:00\", \"2015-08-17T00:00:00\", \"2015-08-10T00:00:00\", \"2015-08-03T00:00:00\", \"2015-07-27T00:00:00\", \"2015-07-20T00:00:00\", \"2015-07-13T00:00:00\", \"2015-07-06T00:00:00\", \"2015-06-29T00:00:00\", \"2015-06-22T00:00:00\", \"2015-06-15T00:00:00\", \"2015-06-08T00:00:00\", \"2015-06-01T00:00:00\", \"2015-05-25T00:00:00\", \"2015-05-18T00:00:00\", \"2015-05-11T00:00:00\", \"2015-05-04T00:00:00\", \"2015-04-27T00:00:00\", \"2015-04-20T00:00:00\", \"2015-04-13T00:00:00\", \"2015-04-06T00:00:00\", \"2015-03-30T00:00:00\", \"2015-03-23T00:00:00\", \"2015-03-16T00:00:00\", \"2015-03-09T00:00:00\", \"2015-03-02T00:00:00\", \"2015-02-23T00:00:00\", \"2015-02-16T00:00:00\", \"2015-02-09T00:00:00\", \"2015-02-02T00:00:00\", \"2015-01-26T00:00:00\", \"2015-01-19T00:00:00\", \"2015-01-12T00:00:00\", \"2015-01-05T00:00:00\", \"2014-12-29T00:00:00\", \"2014-12-22T00:00:00\", \"2014-12-15T00:00:00\", \"2014-12-08T00:00:00\", \"2014-12-01T00:00:00\", \"2014-11-24T00:00:00\", \"2014-11-17T00:00:00\", \"2014-11-10T00:00:00\", \"2014-11-03T00:00:00\", \"2014-10-27T00:00:00\", \"2014-10-20T00:00:00\", \"2014-10-13T00:00:00\", \"2014-10-06T00:00:00\", \"2014-09-29T00:00:00\", \"2014-09-22T00:00:00\", \"2014-09-15T00:00:00\", \"2014-09-08T00:00:00\", \"2014-09-01T00:00:00\", \"2014-08-25T00:00:00\", \"2014-08-18T00:00:00\", \"2014-08-11T00:00:00\", \"2014-08-04T00:00:00\", \"2014-07-28T00:00:00\", \"2014-07-21T00:00:00\", \"2014-07-14T00:00:00\", \"2014-07-07T00:00:00\", \"2014-06-30T00:00:00\", \"2014-06-23T00:00:00\", \"2014-06-16T00:00:00\", \"2014-06-09T00:00:00\", \"2014-06-02T00:00:00\", \"2014-05-26T00:00:00\", \"2014-05-19T00:00:00\", \"2014-05-12T00:00:00\", \"2014-05-05T00:00:00\", \"2014-04-28T00:00:00\", \"2014-04-21T00:00:00\", \"2014-04-14T00:00:00\", \"2014-04-07T00:00:00\", \"2014-03-31T00:00:00\", \"2014-03-24T00:00:00\", \"2014-03-17T00:00:00\", \"2014-03-10T00:00:00\", \"2014-03-03T00:00:00\", \"2014-02-24T00:00:00\", \"2014-02-17T00:00:00\", \"2014-02-10T00:00:00\", \"2014-02-03T00:00:00\", \"2014-01-27T00:00:00\", \"2014-01-20T00:00:00\", \"2014-01-13T00:00:00\", \"2014-01-06T00:00:00\", \"2013-12-30T00:00:00\", \"2013-12-23T00:00:00\", \"2013-12-16T00:00:00\", \"2013-12-09T00:00:00\", \"2013-12-02T00:00:00\", \"2013-11-25T00:00:00\", \"2013-11-18T00:00:00\", \"2013-11-11T00:00:00\", \"2013-11-04T00:00:00\", \"2013-10-28T00:00:00\", \"2013-10-21T00:00:00\", \"2013-10-14T00:00:00\", \"2013-10-07T00:00:00\", \"2013-09-30T00:00:00\", \"2013-09-23T00:00:00\", \"2013-09-16T00:00:00\", \"2013-09-09T00:00:00\", \"2013-09-02T00:00:00\", \"2013-08-26T00:00:00\", \"2013-08-19T00:00:00\", \"2013-08-12T00:00:00\", \"2013-08-05T00:00:00\", \"2013-07-29T00:00:00\", \"2013-07-22T00:00:00\", \"2013-07-15T00:00:00\", \"2013-07-08T00:00:00\", \"2013-07-01T00:00:00\", \"2013-06-24T00:00:00\", \"2013-06-17T00:00:00\", \"2013-06-10T00:00:00\", \"2013-06-03T00:00:00\", \"2013-05-27T00:00:00\", \"2013-05-20T00:00:00\", \"2013-05-13T00:00:00\", \"2013-05-06T00:00:00\", \"2013-04-29T00:00:00\", \"2013-04-22T00:00:00\", \"2013-04-15T00:00:00\", \"2013-04-08T00:00:00\", \"2013-04-01T00:00:00\", \"2013-03-25T00:00:00\", \"2013-03-18T00:00:00\", \"2013-03-11T00:00:00\", \"2013-03-04T00:00:00\", \"2013-02-25T00:00:00\", \"2013-02-18T00:00:00\", \"2013-02-11T00:00:00\", \"2013-02-04T00:00:00\", \"2013-01-28T00:00:00\", \"2013-01-21T00:00:00\", \"2013-01-14T00:00:00\", \"2013-01-07T00:00:00\", \"2012-12-31T00:00:00\", \"2012-12-24T00:00:00\", \"2012-12-17T00:00:00\", \"2012-12-10T00:00:00\", \"2012-12-03T00:00:00\", \"2012-11-26T00:00:00\", \"2012-11-19T00:00:00\", \"2012-11-12T00:00:00\", \"2012-11-05T00:00:00\", \"2012-10-29T00:00:00\", \"2012-10-22T00:00:00\", \"2012-10-15T00:00:00\", \"2012-10-08T00:00:00\", \"2012-10-01T00:00:00\", \"2012-09-24T00:00:00\", \"2012-09-17T00:00:00\", \"2012-09-10T00:00:00\", \"2012-09-03T00:00:00\", \"2012-08-27T00:00:00\", \"2012-08-20T00:00:00\", \"2012-08-13T00:00:00\", \"2012-08-06T00:00:00\", \"2012-07-30T00:00:00\", \"2012-07-23T00:00:00\", \"2012-07-16T00:00:00\", \"2012-07-09T00:00:00\", \"2012-07-02T00:00:00\", \"2012-06-25T00:00:00\", \"2012-06-18T00:00:00\", \"2012-06-11T00:00:00\", \"2012-06-04T00:00:00\", \"2012-05-28T00:00:00\", \"2012-05-21T00:00:00\", \"2012-05-14T00:00:00\", \"2012-05-07T00:00:00\", \"2012-04-30T00:00:00\", \"2012-04-23T00:00:00\", \"2012-04-16T00:00:00\", \"2012-04-09T00:00:00\", \"2012-04-02T00:00:00\", \"2012-03-26T00:00:00\", \"2012-03-19T00:00:00\", \"2012-03-12T00:00:00\", \"2012-03-05T00:00:00\", \"2012-02-27T00:00:00\", \"2012-02-20T00:00:00\", \"2012-02-13T00:00:00\", \"2012-02-06T00:00:00\", \"2012-01-30T00:00:00\", \"2012-01-23T00:00:00\", \"2012-01-16T00:00:00\", \"2012-01-09T00:00:00\", \"2012-01-02T00:00:00\", \"2011-12-26T00:00:00\", \"2011-12-19T00:00:00\", \"2011-12-12T00:00:00\", \"2011-12-05T00:00:00\", \"2011-11-28T00:00:00\", \"2011-11-21T00:00:00\", \"2011-11-14T00:00:00\", \"2011-11-07T00:00:00\", \"2011-10-31T00:00:00\", \"2011-10-24T00:00:00\", \"2011-10-17T00:00:00\", \"2011-10-10T00:00:00\", \"2011-10-03T00:00:00\", \"2011-09-26T00:00:00\", \"2011-09-19T00:00:00\", \"2011-09-12T00:00:00\", \"2011-09-05T00:00:00\", \"2011-08-29T00:00:00\", \"2011-08-22T00:00:00\", \"2011-08-15T00:00:00\", \"2011-08-08T00:00:00\", \"2011-08-01T00:00:00\", \"2011-07-25T00:00:00\", \"2011-07-18T00:00:00\", \"2011-07-11T00:00:00\", \"2011-07-04T00:00:00\", \"2011-06-27T00:00:00\", \"2011-06-20T00:00:00\", \"2011-06-13T00:00:00\", \"2011-06-06T00:00:00\", \"2011-05-30T00:00:00\", \"2011-05-23T00:00:00\", \"2011-05-16T00:00:00\", \"2011-05-09T00:00:00\", \"2011-05-02T00:00:00\", \"2011-04-25T00:00:00\", \"2011-04-18T00:00:00\", \"2011-04-11T00:00:00\", \"2011-04-04T00:00:00\", \"2011-03-28T00:00:00\", \"2011-03-21T00:00:00\", \"2011-03-14T00:00:00\", \"2011-03-07T00:00:00\", \"2011-02-28T00:00:00\", \"2011-02-21T00:00:00\", \"2011-02-14T00:00:00\", \"2011-02-07T00:00:00\", \"2011-01-31T00:00:00\", \"2011-01-24T00:00:00\", \"2011-01-17T00:00:00\", \"2011-01-10T00:00:00\", \"2011-01-03T00:00:00\", \"2010-12-27T00:00:00\", \"2010-12-20T00:00:00\", \"2010-12-13T00:00:00\", \"2010-12-06T00:00:00\", \"2010-11-29T00:00:00\", \"2010-11-22T00:00:00\", \"2010-11-15T00:00:00\", \"2010-11-08T00:00:00\", \"2010-11-01T00:00:00\", \"2010-10-25T00:00:00\", \"2010-10-18T00:00:00\", \"2010-10-11T00:00:00\", \"2010-10-04T00:00:00\", \"2010-09-27T00:00:00\", \"2010-09-20T00:00:00\", \"2010-09-13T00:00:00\", \"2010-09-06T00:00:00\", \"2010-08-30T00:00:00\", \"2010-08-23T00:00:00\", \"2010-08-16T00:00:00\", \"2010-08-09T00:00:00\", \"2010-08-02T00:00:00\", \"2010-07-26T00:00:00\", \"2010-07-19T00:00:00\", \"2010-07-12T00:00:00\", \"2010-07-05T00:00:00\", \"2010-06-28T00:00:00\", \"2010-06-21T00:00:00\", \"2010-06-14T00:00:00\", \"2010-06-07T00:00:00\", \"2010-05-31T00:00:00\", \"2010-05-24T00:00:00\", \"2010-05-17T00:00:00\", \"2010-05-10T00:00:00\", \"2010-05-03T00:00:00\", \"2010-04-26T00:00:00\", \"2010-04-19T00:00:00\", \"2010-04-12T00:00:00\", \"2010-04-05T00:00:00\", \"2010-03-29T00:00:00\", \"2010-03-22T00:00:00\", \"2010-03-15T00:00:00\", \"2010-03-08T00:00:00\", \"2010-03-01T00:00:00\", \"2010-02-22T00:00:00\", \"2010-02-15T00:00:00\", \"2010-02-08T00:00:00\", \"2010-02-01T00:00:00\", \"2010-01-25T00:00:00\", \"2010-01-18T00:00:00\", \"2010-01-11T00:00:00\", \"2010-01-04T00:00:00\", \"2009-12-28T00:00:00\", \"2009-12-21T00:00:00\", \"2009-12-14T00:00:00\", \"2009-12-07T00:00:00\", \"2009-11-30T00:00:00\", \"2009-11-23T00:00:00\", \"2009-11-16T00:00:00\", \"2009-11-09T00:00:00\", \"2009-11-02T00:00:00\", \"2009-10-26T00:00:00\", \"2009-10-19T00:00:00\", \"2009-10-12T00:00:00\", \"2009-10-05T00:00:00\", \"2009-09-28T00:00:00\", \"2009-09-21T00:00:00\", \"2009-09-14T00:00:00\", \"2009-09-07T00:00:00\", \"2009-08-31T00:00:00\", \"2009-08-24T00:00:00\", \"2009-08-17T00:00:00\", \"2009-08-10T00:00:00\", \"2009-08-03T00:00:00\", \"2009-07-27T00:00:00\", \"2009-07-20T00:00:00\", \"2009-07-13T00:00:00\", \"2009-07-06T00:00:00\", \"2009-06-29T00:00:00\", \"2009-06-22T00:00:00\", \"2009-06-15T00:00:00\", \"2009-06-08T00:00:00\", \"2009-06-01T00:00:00\", \"2009-05-25T00:00:00\", \"2009-05-18T00:00:00\", \"2009-05-11T00:00:00\", \"2009-05-04T00:00:00\", \"2009-04-27T00:00:00\", \"2009-04-20T00:00:00\", \"2009-04-13T00:00:00\", \"2009-04-06T00:00:00\", \"2009-03-30T00:00:00\", \"2009-03-23T00:00:00\", \"2009-03-16T00:00:00\", \"2009-03-09T00:00:00\", \"2009-03-02T00:00:00\", \"2009-02-23T00:00:00\", \"2009-02-16T00:00:00\", \"2009-02-09T00:00:00\", \"2009-02-02T00:00:00\", \"2009-01-26T00:00:00\", \"2009-01-19T00:00:00\", \"2009-01-12T00:00:00\", \"2009-01-05T00:00:00\", \"2008-12-29T00:00:00\", \"2008-12-22T00:00:00\", \"2008-12-15T00:00:00\", \"2008-12-08T00:00:00\", \"2008-12-01T00:00:00\", \"2008-11-24T00:00:00\", \"2008-11-17T00:00:00\", \"2008-11-10T00:00:00\", \"2008-11-03T00:00:00\", \"2008-10-27T00:00:00\", \"2008-10-20T00:00:00\", \"2008-10-13T00:00:00\", \"2008-10-06T00:00:00\", \"2008-09-29T00:00:00\", \"2008-09-22T00:00:00\", \"2008-09-15T00:00:00\", \"2008-09-08T00:00:00\", \"2008-09-01T00:00:00\", \"2008-08-25T00:00:00\", \"2008-08-18T00:00:00\", \"2008-08-11T00:00:00\", \"2008-08-04T00:00:00\", \"2008-07-28T00:00:00\", \"2008-07-21T00:00:00\", \"2008-07-14T00:00:00\", \"2008-07-07T00:00:00\", \"2008-06-30T00:00:00\", \"2008-06-23T00:00:00\", \"2008-06-16T00:00:00\", \"2008-06-09T00:00:00\", \"2008-06-02T00:00:00\", \"2008-05-26T00:00:00\", \"2008-05-19T00:00:00\", \"2008-05-12T00:00:00\", \"2008-05-05T00:00:00\", \"2008-04-28T00:00:00\", \"2008-04-21T00:00:00\", \"2008-04-14T00:00:00\", \"2008-04-07T00:00:00\", \"2008-03-31T00:00:00\", \"2008-03-24T00:00:00\", \"2008-03-17T00:00:00\", \"2008-03-10T00:00:00\", \"2008-03-03T00:00:00\", \"2008-02-25T00:00:00\", \"2008-02-18T00:00:00\", \"2008-02-11T00:00:00\", \"2008-02-04T00:00:00\", \"2008-01-28T00:00:00\", \"2008-01-21T00:00:00\", \"2008-01-14T00:00:00\", \"2008-01-07T00:00:00\", \"2007-12-31T00:00:00\", \"2007-12-24T00:00:00\", \"2007-12-17T00:00:00\", \"2007-12-10T00:00:00\", \"2007-12-03T00:00:00\", \"2007-11-26T00:00:00\", \"2007-11-19T00:00:00\", \"2007-11-12T00:00:00\", \"2007-11-05T00:00:00\", \"2007-10-29T00:00:00\", \"2007-10-22T00:00:00\", \"2007-10-15T00:00:00\", \"2007-10-08T00:00:00\", \"2007-10-01T00:00:00\", \"2007-09-24T00:00:00\", \"2007-09-17T00:00:00\", \"2007-09-10T00:00:00\", \"2007-09-03T00:00:00\", \"2007-08-27T00:00:00\", \"2007-08-20T00:00:00\", \"2007-08-13T00:00:00\", \"2007-08-06T00:00:00\", \"2007-07-30T00:00:00\", \"2007-07-23T00:00:00\", \"2007-07-16T00:00:00\", \"2007-07-09T00:00:00\", \"2007-07-02T00:00:00\", \"2007-06-25T00:00:00\", \"2007-06-18T00:00:00\", \"2007-06-11T00:00:00\", \"2007-06-04T00:00:00\", \"2007-05-28T00:00:00\", \"2007-05-21T00:00:00\", \"2007-05-14T00:00:00\", \"2007-05-07T00:00:00\", \"2007-04-30T00:00:00\", \"2007-04-23T00:00:00\", \"2007-04-16T00:00:00\", \"2007-04-09T00:00:00\", \"2007-04-02T00:00:00\", \"2007-03-26T00:00:00\", \"2007-03-19T00:00:00\", \"2007-03-12T00:00:00\", \"2007-03-05T00:00:00\", \"2007-02-26T00:00:00\", \"2007-02-19T00:00:00\", \"2007-02-12T00:00:00\", \"2007-02-05T00:00:00\", \"2007-01-29T00:00:00\", \"2007-01-22T00:00:00\", \"2007-01-15T00:00:00\", \"2007-01-08T00:00:00\", \"2007-01-01T00:00:00\", \"2006-12-25T00:00:00\", \"2006-12-18T00:00:00\", \"2006-12-11T00:00:00\", \"2006-12-04T00:00:00\", \"2006-11-27T00:00:00\", \"2006-11-20T00:00:00\", \"2006-11-13T00:00:00\", \"2006-11-06T00:00:00\", \"2006-10-30T00:00:00\", \"2006-10-23T00:00:00\", \"2006-10-16T00:00:00\", \"2006-10-09T00:00:00\", \"2006-10-02T00:00:00\", \"2006-09-25T00:00:00\", \"2006-09-18T00:00:00\", \"2006-09-11T00:00:00\", \"2006-09-04T00:00:00\", \"2006-08-28T00:00:00\", \"2006-08-21T00:00:00\", \"2006-08-14T00:00:00\", \"2006-08-07T00:00:00\", \"2006-07-31T00:00:00\", \"2006-07-24T00:00:00\", \"2006-07-17T00:00:00\", \"2006-07-10T00:00:00\", \"2006-07-03T00:00:00\", \"2006-06-26T00:00:00\", \"2006-06-19T00:00:00\", \"2006-06-12T00:00:00\", \"2006-06-05T00:00:00\", \"2006-05-29T00:00:00\", \"2006-05-22T00:00:00\", \"2006-05-15T00:00:00\", \"2006-05-08T00:00:00\", \"2006-05-01T00:00:00\", \"2006-04-24T00:00:00\", \"2006-04-17T00:00:00\", \"2006-04-10T00:00:00\", \"2006-04-03T00:00:00\", \"2006-03-27T00:00:00\", \"2006-03-20T00:00:00\", \"2006-03-13T00:00:00\", \"2006-03-06T00:00:00\", \"2006-02-27T00:00:00\", \"2006-02-20T00:00:00\", \"2006-02-13T00:00:00\", \"2006-02-06T00:00:00\", \"2006-01-30T00:00:00\", \"2006-01-23T00:00:00\", \"2006-01-16T00:00:00\", \"2006-01-09T00:00:00\", \"2006-01-02T00:00:00\", \"2005-12-26T00:00:00\", \"2005-12-19T00:00:00\", \"2005-12-12T00:00:00\", \"2005-12-05T00:00:00\", \"2005-11-28T00:00:00\", \"2005-11-21T00:00:00\", \"2005-11-14T00:00:00\", \"2005-11-07T00:00:00\", \"2005-10-31T00:00:00\", \"2005-10-24T00:00:00\", \"2005-10-17T00:00:00\", \"2005-10-10T00:00:00\", \"2005-10-03T00:00:00\", \"2005-09-26T00:00:00\", \"2005-09-19T00:00:00\", \"2005-09-12T00:00:00\", \"2005-09-05T00:00:00\", \"2005-08-29T00:00:00\", \"2005-08-22T00:00:00\", \"2005-08-15T00:00:00\", \"2005-08-08T00:00:00\", \"2005-08-01T00:00:00\", \"2005-07-25T00:00:00\", \"2005-07-18T00:00:00\", \"2005-07-11T00:00:00\", \"2005-07-04T00:00:00\", \"2005-06-27T00:00:00\", \"2005-06-20T00:00:00\", \"2005-06-13T00:00:00\", \"2005-06-06T00:00:00\", \"2005-05-30T00:00:00\", \"2005-05-23T00:00:00\", \"2005-05-16T00:00:00\", \"2005-05-09T00:00:00\", \"2005-05-02T00:00:00\", \"2005-04-25T00:00:00\", \"2005-04-18T00:00:00\", \"2005-04-11T00:00:00\", \"2005-04-04T00:00:00\", \"2005-03-28T00:00:00\", \"2005-03-21T00:00:00\", \"2005-03-14T00:00:00\", \"2005-03-07T00:00:00\", \"2005-02-28T00:00:00\", \"2005-02-21T00:00:00\", \"2005-02-14T00:00:00\", \"2005-02-07T00:00:00\", \"2005-01-31T00:00:00\", \"2005-01-24T00:00:00\", \"2005-01-17T00:00:00\", \"2005-01-10T00:00:00\", \"2005-01-03T00:00:00\", \"2004-12-27T00:00:00\", \"2004-12-20T00:00:00\", \"2004-12-13T00:00:00\", \"2004-12-06T00:00:00\", \"2004-11-29T00:00:00\", \"2004-11-22T00:00:00\", \"2004-11-15T00:00:00\", \"2004-11-08T00:00:00\", \"2004-11-01T00:00:00\", \"2004-10-25T00:00:00\", \"2004-10-18T00:00:00\", \"2004-10-11T00:00:00\", \"2004-10-04T00:00:00\", \"2004-09-27T00:00:00\", \"2004-09-20T00:00:00\", \"2004-09-13T00:00:00\", \"2004-09-06T00:00:00\", \"2004-08-30T00:00:00\", \"2004-08-23T00:00:00\", \"2004-08-16T00:00:00\", \"2004-08-09T00:00:00\", \"2004-08-02T00:00:00\", \"2004-07-26T00:00:00\", \"2004-07-19T00:00:00\", \"2004-07-12T00:00:00\", \"2004-07-05T00:00:00\", \"2004-06-28T00:00:00\", \"2004-06-21T00:00:00\", \"2004-06-14T00:00:00\", \"2004-06-07T00:00:00\", \"2004-05-31T00:00:00\", \"2004-05-24T00:00:00\", \"2004-05-17T00:00:00\", \"2004-05-10T00:00:00\", \"2004-05-03T00:00:00\", \"2004-04-26T00:00:00\", \"2004-04-19T00:00:00\", \"2004-04-12T00:00:00\", \"2004-04-05T00:00:00\", \"2004-03-29T00:00:00\", \"2004-03-22T00:00:00\", \"2004-03-15T00:00:00\", \"2004-03-08T00:00:00\", \"2004-03-01T00:00:00\", \"2004-02-23T00:00:00\", \"2004-02-16T00:00:00\", \"2004-02-09T00:00:00\", \"2004-02-02T00:00:00\", \"2004-01-26T00:00:00\", \"2004-01-19T00:00:00\", \"2004-01-12T00:00:00\", \"2004-01-05T00:00:00\", \"2003-12-29T00:00:00\", \"2003-12-22T00:00:00\", \"2003-12-15T00:00:00\", \"2003-12-08T00:00:00\", \"2003-12-01T00:00:00\", \"2003-11-24T00:00:00\", \"2003-11-17T00:00:00\", \"2003-11-10T00:00:00\", \"2003-11-03T00:00:00\", \"2003-10-27T00:00:00\", \"2003-10-20T00:00:00\", \"2003-10-13T00:00:00\", \"2003-10-06T00:00:00\", \"2003-09-29T00:00:00\", \"2003-09-22T00:00:00\", \"2003-09-15T00:00:00\", \"2003-09-08T00:00:00\", \"2003-09-01T00:00:00\", \"2003-08-25T00:00:00\", \"2003-08-18T00:00:00\", \"2003-08-11T00:00:00\", \"2003-08-04T00:00:00\", \"2003-07-28T00:00:00\", \"2003-07-21T00:00:00\", \"2003-07-14T00:00:00\", \"2003-07-07T00:00:00\", \"2003-06-30T00:00:00\", \"2003-06-23T00:00:00\", \"2003-06-16T00:00:00\", \"2003-06-09T00:00:00\", \"2003-06-02T00:00:00\", \"2003-05-26T00:00:00\", \"2003-05-19T00:00:00\", \"2003-05-12T00:00:00\", \"2003-05-05T00:00:00\", \"2003-04-28T00:00:00\", \"2003-04-21T00:00:00\", \"2003-04-14T00:00:00\", \"2003-04-07T00:00:00\", \"2003-03-31T00:00:00\", \"2003-03-24T00:00:00\", \"2003-03-17T00:00:00\", \"2003-03-10T00:00:00\", \"2003-03-03T00:00:00\", \"2003-02-24T00:00:00\", \"2003-02-17T00:00:00\", \"2003-02-10T00:00:00\", \"2003-02-03T00:00:00\", \"2003-01-27T00:00:00\", \"2003-01-20T00:00:00\", \"2003-01-13T00:00:00\", \"2003-01-06T00:00:00\", \"2002-12-30T00:00:00\", \"2002-12-23T00:00:00\", \"2002-12-16T00:00:00\", \"2002-12-09T00:00:00\", \"2002-12-02T00:00:00\", \"2002-11-25T00:00:00\", \"2002-11-18T00:00:00\", \"2002-11-11T00:00:00\", \"2002-11-04T00:00:00\", \"2002-10-28T00:00:00\", \"2002-10-21T00:00:00\", \"2002-10-14T00:00:00\", \"2002-10-07T00:00:00\", \"2002-09-30T00:00:00\", \"2002-09-23T00:00:00\", \"2002-09-16T00:00:00\", \"2002-09-09T00:00:00\", \"2002-09-02T00:00:00\", \"2002-08-26T00:00:00\", \"2002-08-19T00:00:00\", \"2002-08-12T00:00:00\", \"2002-08-05T00:00:00\", \"2002-07-29T00:00:00\", \"2002-07-22T00:00:00\", \"2002-07-15T00:00:00\", \"2002-07-08T00:00:00\", \"2002-07-01T00:00:00\", \"2002-06-24T00:00:00\", \"2002-06-17T00:00:00\", \"2002-06-10T00:00:00\", \"2002-06-03T00:00:00\", \"2002-05-27T00:00:00\", \"2002-05-20T00:00:00\", \"2002-05-13T00:00:00\", \"2002-05-06T00:00:00\", \"2002-04-29T00:00:00\", \"2002-04-22T00:00:00\", \"2002-04-15T00:00:00\", \"2002-04-08T00:00:00\", \"2002-04-01T00:00:00\", \"2002-03-25T00:00:00\", \"2002-03-18T00:00:00\", \"2002-03-11T00:00:00\", \"2002-03-04T00:00:00\", \"2002-02-25T00:00:00\", \"2002-02-18T00:00:00\", \"2002-02-11T00:00:00\", \"2002-02-04T00:00:00\", \"2002-01-28T00:00:00\", \"2002-01-21T00:00:00\", \"2002-01-14T00:00:00\", \"2002-01-07T00:00:00\", \"2001-12-31T00:00:00\", \"2001-12-24T00:00:00\", \"2001-12-17T00:00:00\", \"2001-12-10T00:00:00\", \"2001-12-03T00:00:00\", \"2001-11-26T00:00:00\", \"2001-11-19T00:00:00\", \"2001-11-12T00:00:00\", \"2001-11-05T00:00:00\", \"2001-10-29T00:00:00\", \"2001-10-22T00:00:00\", \"2001-10-15T00:00:00\", \"2001-10-08T00:00:00\", \"2001-10-01T00:00:00\", \"2001-09-24T00:00:00\", \"2001-09-17T00:00:00\", \"2001-09-10T00:00:00\", \"2001-09-03T00:00:00\", \"2001-08-27T00:00:00\", \"2001-08-20T00:00:00\", \"2001-08-13T00:00:00\", \"2001-08-06T00:00:00\", \"2001-07-30T00:00:00\", \"2001-07-23T00:00:00\", \"2001-07-16T00:00:00\", \"2001-07-09T00:00:00\", \"2001-07-02T00:00:00\", \"2001-06-25T00:00:00\", \"2001-06-18T00:00:00\", \"2001-06-11T00:00:00\", \"2001-06-04T00:00:00\", \"2001-05-28T00:00:00\", \"2001-05-21T00:00:00\", \"2001-05-14T00:00:00\", \"2001-05-07T00:00:00\", \"2001-04-30T00:00:00\", \"2001-04-23T00:00:00\", \"2001-04-16T00:00:00\", \"2001-04-09T00:00:00\", \"2001-04-02T00:00:00\", \"2001-03-26T00:00:00\", \"2001-03-19T00:00:00\", \"2001-03-12T00:00:00\", \"2001-03-05T00:00:00\", \"2001-02-26T00:00:00\", \"2001-02-19T00:00:00\", \"2001-02-12T00:00:00\", \"2001-02-05T00:00:00\", \"2001-01-29T00:00:00\", \"2001-01-22T00:00:00\", \"2001-01-15T00:00:00\", \"2001-01-08T00:00:00\", \"2001-01-01T00:00:00\", \"2000-12-25T00:00:00\", \"2000-12-18T00:00:00\", \"2000-12-11T00:00:00\", \"2000-12-04T00:00:00\", \"2000-11-27T00:00:00\", \"2000-11-20T00:00:00\", \"2000-11-13T00:00:00\", \"2000-11-06T00:00:00\", \"2000-10-30T00:00:00\", \"2000-10-23T00:00:00\", \"2000-10-16T00:00:00\", \"2000-10-09T00:00:00\", \"2000-10-02T00:00:00\", \"2000-09-25T00:00:00\", \"2000-09-18T00:00:00\", \"2000-09-11T00:00:00\", \"2000-09-04T00:00:00\", \"2000-08-28T00:00:00\", \"2000-08-21T00:00:00\", \"2000-08-14T00:00:00\", \"2000-08-07T00:00:00\", \"2000-07-31T00:00:00\", \"2000-07-24T00:00:00\", \"2000-07-17T00:00:00\", \"2000-07-10T00:00:00\", \"2000-07-03T00:00:00\", \"2000-06-26T00:00:00\", \"2000-06-19T00:00:00\", \"2000-06-12T00:00:00\", \"2000-06-05T00:00:00\", \"2000-05-29T00:00:00\", \"2000-05-22T00:00:00\", \"2000-05-15T00:00:00\", \"2000-05-08T00:00:00\", \"2000-05-01T00:00:00\", \"2000-04-24T00:00:00\", \"2000-04-17T00:00:00\", \"2000-04-10T00:00:00\", \"2000-04-03T00:00:00\", \"2000-03-27T00:00:00\", \"2000-03-20T00:00:00\", \"2000-03-13T00:00:00\", \"2000-03-06T00:00:00\", \"2000-02-28T00:00:00\", \"2000-02-21T00:00:00\", \"2000-02-14T00:00:00\", \"2000-02-07T00:00:00\", \"2000-01-31T00:00:00\", \"2000-01-24T00:00:00\", \"2000-01-17T00:00:00\", \"2000-01-10T00:00:00\", \"2000-01-03T00:00:00\", \"1999-12-27T00:00:00\", \"1999-12-20T00:00:00\", \"1999-12-13T00:00:00\", \"1999-12-06T00:00:00\", \"1999-11-29T00:00:00\", \"1999-11-22T00:00:00\", \"1999-11-15T00:00:00\", \"1999-11-08T00:00:00\", \"1999-11-01T00:00:00\", \"1999-10-25T00:00:00\", \"1999-10-18T00:00:00\", \"1999-10-11T00:00:00\", \"1999-10-04T00:00:00\", \"1999-09-27T00:00:00\", \"1999-09-20T00:00:00\", \"1999-09-13T00:00:00\", \"1999-09-06T00:00:00\", \"1999-08-30T00:00:00\", \"1999-08-23T00:00:00\", \"1999-08-16T00:00:00\", \"1999-08-09T00:00:00\", \"1999-08-02T00:00:00\", \"1999-07-26T00:00:00\", \"1999-07-19T00:00:00\", \"1999-07-12T00:00:00\", \"1999-07-05T00:00:00\", \"1999-06-28T00:00:00\", \"1999-06-21T00:00:00\", \"1999-06-14T00:00:00\", \"1999-06-07T00:00:00\", \"1999-05-31T00:00:00\", \"1999-05-24T00:00:00\", \"1999-05-17T00:00:00\", \"1999-05-10T00:00:00\", \"1999-05-03T00:00:00\", \"1999-04-26T00:00:00\", \"1999-04-19T00:00:00\", \"1999-04-12T00:00:00\", \"1999-04-05T00:00:00\", \"1999-03-29T00:00:00\", \"1999-03-22T00:00:00\", \"1999-03-15T00:00:00\", \"1999-03-08T00:00:00\", \"1999-03-01T00:00:00\", \"1999-02-22T00:00:00\", \"1999-02-15T00:00:00\", \"1999-02-08T00:00:00\", \"1999-02-01T00:00:00\", \"1999-01-25T00:00:00\", \"1999-01-18T00:00:00\", \"1999-01-11T00:00:00\", \"1999-01-04T00:00:00\", \"1998-12-28T00:00:00\", \"1998-12-21T00:00:00\", \"1998-12-14T00:00:00\", \"1998-12-07T00:00:00\", \"1998-11-30T00:00:00\", \"1998-11-23T00:00:00\", \"1998-11-16T00:00:00\", \"1998-11-09T00:00:00\", \"1998-11-02T00:00:00\", \"1998-10-26T00:00:00\", \"1998-10-19T00:00:00\", \"1998-10-12T00:00:00\", \"1998-10-05T00:00:00\", \"1998-09-28T00:00:00\", \"1998-09-21T00:00:00\", \"1998-09-14T00:00:00\", \"1998-09-07T00:00:00\", \"1998-08-31T00:00:00\", \"1998-08-24T00:00:00\", \"1998-08-17T00:00:00\", \"1998-08-10T00:00:00\", \"1998-08-03T00:00:00\", \"1998-07-27T00:00:00\", \"1998-07-20T00:00:00\", \"1998-07-13T00:00:00\", \"1998-07-06T00:00:00\", \"1998-06-29T00:00:00\", \"1998-06-22T00:00:00\", \"1998-06-15T00:00:00\", \"1998-06-08T00:00:00\", \"1998-06-01T00:00:00\", \"1998-05-25T00:00:00\", \"1998-05-18T00:00:00\", \"1998-05-11T00:00:00\", \"1998-05-04T00:00:00\", \"1998-04-27T00:00:00\", \"1998-04-20T00:00:00\", \"1998-04-13T00:00:00\", \"1998-04-06T00:00:00\", \"1998-03-30T00:00:00\", \"1998-03-23T00:00:00\", \"1998-03-16T00:00:00\", \"1998-03-09T00:00:00\", \"1998-03-02T00:00:00\", \"1998-02-23T00:00:00\", \"1998-02-16T00:00:00\", \"1998-02-09T00:00:00\", \"1998-02-02T00:00:00\", \"1998-01-26T00:00:00\", \"1998-01-19T00:00:00\", \"1998-01-12T00:00:00\", \"1998-01-05T00:00:00\", \"1997-12-29T00:00:00\", \"1997-12-22T00:00:00\", \"1997-12-15T00:00:00\", \"1997-12-08T00:00:00\", \"1997-12-01T00:00:00\", \"1997-11-24T00:00:00\", \"1997-11-17T00:00:00\", \"1997-11-10T00:00:00\", \"1997-11-03T00:00:00\", \"1997-10-27T00:00:00\", \"1997-10-20T00:00:00\", \"1997-10-13T00:00:00\", \"1997-10-06T00:00:00\", \"1997-09-29T00:00:00\", \"1997-09-22T00:00:00\", \"1997-09-15T00:00:00\", \"1997-09-08T00:00:00\", \"1997-09-01T00:00:00\", \"1997-08-25T00:00:00\", \"1997-08-18T00:00:00\", \"1997-08-11T00:00:00\", \"1997-08-04T00:00:00\", \"1997-07-28T00:00:00\", \"1997-07-21T00:00:00\", \"1997-07-14T00:00:00\", \"1997-07-07T00:00:00\", \"1997-06-30T00:00:00\", \"1997-06-23T00:00:00\", \"1997-06-16T00:00:00\", \"1997-06-09T00:00:00\", \"1997-06-02T00:00:00\", \"1997-05-26T00:00:00\", \"1997-05-19T00:00:00\", \"1997-05-12T00:00:00\", \"1997-05-05T00:00:00\", \"1997-04-28T00:00:00\", \"1997-04-21T00:00:00\", \"1997-04-14T00:00:00\", \"1997-04-07T00:00:00\", \"1997-03-31T00:00:00\", \"1997-03-24T00:00:00\", \"1997-03-17T00:00:00\", \"1997-03-10T00:00:00\", \"1997-03-03T00:00:00\", \"1997-02-24T00:00:00\", \"1997-02-17T00:00:00\", \"1997-02-10T00:00:00\", \"1997-02-03T00:00:00\", \"1997-01-27T00:00:00\", \"1997-01-20T00:00:00\", \"1997-01-13T00:00:00\", \"1997-01-06T00:00:00\", \"1996-12-30T00:00:00\", \"1996-12-23T00:00:00\", \"1996-12-16T00:00:00\", \"1996-12-09T00:00:00\", \"1996-12-02T00:00:00\", \"1996-11-25T00:00:00\", \"1996-11-18T00:00:00\", \"1996-11-11T00:00:00\", \"1996-11-04T00:00:00\", \"1996-10-28T00:00:00\", \"1996-10-21T00:00:00\", \"1996-10-14T00:00:00\", \"1996-10-07T00:00:00\", \"1996-09-30T00:00:00\", \"1996-09-23T00:00:00\", \"1996-09-16T00:00:00\", \"1996-09-09T00:00:00\", \"1996-09-02T00:00:00\", \"1996-08-26T00:00:00\", \"1996-08-19T00:00:00\", \"1996-08-12T00:00:00\", \"1996-08-05T00:00:00\", \"1996-07-29T00:00:00\", \"1996-07-22T00:00:00\", \"1996-07-15T00:00:00\", \"1996-07-08T00:00:00\", \"1996-07-01T00:00:00\", \"1996-06-24T00:00:00\", \"1996-06-17T00:00:00\", \"1996-06-10T00:00:00\", \"1996-06-03T00:00:00\", \"1996-05-27T00:00:00\", \"1996-05-20T00:00:00\", \"1996-05-13T00:00:00\", \"1996-05-06T00:00:00\", \"1996-04-29T00:00:00\", \"1996-04-22T00:00:00\", \"1996-04-15T00:00:00\", \"1996-04-08T00:00:00\", \"1996-04-01T00:00:00\", \"1996-03-25T00:00:00\", \"1996-03-18T00:00:00\", \"1996-03-11T00:00:00\", \"1996-03-04T00:00:00\", \"1996-02-26T00:00:00\", \"1996-02-19T00:00:00\", \"1996-02-12T00:00:00\", \"1996-02-05T00:00:00\", \"1996-01-29T00:00:00\", \"1996-01-22T00:00:00\", \"1996-01-15T00:00:00\", \"1996-01-08T00:00:00\", \"1996-01-01T00:00:00\", \"1995-12-25T00:00:00\", \"1995-12-18T00:00:00\", \"1995-12-11T00:00:00\", \"1995-12-04T00:00:00\", \"1995-11-27T00:00:00\", \"1995-11-20T00:00:00\", \"1995-11-13T00:00:00\", \"1995-11-06T00:00:00\", \"1995-10-30T00:00:00\", \"1995-10-23T00:00:00\", \"1995-10-16T00:00:00\", \"1995-10-09T00:00:00\", \"1995-10-02T00:00:00\", \"1995-09-25T00:00:00\", \"1995-09-18T00:00:00\", \"1995-09-11T00:00:00\", \"1995-09-04T00:00:00\", \"1995-08-28T00:00:00\", \"1995-08-21T00:00:00\", \"1995-08-14T00:00:00\", \"1995-08-07T00:00:00\", \"1995-07-31T00:00:00\", \"1995-07-24T00:00:00\", \"1995-07-17T00:00:00\", \"1995-07-10T00:00:00\", \"1995-07-03T00:00:00\", \"1995-06-26T00:00:00\", \"1995-06-19T00:00:00\", \"1995-06-12T00:00:00\", \"1995-06-05T00:00:00\", \"1995-05-29T00:00:00\", \"1995-05-22T00:00:00\", \"1995-05-15T00:00:00\", \"1995-05-08T00:00:00\", \"1995-05-01T00:00:00\", \"1995-04-24T00:00:00\", \"1995-04-17T00:00:00\", \"1995-04-10T00:00:00\", \"1995-04-03T00:00:00\", \"1995-03-27T00:00:00\", \"1995-03-20T00:00:00\", \"1995-03-13T00:00:00\", \"1995-03-06T00:00:00\", \"1995-02-27T00:00:00\", \"1995-02-20T00:00:00\", \"1995-02-13T00:00:00\", \"1995-02-06T00:00:00\", \"1995-01-30T00:00:00\", \"1995-01-23T00:00:00\", \"1995-01-16T00:00:00\", \"1995-01-09T00:00:00\", \"1995-01-02T00:00:00\", \"1994-12-26T00:00:00\", \"1994-12-19T00:00:00\", \"1994-12-12T00:00:00\", \"1994-12-05T00:00:00\", \"1994-11-28T00:00:00\", \"1994-11-21T00:00:00\", \"1994-11-14T00:00:00\", \"1994-11-07T00:00:00\", \"1994-10-31T00:00:00\", \"1994-10-24T00:00:00\", \"1994-10-17T00:00:00\", \"1994-10-10T00:00:00\", \"1994-10-03T00:00:00\", \"1994-09-26T00:00:00\", \"1994-09-19T00:00:00\", \"1994-09-12T00:00:00\", \"1994-09-05T00:00:00\", \"1994-08-29T00:00:00\", \"1994-08-22T00:00:00\", \"1994-08-15T00:00:00\", \"1994-08-08T00:00:00\", \"1994-08-01T00:00:00\", \"1994-07-25T00:00:00\", \"1994-07-18T00:00:00\", \"1994-07-11T00:00:00\", \"1994-07-04T00:00:00\", \"1994-06-27T00:00:00\", \"1994-06-20T00:00:00\", \"1994-06-13T00:00:00\", \"1994-06-06T00:00:00\", \"1994-05-30T00:00:00\", \"1994-05-23T00:00:00\", \"1994-05-16T00:00:00\", \"1994-05-09T00:00:00\", \"1994-05-02T00:00:00\", \"1994-04-25T00:00:00\", \"1994-04-18T00:00:00\", \"1994-04-11T00:00:00\", \"1994-04-04T00:00:00\", \"1994-03-28T00:00:00\", \"1994-03-21T00:00:00\", \"1994-03-14T00:00:00\", \"1994-03-07T00:00:00\", \"1994-02-28T00:00:00\", \"1994-02-21T00:00:00\", \"1994-02-14T00:00:00\", \"1994-02-07T00:00:00\", \"1994-01-31T00:00:00\", \"1994-01-24T00:00:00\", \"1994-01-17T00:00:00\", \"1994-01-10T00:00:00\", \"1994-01-03T00:00:00\", \"1993-12-27T00:00:00\", \"1993-12-20T00:00:00\", \"1993-12-13T00:00:00\", \"1993-12-06T00:00:00\", \"1993-11-29T00:00:00\", \"1993-11-22T00:00:00\", \"1993-11-15T00:00:00\", \"1993-11-08T00:00:00\", \"1993-11-01T00:00:00\", \"1993-10-25T00:00:00\", \"1993-10-18T00:00:00\", \"1993-10-11T00:00:00\", \"1993-10-04T00:00:00\", \"1993-09-27T00:00:00\", \"1993-09-20T00:00:00\", \"1993-09-13T00:00:00\", \"1993-09-06T00:00:00\", \"1993-08-30T00:00:00\", \"1993-08-23T00:00:00\", \"1993-08-16T00:00:00\", \"1993-08-09T00:00:00\", \"1993-08-02T00:00:00\", \"1993-07-26T00:00:00\", \"1993-07-19T00:00:00\", \"1993-07-12T00:00:00\", \"1993-07-05T00:00:00\", \"1993-06-28T00:00:00\", \"1993-06-21T00:00:00\", \"1993-06-14T00:00:00\", \"1993-06-07T00:00:00\", \"1993-05-31T00:00:00\", \"1993-05-24T00:00:00\", \"1993-05-17T00:00:00\", \"1993-05-10T00:00:00\", \"1993-05-03T00:00:00\", \"1993-04-26T00:00:00\", \"1993-04-19T00:00:00\", \"1993-04-12T00:00:00\", \"1993-04-05T00:00:00\", \"1993-03-29T00:00:00\", \"1993-03-22T00:00:00\", \"1993-03-15T00:00:00\", \"1993-03-08T00:00:00\", \"1993-03-01T00:00:00\", \"1993-02-22T00:00:00\", \"1993-02-15T00:00:00\", \"1993-02-08T00:00:00\", \"1993-02-01T00:00:00\", \"1993-01-25T00:00:00\", \"1993-01-18T00:00:00\", \"1993-01-11T00:00:00\", \"1993-01-04T00:00:00\", \"1992-12-28T00:00:00\", \"1992-12-21T00:00:00\", \"1992-12-14T00:00:00\", \"1992-12-07T00:00:00\", \"1992-11-30T00:00:00\", \"1992-11-23T00:00:00\", \"1992-11-16T00:00:00\", \"1992-11-09T00:00:00\", \"1992-11-02T00:00:00\", \"1992-10-26T00:00:00\", \"1992-10-19T00:00:00\", \"1992-10-12T00:00:00\", \"1992-10-05T00:00:00\", \"1992-09-28T00:00:00\", \"1992-09-21T00:00:00\", \"1992-09-14T00:00:00\", \"1992-09-07T00:00:00\", \"1992-08-31T00:00:00\", \"1992-08-24T00:00:00\", \"1992-08-17T00:00:00\", \"1992-08-10T00:00:00\", \"1992-08-03T00:00:00\", \"1992-07-27T00:00:00\", \"1992-07-20T00:00:00\", \"1992-07-13T00:00:00\", \"1992-07-06T00:00:00\", \"1992-06-29T00:00:00\", \"1992-06-22T00:00:00\", \"1992-06-15T00:00:00\", \"1992-06-08T00:00:00\", \"1992-06-01T00:00:00\", \"1992-05-25T00:00:00\", \"1992-05-18T00:00:00\", \"1992-05-11T00:00:00\", \"1992-05-04T00:00:00\", \"1992-04-27T00:00:00\", \"1992-04-20T00:00:00\", \"1992-04-13T00:00:00\", \"1992-04-06T00:00:00\", \"1992-03-30T00:00:00\", \"1992-03-23T00:00:00\", \"1992-03-16T00:00:00\", \"1992-03-09T00:00:00\", \"1992-03-02T00:00:00\", \"1992-02-24T00:00:00\", \"1992-02-17T00:00:00\", \"1992-02-10T00:00:00\", \"1992-02-03T00:00:00\", \"1992-01-27T00:00:00\", \"1992-01-20T00:00:00\", \"1992-01-13T00:00:00\", \"1992-01-06T00:00:00\", \"1991-12-30T00:00:00\", \"1991-12-23T00:00:00\", \"1991-12-16T00:00:00\", \"1991-12-09T00:00:00\", \"1991-12-02T00:00:00\", \"1991-11-25T00:00:00\", \"1991-11-18T00:00:00\", \"1991-11-11T00:00:00\", \"1991-11-04T00:00:00\", \"1991-10-28T00:00:00\", \"1991-10-21T00:00:00\", \"1991-10-14T00:00:00\", \"1991-10-07T00:00:00\", \"1991-09-30T00:00:00\", \"1991-09-23T00:00:00\", \"1991-09-16T00:00:00\", \"1991-09-09T00:00:00\", \"1991-09-02T00:00:00\", \"1991-08-26T00:00:00\", \"1991-08-19T00:00:00\", \"1991-08-12T00:00:00\", \"1991-08-05T00:00:00\", \"1991-07-29T00:00:00\", \"1991-07-22T00:00:00\", \"1991-07-15T00:00:00\", \"1991-07-08T00:00:00\", \"1991-07-01T00:00:00\", \"1991-06-24T00:00:00\", \"1991-06-17T00:00:00\", \"1991-06-10T00:00:00\", \"1991-06-03T00:00:00\", \"1991-05-27T00:00:00\", \"1991-05-20T00:00:00\", \"1991-05-13T00:00:00\", \"1991-05-06T00:00:00\", \"1991-04-29T00:00:00\", \"1991-04-22T00:00:00\", \"1991-04-15T00:00:00\", \"1991-04-08T00:00:00\", \"1991-04-01T00:00:00\", \"1991-03-25T00:00:00\", \"1991-03-18T00:00:00\", \"1991-03-11T00:00:00\", \"1991-03-04T00:00:00\", \"1991-02-25T00:00:00\", \"1991-02-18T00:00:00\", \"1991-02-11T00:00:00\", \"1991-02-04T00:00:00\", \"1991-01-28T00:00:00\", \"1991-01-21T00:00:00\", \"1990-12-03T00:00:00\", \"1990-11-26T00:00:00\", \"1990-11-19T00:00:00\", \"1990-11-12T00:00:00\", \"1990-11-05T00:00:00\", \"1990-10-29T00:00:00\", \"1990-10-22T00:00:00\", \"1990-10-15T00:00:00\", \"1990-10-08T00:00:00\", \"1990-10-01T00:00:00\", \"1990-09-24T00:00:00\", \"1990-09-17T00:00:00\", \"1990-09-10T00:00:00\", \"1990-09-03T00:00:00\", \"1990-08-27T00:00:00\", \"1990-08-20T00:00:00\"], \"xaxis\": \"x\", \"y\": [2.767, 2.763, 2.777, 2.771, 2.78, 2.766, 2.684, 2.625, 2.549, 2.409, 2.372, 2.316, 2.298, 2.285, 2.232, 2.16, 2.158, 2.137, 2.063, 2.063, 2.022, 2.009, 2.018, 2.004, 2.021, 2.053, 2.064, 2.084, 2.091, 2.088, 2.078, 2.091, 2.122, 2.135, 2.09, 2.077, 2.078, 2.085, 2.085, 2.099, 2.113, 2.1, 2.094, 2.048, 2.017, 1.947, 1.883, 1.87, 1.776, 1.75, 1.68, 1.655, 1.694, 1.735, 1.8, 1.886, 2.007, 2.139, 2.272, 2.324, 2.373, 2.337, 2.324, 2.358, 2.412, 2.448, 2.482, 2.494, 2.488, 2.447, 2.448, 2.478, 2.485, 2.469, 2.473, 2.493, 2.485, 2.469, 2.512, 2.495, 2.513, 2.518, 2.561, 2.454, 2.45, 2.461, 2.471, 2.501, 2.524, 2.588, 2.615, 2.653, 2.682, 2.644, 2.608, 2.541, 2.553, 2.62, 2.691, 2.696, 2.723, 2.735, 2.771, 2.761, 2.723, 2.725, 2.65, 2.611, 2.544, 2.477, 2.399, 2.352, 2.311, 2.23, 2.187, 2.162, 2.162, 2.147, 2.143, 2.128, 2.156, 2.216, 2.268, 2.325, 2.35, 2.445, 2.525, 2.604, 2.67, 2.732, 2.763, 2.806, 2.829, 2.796, 2.779, 2.771, 2.765, 2.759, 2.761, 2.755, 2.774, 2.781, 2.772, 2.754, 2.79, 2.774, 2.762, 2.745, 2.79, 2.822, 2.849, 2.877, 2.834, 2.786, 2.733, 2.741, 2.696, 2.644, 2.587, 2.592, 2.541, 2.494, 2.455, 2.462, 2.442, 2.455, 2.511, 2.544, 2.516, 2.482, 2.473, 2.429, 2.436, 2.384, 2.358, 2.401, 2.41, 2.444, 2.48, 2.504, 2.468, 2.41, 2.406, 2.413, 2.426, 2.493, 2.508, 2.559, 2.61, 2.604, 2.322, 2.273, 2.301, 2.29, 2.269, 2.224, 2.188, 2.21, 2.163, 2.201, 2.224, 2.276, 2.325, 2.308, 2.306, 2.283, 2.288, 2.331, 2.372, 2.356, 2.351, 2.281, 2.228, 2.238, 2.242, 2.264, 2.233, 2.224, 2.228, 2.221, 2.224, 2.258, 2.298, 2.328, 2.319, 2.254, 2.203, 2.174, 2.137, 2.079, 2.078, 2.105, 2.157, 2.159, 2.175, 2.198, 2.216, 2.184, 2.166, 2.17, 2.138, 2.17, 2.187, 2.136, 2.096, 2.087, 2.091, 2.105, 2.148, 2.171, 2.205, 2.25, 2.29, 2.343, 2.328, 2.281, 2.235, 2.17, 2.143, 2.168, 2.08, 2.053, 1.981, 1.994, 1.976, 1.935, 1.888, 1.782, 1.715, 1.661, 1.638, 1.663, 1.729, 1.752, 1.81, 1.888, 1.922, 1.933, 1.929, 1.953, 1.969, 1.974, 2.015, 2.11, 2.172, 2.17, 2.166, 2.22, 2.283, 2.252, 2.246, 2.237, 2.28, 2.337, 2.406, 2.534, 2.608, 2.505, 2.555, 2.605, 2.661, 2.694, 2.702, 2.713, 2.72, 2.744, 2.668, 2.656, 2.642, 2.604, 2.547, 2.517, 2.451, 2.393, 2.317, 2.315, 2.348, 2.347, 2.339, 2.367, 2.36, 2.256, 2.206, 2.133, 2.013, 1.982, 1.999, 2.066, 2.136, 2.229, 2.341, 2.499, 2.634, 2.738, 2.781, 2.856, 2.907, 2.956, 3.016, 3.07, 3.147, 3.246, 3.304, 3.296, 3.352, 3.406, 3.41, 3.397, 3.408, 3.447, 3.449, 3.468, 3.523, 3.56, 3.605, 3.635, 3.639, 3.621, 3.61, 3.624, 3.607, 3.593, 3.597, 3.606, 3.635, 3.612, 3.581, 3.533, 3.521, 3.487, 3.489, 3.452, 3.421, 3.394, 3.326, 3.257, 3.243, 3.241, 3.24, 3.267, 3.261, 3.264, 3.198, 3.165, 3.208, 3.209, 3.241, 3.161, 3.133, 3.209, 3.235, 3.31, 3.296, 3.298, 3.354, 3.425, 3.475, 3.54, 3.575, 3.504, 3.496, 3.493, 3.566, 3.57, 3.612, 3.57, 3.413, 3.41, 3.498, 3.577, 3.619, 3.61, 3.601, 3.636, 3.543, 3.478, 3.455, 3.472, 3.469, 3.539, 3.572, 3.616, 3.633, 3.644, 3.698, 3.722, 3.69, 3.537, 3.471, 3.296, 3.254, 3.236, 3.233, 3.245, 3.205, 3.198, 3.297, 3.337, 3.382, 3.36, 3.372, 3.406, 3.48, 3.582, 3.713, 3.742, 3.75, 3.775, 3.832, 3.799, 3.797, 3.722, 3.682, 3.662, 3.606, 3.45, 3.435, 3.364, 3.357, 3.291, 3.378, 3.473, 3.489, 3.518, 3.575, 3.622, 3.658, 3.718, 3.764, 3.805, 3.867, 3.877, 3.874, 3.843, 3.787, 3.747, 3.717, 3.641, 3.523, 3.466, 3.436, 3.386, 3.333, 3.342, 3.333, 3.254, 3.213, 3.183, 3.244, 3.24, 3.248, 3.312, 3.388, 3.37, 3.405, 3.415, 3.431, 3.368, 3.381, 3.461, 3.56, 3.629, 3.643, 3.601, 3.552, 3.576, 3.646, 3.684, 3.667, 3.648, 3.608, 3.534, 3.513, 3.597, 3.664, 3.738, 3.741, 3.788, 3.905, 3.907, 3.906, 3.817, 3.787, 3.743, 3.635, 3.538, 3.507, 3.517, 3.473, 3.341, 3.141, 3.095, 3.094, 3.061, 3.074, 3.068, 3.052, 3.034, 3.015, 2.934, 2.937, 2.917, 2.805, 2.828, 2.849, 2.832, 2.76, 2.772, 2.795, 2.793, 2.705, 2.668, 2.703, 2.695, 2.647, 2.64, 2.653, 2.696, 2.74, 2.687, 2.703, 2.672, 2.666, 2.676, 2.712, 2.696, 2.652, 2.674, 2.679, 2.741, 2.823, 2.87, 2.864, 2.815, 2.831, 2.829, 2.795, 2.765, 2.792, 2.76, 2.721, 2.671, 2.621, 2.563, 2.611, 2.618, 2.666, 2.703, 2.717, 2.627, 2.564, 2.546, 2.56, 2.601, 2.594, 2.603, 2.585, 2.627, 2.66, 2.641, 2.532, 2.432, 2.396, 2.425, 2.477, 2.499, 2.519, 2.553, 2.572, 2.58, 2.596, 2.511, 2.46, 2.411, 2.479, 2.563, 2.593, 2.65, 2.639, 2.6, 2.502, 2.414, 2.281, 2.218, 2.045, 2.016, 2.031, 2.025, 2.011, 2.03, 1.944, 1.885, 1.918, 1.91, 1.868, 1.931, 1.897, 1.871, 1.813, 1.832, 1.772, 1.672, 1.59, 1.635, 1.648, 1.681, 1.79, 1.857, 2.027, 2.17, 2.34, 2.589, 2.855, 3.109, 3.485, 3.644, 3.732, 3.867, 3.637, 3.667, 3.66, 3.706, 3.764, 3.828, 3.896, 4.005, 4.054, 4.051, 4.027, 4.002, 4.007, 3.979, 3.932, 3.913, 3.762, 3.694, 3.571, 3.566, 3.467, 3.35, 3.299, 3.259, 3.224, 3.257, 3.2, 3.137, 3.115, 3.035, 2.947, 2.966, 2.953, 2.991, 3.041, 3.088, 3.028, 2.943, 2.962, 2.957, 3.029, 3.072, 3.077, 3.101, 3.007, 2.859, 2.806, 2.746, 2.761, 2.784, 2.816, 2.792, 2.84, 2.818, 2.756, 2.783, 2.752, 2.816, 2.849, 2.938, 3.046, 2.971, 2.933, 2.951, 2.974, 3.04, 3.132, 3.195, 3.211, 3.069, 3.002, 2.922, 2.811, 2.822, 2.746, 2.636, 2.54, 2.511, 2.499, 2.46, 2.338, 2.251, 2.198, 2.151, 2.119, 2.107, 2.173, 2.258, 2.296, 2.303, 2.29, 2.267, 2.277, 2.221, 2.218, 2.216, 2.189, 2.204, 2.186, 2.195, 2.222, 2.263, 2.32, 2.441, 2.563, 2.68, 2.8, 2.877, 2.958, 3.004, 2.955, 2.95, 2.928, 2.91, 2.873, 2.796, 2.793, 2.833, 2.811, 2.784, 2.801, 2.871, 2.834, 2.866, 2.881, 2.764, 2.663, 2.567, 2.479, 2.495, 2.355, 2.321, 2.236, 2.205, 2.246, 2.31, 2.332, 2.314, 2.297, 2.321, 2.236, 2.188, 2.205, 2.175, 2.127, 2.124, 2.168, 2.258, 2.336, 2.438, 2.564, 2.693, 2.828, 2.922, 2.767, 2.73, 2.912, 3.037, 2.581, 2.583, 2.519, 2.323, 2.239, 2.235, 2.272, 2.292, 2.189, 2.186, 2.128, 2.099, 2.078, 2.051, 2.077, 2.116, 2.137, 2.191, 2.197, 2.198, 2.251, 2.196, 2.137, 2.095, 2.039, 1.979, 1.904, 1.878, 1.873, 1.89, 1.896, 1.839, 1.802, 1.771, 1.745, 1.754, 1.777, 1.799, 1.868, 1.903, 1.901, 1.918, 1.951, 1.986, 1.98, 1.984, 1.949, 1.902, 1.895, 1.839, 1.813, 1.815, 1.827, 1.854, 1.842, 1.839, 1.846, 1.861, 1.888, 1.869, 1.835, 1.859, 1.873, 1.926, 1.983, 2.004, 2.026, 1.979, 1.904, 1.811, 1.774, 1.773, 1.74, 1.737, 1.716, 1.698, 1.675, 1.69, 1.664, 1.641, 1.617, 1.609, 1.591, 1.604, 1.579, 1.544, 1.492, 1.454, 1.459, 1.433, 1.441, 1.454, 1.478, 1.459, 1.464, 1.494, 1.499, 1.527, 1.515, 1.511, 1.524, 1.58, 1.636, 1.653, 1.688, 1.693, 1.594, 1.55, 1.516, 1.488, 1.496, 1.489, 1.448, 1.443, 1.451, 1.48, 1.456, 1.428, 1.439, 1.444, 1.427, 1.441, 1.486, 1.504, 1.521, 1.557, 1.577, 1.626, 1.673, 1.663, 1.641, 1.617, 1.63, 1.582, 1.499, 1.437, 1.422, 1.423, 1.412, 1.417, 1.371, 1.322, 1.316, 1.316, 1.336, 1.37, 1.406, 1.427, 1.427, 1.443, 1.422, 1.416, 1.385, 1.357, 1.367, 1.355, 1.353, 1.365, 1.357, 1.355, 1.355, 1.376, 1.381, 1.361, 1.345, 1.357, 1.342, 1.335, 1.332, 1.353, 1.348, 1.36, 1.349, 1.356, 1.353, 1.367, 1.368, 1.382, 1.339, 1.308, 1.262, 1.194, 1.118, 1.087, 1.089, 1.085, 1.098, 1.081, 1.087, 1.099, 1.109, 1.096, 1.063, 1.042, 1.075, 1.084, 1.097, 1.14, 1.147, 1.17, 1.193, 1.221, 1.264, 1.31, 1.381, 1.46, 1.516, 1.511, 1.538, 1.48, 1.399, 1.347, 1.319, 1.319, 1.318, 1.33, 1.35, 1.384, 1.454, 1.526, 1.58, 1.63, 1.656, 1.637, 1.663, 1.659, 1.585, 1.586, 1.535, 1.469, 1.411, 1.379, 1.377, 1.387, 1.393, 1.41, 1.429, 1.46, 1.426, 1.446, 1.456, 1.458, 1.4, 1.377, 1.388, 1.396, 1.425, 1.464, 1.489, 1.487, 1.501, 1.502, 1.523, 1.532, 1.516, 1.473, 1.498, 1.525, 1.539, 1.535, 1.502, 1.456, 1.444, 1.42, 1.437, 1.447, 1.499, 1.521, 1.571, 1.606, 1.641, 1.664, 1.607, 1.535, 1.509, 1.494, 1.466, 1.427, 1.386, 1.406, 1.415, 1.447, 1.478, 1.484, 1.508, 1.511, 1.49, 1.413, 1.4, 1.35, 1.319, 1.307, 1.307, 1.268, 1.252, 1.26, 1.263, 1.257, 1.263, 1.26, 1.262, 1.258, 1.24, 1.222, 1.218, 1.225, 1.22, 1.234, 1.242, 1.248, 1.252, 1.234, 1.223, 1.214, 1.212, 1.214, 1.183, 1.172, 1.172, 1.148, 1.123, 1.11, 1.095, 1.105, 1.088, 1.092, 1.088, 1.101, 1.112, 1.109, 1.107, 1.099, 1.103, 1.107, 1.087, 1.055, 0.999, 0.958, 0.9, 0.891, 0.885, 0.899, 0.907, 0.908, 0.913, 0.921, 0.92, 0.913, 0.914, 0.921, 0.923, 0.933, 0.954, 0.971, 0.981, 0.994, 0.997, 1.001, 1.007, 1.01, 1.006, 0.999, 0.999, 0.987, 0.991, 0.998, 1.004, 1.011, 1.018, 1.023, 1.035, 1.044, 1.037, 1.041, 1.042, 1.041, 1.049, 1.06, 1.047, 1.052, 1.055, 1.052, 1.038, 1.032, 1.021, 1.018, 1.023, 1.026, 0.998, 1.006, 1.017, 1.025, 1.038, 1.032, 1.045, 1.051, 1.055, 1.072, 1.083, 1.089, 1.099, 1.108, 1.118, 1.128, 1.14, 1.15, 1.156, 1.164, 1.163, 1.168, 1.178, 1.187, 1.195, 1.195, 1.208, 1.219, 1.227, 1.229, 1.23, 1.218, 1.219, 1.185, 1.164, 1.17, 1.165, 1.169, 1.171, 1.179, 1.189, 1.198, 1.206, 1.204, 1.195, 1.182, 1.182, 1.185, 1.188, 1.187, 1.192, 1.191, 1.196, 1.191, 1.199, 1.208, 1.217, 1.22, 1.227, 1.23, 1.232, 1.236, 1.235, 1.22, 1.224, 1.227, 1.233, 1.241, 1.242, 1.246, 1.238, 1.229, 1.225, 1.217, 1.205, 1.203, 1.191, 1.199, 1.203, 1.203, 1.201, 1.193, 1.201, 1.199, 1.196, 1.199, 1.209, 1.215, 1.215, 1.217, 1.219, 1.23, 1.241, 1.247, 1.252, 1.26, 1.269, 1.262, 1.259, 1.257, 1.243, 1.234, 1.195, 1.172, 1.158, 1.128, 1.116, 1.115, 1.099, 1.078, 1.073, 1.076, 1.079, 1.084, 1.092, 1.086, 1.077, 1.075, 1.072, 1.057, 1.058, 1.057, 1.056, 1.059, 1.06, 1.062, 1.073, 1.081, 1.092, 1.1, 1.106, 1.106, 1.107, 1.111, 1.113, 1.122, 1.121, 1.124, 1.126, 1.138, 1.148, 1.159, 1.169, 1.177, 1.183, 1.19, 1.194, 1.193, 1.191, 1.173, 1.164, 1.141, 1.133, 1.11, 1.094, 1.077, 1.063, 1.055, 1.056, 1.063, 1.06, 1.052, 1.058, 1.062, 1.068, 1.068, 1.062, 1.07, 1.063, 1.044, 1.056, 1.064, 1.075, 1.082, 1.113, 1.122, 1.123, 1.121, 1.107, 1.106, 1.114, 1.12, 1.129, 1.14, 1.15, 1.156, 1.161, 1.165, 1.161, 1.157, 1.13, 1.114, 1.109, 1.103, 1.097, 1.095, 1.079, 1.073, 1.065, 1.056, 1.05, 1.046, 1.045, 1.04, 1.037, 1.033, 1.028, 1.011, 1.012, 1.007, 1.005, 1.007, 1.004, 1.009, 1.016, 1.007, 1.005, 0.999, 1.001, 0.995, 0.992, 0.999, 1.003, 1.018, 1.036, 1.051, 1.058, 1.064, 1.075, 1.084, 1.092, 1.093, 1.09, 1.092, 1.047, 1.045, 1.051, 1.055, 1.062, 1.065, 1.059, 1.06, 1.062, 1.069, 1.075, 1.081, 1.086, 1.089, 1.095, 1.101, 1.104, 1.107, 1.106, 1.106, 1.097, 1.086, 1.086, 1.079, 1.079, 1.068, 1.057, 1.056, 1.058, 1.048, 1.042, 1.047, 1.053, 1.062, 1.055, 1.055, 1.061, 1.066, 1.065, 1.069, 1.074, 1.078, 1.089, 1.098, 1.106, 1.112, 1.12, 1.12, 1.113, 1.113, 1.115, 1.115, 1.118, 1.123, 1.124, 1.121, 1.121, 1.123, 1.116, 1.123, 1.126, 1.128, 1.132, 1.139, 1.147, 1.149, 1.153, 1.151, 1.143, 1.128, 1.12, 1.118, 1.102, 1.089, 1.072, 1.058, 1.051, 1.026, 1.013, 1.015, 1.01, 1.013, 1.012, 1.014, 1.011, 1.004, 0.995, 1.006, 1.014, 1.026, 1.042, 1.053, 1.063, 1.075, 1.091, 1.099, 1.099, 1.104, 1.102, 1.091, 1.091, 1.088, 1.084, 1.089, 1.092, 1.097, 1.11, 1.12, 1.127, 1.124, 1.124, 1.112, 1.099, 1.091, 1.091, 1.094, 1.098, 1.104, 1.114, 1.126, 1.135, 1.138, 1.14, 1.129, 1.121, 1.113, 1.104, 1.09, 1.069, 1.066, 1.052, 1.047, 1.043, 1.045, 1.025, 1.054, 1.078, 1.106, 1.139, 1.168, 1.192, 1.341, 1.311, 1.323, 1.328, 1.334, 1.339, 1.345, 1.339, 1.333, 1.321, 1.272, 1.266, 1.252, 1.242, 1.245, 1.191], \"yaxis\": \"y\"}],                        {\"legend\": {\"tracegroupgap\": 0}, \"template\": {\"data\": {\"bar\": [{\"error_x\": {\"color\": \"#2a3f5f\"}, \"error_y\": {\"color\": \"#2a3f5f\"}, \"marker\": {\"line\": {\"color\": \"#E5ECF6\", \"width\": 0.5}}, \"type\": \"bar\"}], \"barpolar\": [{\"marker\": {\"line\": {\"color\": \"#E5ECF6\", \"width\": 0.5}}, \"type\": \"barpolar\"}], \"carpet\": [{\"aaxis\": {\"endlinecolor\": \"#2a3f5f\", \"gridcolor\": \"white\", \"linecolor\": \"white\", \"minorgridcolor\": \"white\", \"startlinecolor\": \"#2a3f5f\"}, \"baxis\": {\"endlinecolor\": \"#2a3f5f\", \"gridcolor\": \"white\", \"linecolor\": \"white\", \"minorgridcolor\": \"white\", \"startlinecolor\": \"#2a3f5f\"}, \"type\": \"carpet\"}], \"choropleth\": [{\"colorbar\": {\"outlinewidth\": 0, \"ticks\": \"\"}, \"type\": \"choropleth\"}], \"contour\": [{\"colorbar\": {\"outlinewidth\": 0, \"ticks\": \"\"}, \"colorscale\": [[0.0, \"#0d0887\"], [0.1111111111111111, \"#46039f\"], [0.2222222222222222, \"#7201a8\"], [0.3333333333333333, \"#9c179e\"], [0.4444444444444444, \"#bd3786\"], [0.5555555555555556, \"#d8576b\"], [0.6666666666666666, \"#ed7953\"], [0.7777777777777778, \"#fb9f3a\"], [0.8888888888888888, \"#fdca26\"], [1.0, \"#f0f921\"]], \"type\": \"contour\"}], \"contourcarpet\": [{\"colorbar\": {\"outlinewidth\": 0, \"ticks\": \"\"}, \"type\": \"contourcarpet\"}], \"heatmap\": [{\"colorbar\": {\"outlinewidth\": 0, \"ticks\": \"\"}, \"colorscale\": [[0.0, \"#0d0887\"], [0.1111111111111111, \"#46039f\"], [0.2222222222222222, \"#7201a8\"], [0.3333333333333333, \"#9c179e\"], [0.4444444444444444, \"#bd3786\"], [0.5555555555555556, \"#d8576b\"], [0.6666666666666666, \"#ed7953\"], [0.7777777777777778, \"#fb9f3a\"], [0.8888888888888888, \"#fdca26\"], [1.0, \"#f0f921\"]], \"type\": \"heatmap\"}], \"heatmapgl\": [{\"colorbar\": {\"outlinewidth\": 0, \"ticks\": \"\"}, \"colorscale\": [[0.0, \"#0d0887\"], [0.1111111111111111, \"#46039f\"], [0.2222222222222222, \"#7201a8\"], [0.3333333333333333, \"#9c179e\"], [0.4444444444444444, \"#bd3786\"], [0.5555555555555556, \"#d8576b\"], [0.6666666666666666, \"#ed7953\"], [0.7777777777777778, \"#fb9f3a\"], [0.8888888888888888, \"#fdca26\"], [1.0, \"#f0f921\"]], \"type\": \"heatmapgl\"}], \"histogram\": [{\"marker\": {\"colorbar\": {\"outlinewidth\": 0, \"ticks\": \"\"}}, \"type\": \"histogram\"}], \"histogram2d\": [{\"colorbar\": {\"outlinewidth\": 0, \"ticks\": \"\"}, \"colorscale\": [[0.0, \"#0d0887\"], [0.1111111111111111, \"#46039f\"], [0.2222222222222222, \"#7201a8\"], [0.3333333333333333, \"#9c179e\"], [0.4444444444444444, \"#bd3786\"], [0.5555555555555556, \"#d8576b\"], [0.6666666666666666, \"#ed7953\"], [0.7777777777777778, \"#fb9f3a\"], [0.8888888888888888, \"#fdca26\"], [1.0, \"#f0f921\"]], \"type\": \"histogram2d\"}], \"histogram2dcontour\": [{\"colorbar\": {\"outlinewidth\": 0, \"ticks\": \"\"}, \"colorscale\": [[0.0, \"#0d0887\"], [0.1111111111111111, \"#46039f\"], [0.2222222222222222, \"#7201a8\"], [0.3333333333333333, \"#9c179e\"], [0.4444444444444444, \"#bd3786\"], [0.5555555555555556, \"#d8576b\"], [0.6666666666666666, \"#ed7953\"], [0.7777777777777778, \"#fb9f3a\"], [0.8888888888888888, \"#fdca26\"], [1.0, \"#f0f921\"]], \"type\": \"histogram2dcontour\"}], \"mesh3d\": [{\"colorbar\": {\"outlinewidth\": 0, \"ticks\": \"\"}, \"type\": \"mesh3d\"}], \"parcoords\": [{\"line\": {\"colorbar\": {\"outlinewidth\": 0, \"ticks\": \"\"}}, \"type\": \"parcoords\"}], \"pie\": [{\"automargin\": true, \"type\": \"pie\"}], \"scatter\": [{\"marker\": {\"colorbar\": {\"outlinewidth\": 0, \"ticks\": \"\"}}, \"type\": \"scatter\"}], \"scatter3d\": [{\"line\": {\"colorbar\": {\"outlinewidth\": 0, \"ticks\": \"\"}}, \"marker\": {\"colorbar\": {\"outlinewidth\": 0, \"ticks\": \"\"}}, \"type\": \"scatter3d\"}], \"scattercarpet\": [{\"marker\": {\"colorbar\": {\"outlinewidth\": 0, \"ticks\": \"\"}}, \"type\": \"scattercarpet\"}], \"scattergeo\": [{\"marker\": {\"colorbar\": {\"outlinewidth\": 0, \"ticks\": \"\"}}, \"type\": \"scattergeo\"}], \"scattergl\": [{\"marker\": {\"colorbar\": {\"outlinewidth\": 0, \"ticks\": \"\"}}, \"type\": \"scattergl\"}], \"scattermapbox\": [{\"marker\": {\"colorbar\": {\"outlinewidth\": 0, \"ticks\": \"\"}}, \"type\": \"scattermapbox\"}], \"scatterpolar\": [{\"marker\": {\"colorbar\": {\"outlinewidth\": 0, \"ticks\": \"\"}}, \"type\": \"scatterpolar\"}], \"scatterpolargl\": [{\"marker\": {\"colorbar\": {\"outlinewidth\": 0, \"ticks\": \"\"}}, \"type\": \"scatterpolargl\"}], \"scatterternary\": [{\"marker\": {\"colorbar\": {\"outlinewidth\": 0, \"ticks\": \"\"}}, \"type\": \"scatterternary\"}], \"surface\": [{\"colorbar\": {\"outlinewidth\": 0, \"ticks\": \"\"}, \"colorscale\": [[0.0, \"#0d0887\"], [0.1111111111111111, \"#46039f\"], [0.2222222222222222, \"#7201a8\"], [0.3333333333333333, \"#9c179e\"], [0.4444444444444444, \"#bd3786\"], [0.5555555555555556, \"#d8576b\"], [0.6666666666666666, \"#ed7953\"], [0.7777777777777778, \"#fb9f3a\"], [0.8888888888888888, \"#fdca26\"], [1.0, \"#f0f921\"]], \"type\": \"surface\"}], \"table\": [{\"cells\": {\"fill\": {\"color\": \"#EBF0F8\"}, \"line\": {\"color\": \"white\"}}, \"header\": {\"fill\": {\"color\": \"#C8D4E3\"}, \"line\": {\"color\": \"white\"}}, \"type\": \"table\"}]}, \"layout\": {\"annotationdefaults\": {\"arrowcolor\": \"#2a3f5f\", \"arrowhead\": 0, \"arrowwidth\": 1}, \"autotypenumbers\": \"strict\", \"coloraxis\": {\"colorbar\": {\"outlinewidth\": 0, \"ticks\": \"\"}}, \"colorscale\": {\"diverging\": [[0, \"#8e0152\"], [0.1, \"#c51b7d\"], [0.2, \"#de77ae\"], [0.3, \"#f1b6da\"], [0.4, \"#fde0ef\"], [0.5, \"#f7f7f7\"], [0.6, \"#e6f5d0\"], [0.7, \"#b8e186\"], [0.8, \"#7fbc41\"], [0.9, \"#4d9221\"], [1, \"#276419\"]], \"sequential\": [[0.0, \"#0d0887\"], [0.1111111111111111, \"#46039f\"], [0.2222222222222222, \"#7201a8\"], [0.3333333333333333, \"#9c179e\"], [0.4444444444444444, \"#bd3786\"], [0.5555555555555556, \"#d8576b\"], [0.6666666666666666, \"#ed7953\"], [0.7777777777777778, \"#fb9f3a\"], [0.8888888888888888, \"#fdca26\"], [1.0, \"#f0f921\"]], \"sequentialminus\": [[0.0, \"#0d0887\"], [0.1111111111111111, \"#46039f\"], [0.2222222222222222, \"#7201a8\"], [0.3333333333333333, \"#9c179e\"], [0.4444444444444444, \"#bd3786\"], [0.5555555555555556, \"#d8576b\"], [0.6666666666666666, \"#ed7953\"], [0.7777777777777778, \"#fb9f3a\"], [0.8888888888888888, \"#fdca26\"], [1.0, \"#f0f921\"]]}, \"colorway\": [\"#636efa\", \"#EF553B\", \"#00cc96\", \"#ab63fa\", \"#FFA15A\", \"#19d3f3\", \"#FF6692\", \"#B6E880\", \"#FF97FF\", \"#FECB52\"], \"font\": {\"color\": \"#2a3f5f\"}, \"geo\": {\"bgcolor\": \"white\", \"lakecolor\": \"white\", \"landcolor\": \"#E5ECF6\", \"showlakes\": true, \"showland\": true, \"subunitcolor\": \"white\"}, \"hoverlabel\": {\"align\": \"left\"}, \"hovermode\": \"closest\", \"mapbox\": {\"style\": \"light\"}, \"paper_bgcolor\": \"white\", \"plot_bgcolor\": \"#E5ECF6\", \"polar\": {\"angularaxis\": {\"gridcolor\": \"white\", \"linecolor\": \"white\", \"ticks\": \"\"}, \"bgcolor\": \"#E5ECF6\", \"radialaxis\": {\"gridcolor\": \"white\", \"linecolor\": \"white\", \"ticks\": \"\"}}, \"scene\": {\"xaxis\": {\"backgroundcolor\": \"#E5ECF6\", \"gridcolor\": \"white\", \"gridwidth\": 2, \"linecolor\": \"white\", \"showbackground\": true, \"ticks\": \"\", \"zerolinecolor\": \"white\"}, \"yaxis\": {\"backgroundcolor\": \"#E5ECF6\", \"gridcolor\": \"white\", \"gridwidth\": 2, \"linecolor\": \"white\", \"showbackground\": true, \"ticks\": \"\", \"zerolinecolor\": \"white\"}, \"zaxis\": {\"backgroundcolor\": \"#E5ECF6\", \"gridcolor\": \"white\", \"gridwidth\": 2, \"linecolor\": \"white\", \"showbackground\": true, \"ticks\": \"\", \"zerolinecolor\": \"white\"}}, \"shapedefaults\": {\"line\": {\"color\": \"#2a3f5f\"}}, \"ternary\": {\"aaxis\": {\"gridcolor\": \"white\", \"linecolor\": \"white\", \"ticks\": \"\"}, \"baxis\": {\"gridcolor\": \"white\", \"linecolor\": \"white\", \"ticks\": \"\"}, \"bgcolor\": \"#E5ECF6\", \"caxis\": {\"gridcolor\": \"white\", \"linecolor\": \"white\", \"ticks\": \"\"}}, \"title\": {\"x\": 0.05}, \"xaxis\": {\"automargin\": true, \"gridcolor\": \"white\", \"linecolor\": \"white\", \"ticks\": \"\", \"title\": {\"standoff\": 15}, \"zerolinecolor\": \"white\", \"zerolinewidth\": 2}, \"yaxis\": {\"automargin\": true, \"gridcolor\": \"white\", \"linecolor\": \"white\", \"ticks\": \"\", \"title\": {\"standoff\": 15}, \"zerolinecolor\": \"white\", \"zerolinewidth\": 2}}}, \"title\": {\"text\": \"Average gasoline gallon price\"}, \"xaxis\": {\"anchor\": \"y\", \"domain\": [0.0, 1.0], \"title\": {\"text\": \"Year\"}}, \"yaxis\": {\"anchor\": \"x\", \"domain\": [0.0, 1.0], \"title\": {\"text\": \"Average price\"}}},                        {\"responsive\": true}                    ).then(function(){\n",
       "                            \n",
       "var gd = document.getElementById('8fc3ece8-c8bd-4748-a92e-8d0d4e194249');\n",
       "var x = new MutationObserver(function (mutations, observer) {{\n",
       "        var display = window.getComputedStyle(gd).display;\n",
       "        if (!display || display === 'none') {{\n",
       "            console.log([gd, 'removed!']);\n",
       "            Plotly.purge(gd);\n",
       "            observer.disconnect();\n",
       "        }}\n",
       "}});\n",
       "\n",
       "// Listen for the removal of the full notebook cells\n",
       "var notebookContainer = gd.closest('#notebook-container');\n",
       "if (notebookContainer) {{\n",
       "    x.observe(notebookContainer, {childList: true});\n",
       "}}\n",
       "\n",
       "// Listen for the clearing of the current output cell\n",
       "var outputEl = gd.closest('.output');\n",
       "if (outputEl) {{\n",
       "    x.observe(outputEl, {childList: true});\n",
       "}}\n",
       "\n",
       "                        })                };                });            </script>        </div>"
      ]
     },
     "metadata": {},
     "output_type": "display_data"
    },
    {
     "data": {
      "text/plain": [
       "'What is actually seen from 2009 and on is a great drop in the average price mid summer, around July.'"
      ]
     },
     "execution_count": 15,
     "metadata": {},
     "output_type": "execute_result"
    }
   ],
   "source": [
    "#16\n",
    "# A)\n",
    "\"\"\"Loading data\"\"\"\n",
    "gallon_price = pd.read_csv('~/Documentos/projetos_ds/Weekly_U.S._Regular_Conventional_Retail_Gasoline_Prices.csv', \n",
    "                          header=4).dropna()\n",
    "dateweek_gallon_price = pd.to_datetime(gallon_price['Week of'], format='%m/%d/%Y')\n",
    "\n",
    "\"\"\"Building Graph\"\"\"\n",
    "gallon_timeseries=px.line(x=dateweek_gallon_price, \n",
    "                          y=gallon_price['Weekly U.S. Regular Conventional Retail Gasoline Prices Dollars per Gallon'], \n",
    "                          title='Average gasoline gallon price', \n",
    "                          labels={'x':'Year', 'y':'Average price'})\n",
    "\n",
    "gallon_timeseries.show()\n",
    "\n",
    "# B)\n",
    "\"\"\"The price has been growing since 2009, but with a huge drop on prices in 2015.\"\"\"\n",
    "\n",
    "# C)\n",
    "\"\"\"What is actually seen from 2009 and on is a great drop in the average price mid summer, around July.\"\"\""
   ]
  },
  {
   "cell_type": "code",
   "execution_count": 34,
   "metadata": {
    "ExecuteTime": {
     "end_time": "2021-04-29T01:53:52.578781Z",
     "start_time": "2021-04-29T01:53:48.880785Z"
    },
    "code_folding": [
     0
    ]
   },
   "outputs": [
    {
     "data": {
      "text/plain": [
       "\"In terms of external data, is important to know how much is the maximum paid to an employee like this one, \\nother important source of information is how much is offered in other kinds of bennefits. Internally, \\nis important to understand how is the employee relationship to other employees, how is his efficiency, \\nand how relevant is the work for the company, like what's his legacy of improvements left behind, in case\\nof him going.\""
      ]
     },
     "execution_count": 34,
     "metadata": {},
     "output_type": "execute_result"
    }
   ],
   "source": [
    "# 17.\n",
    "\"\"\"In terms of external data, is important to know how much is the maximum paid to an employee like this one, \n",
    "other important source of information is how much is offered in other kinds of bennefits. Internally, \n",
    "is important to understand how is the employee relationship to other employees, how is his efficiency, \n",
    "and how relevant is the work for the company, like what's his legacy of improvements left behind, in case\n",
    "of him going.\"\"\""
   ]
  },
  {
   "cell_type": "code",
   "execution_count": null,
   "metadata": {
    "code_folding": [
     0
    ]
   },
   "outputs": [],
   "source": [
    "# 18.\n",
    "# A)\n",
    "\"\"\"(155/430)*100=36% of the business travelers use agencies for their travels\"\"\"\n",
    "# B)\n",
    "\"\"\"430*0,44=190 travelers make travel using online websites\"\"\"\n",
    "# C)\n",
    "\"\"\"Quantitative\"\"\""
   ]
  },
  {
   "cell_type": "code",
   "execution_count": null,
   "metadata": {
    "code_folding": [
     0
    ]
   },
   "outputs": [],
   "source": [
    "# 19.\n",
    "# A)\n",
    "\"\"\"Business Week North American subscribers\"\"\"\n",
    "# B)\n",
    "\"\"\"Quantitative\"\"\"\n",
    "# C)\n",
    "\"\"\"Categorical\"\"\"\n",
    "# D)\n",
    "\"\"\"Cross-sectional\"\"\"\n",
    "# E)\n",
    "\"\"\"More than half of the population have an income of $75.000 or more and half the population have a credit \n",
    "card\"\"\""
   ]
  },
  {
   "cell_type": "code",
   "execution_count": null,
   "metadata": {
    "code_folding": [
     0
    ]
   },
   "outputs": [],
   "source": [
    "# 20.\n",
    "# A)\n",
    "\"\"\"First and Last statistics\"\"\"\n",
    "# B)\n",
    "\"\"\"We might expect people growing their finances by 11.2% in 12 months\"\"\"\n",
    "# C)\n",
    "\"\"\"We will see technologies and telecom stocks with sustainable grow in 3 years\"\"\""
   ]
  },
  {
   "cell_type": "code",
   "execution_count": null,
   "metadata": {
    "code_folding": [
     0
    ]
   },
   "outputs": [],
   "source": [
    "# 21.\n",
    "# A)\n",
    "\"\"\"Daughters of mothers who took the DES drug and the ones who don't\"\"\"\n",
    "# B)\n",
    "\"\"\"Experiment\"\"\"\n",
    "# C)\n",
    "\"\"\"(63/3980)=0,016*1000=16, it means that 16 women out of a thousand developed cancer\"\"\"\n",
    "# D)\n",
    "\"\"\"None, due to DES\"\"\"\n",
    "# E)\n",
    "\"\"\"To decrease the amount of uncertainty in the results obtained\"\"\""
   ]
  },
  {
   "cell_type": "code",
   "execution_count": null,
   "metadata": {
    "code_folding": [
     0
    ]
   },
   "outputs": [],
   "source": [
    "# 22.\n",
    "# A)\n",
    "\"\"\"People who live in Charlotte, North Carolina\"\"\"\n",
    "# B)\n",
    "\"\"\"Survey after sale\"\"\""
   ]
  },
  {
   "cell_type": "code",
   "execution_count": null,
   "metadata": {
    "code_folding": [
     0
    ]
   },
   "outputs": [],
   "source": [
    "# 23.\n",
    "# A)\n",
    "\"\"\"They are attempting to measure how many houses have tv's and which programs those houses watch\"\"\"\n",
    "# B)\n",
    "\"\"\"North Americans\"\"\"\n",
    "# C)\n",
    "\"\"\"Because the total population is too big, so a sample that represent the total population would work\"\"\"\n",
    "# D)\n",
    "\"\"\"The rating are for tv broadcasters to learn the kind of audience in the time their programs air and\n",
    "the share part goes to learn the how they are in relation to the competition\"\"\""
   ]
  },
  {
   "cell_type": "code",
   "execution_count": 64,
   "metadata": {
    "ExecuteTime": {
     "end_time": "2021-04-26T15:27:47.471884Z",
     "start_time": "2021-04-26T15:27:47.467446Z"
    },
    "code_folding": [
     0
    ]
   },
   "outputs": [],
   "source": [
    "# 24.\n",
    "# A)\n",
    "\n",
    "# B)\n",
    "\"\"\"Too general\"\"\"\n",
    "# C)\n",
    "\"\"\"Too general\"\"\"\n",
    "# D)\n",
    "\n",
    "# E)\n"
   ]
  },
  {
   "cell_type": "code",
   "execution_count": 16,
   "metadata": {
    "ExecuteTime": {
     "end_time": "2021-05-18T19:09:07.979880Z",
     "start_time": "2021-05-18T19:09:07.811732Z"
    }
   },
   "outputs": [
    {
     "name": "stdout",
     "output_type": "stream",
     "text": [
      "                      Company Exchange Ticker Symbol  Market Cap ($ millions)  \\\n",
      "0           DeWolfe Companies     AMEX           DWL                     36.4   \n",
      "1          North Coast Energy      OTC          NCEB                     52.5   \n",
      "2        Hansen Natural Corp.      OTC          HANS                     41.1   \n",
      "3             MarineMax, Inc.     NYSE           HZO                    111.5   \n",
      "4    Nanometrics Incorporated      OTC          NANO                    228.6   \n",
      "5             TeamStaff, Inc.      OTC          TSTF                     92.1   \n",
      "6      Enviromental Tectonics     AMEX           ETC                     51.1   \n",
      "7    Measureament Specialties     AMEX           MSS                    101.8   \n",
      "8          SEMCO Energy, Inc.     NYSE           SEN                    193.4   \n",
      "9      Party City Corporation      OTC          PCTY                     97.2   \n",
      "10               Embrex, Inc.      OTC          EMBX                    136.5   \n",
      "11      Tech/Ops Sevcon, Inc.     AMEX            TO                     23.2   \n",
      "12                 ARCADIS NV      OTC         ARCAF                    173.4   \n",
      "13  Qiao Xing Universal Tele.      OTC          XING                     64.3   \n",
      "14   Energy West Incorporated      OTC          EWST                     29.1   \n",
      "15  Barnwell Industries, Inc.     AMEX           BRN                     27.3   \n",
      "16       Innodata Corporation      OTC          INOD                     66.1   \n",
      "17  Medical Action Industries      OTC          MDCI                    137.1   \n",
      "18      Instrumentarium Corp.      OTC         INMRY                    240.9   \n",
      "19      Petroleum Development      OTC          PETD                     95.9   \n",
      "20   Drexler Technology Corp.      OTC          DRXR                    233.6   \n",
      "21  Gerber Childrenswear Inc.     NYSE           GCW                    126.9   \n",
      "22                Gaiam, Inc.      OTC          GAIA                    295.5   \n",
      "23   Artesian Resources Corp.      OTC         ARTNA                     62.8   \n",
      "24         York Water Company      OTC          YORW                     92.2   \n",
      "\n",
      "    Price/Earnigs Ratio  Groos Margin Profit (%)  \n",
      "0                   8.4                     36.7  \n",
      "1                   6.2                     59.3  \n",
      "2                  14.6                     44.8  \n",
      "3                   7.2                     23.8  \n",
      "4                  38.0                     53.3  \n",
      "5                  33.5                      4.1  \n",
      "6                  35.8                     35.9  \n",
      "7                  26.8                     37.6  \n",
      "8                  18.7                     23.6  \n",
      "9                  15.9                     36.4  \n",
      "10                 18.9                     59.5  \n",
      "11                 20.7                     35.7  \n",
      "12                  8.8                      9.6  \n",
      "13                 22.1                     30.8  \n",
      "14                  9.7                     16.3  \n",
      "15                  7.4                     73.4  \n",
      "16                 11.0                     29.6  \n",
      "17                 26.9                     30.6  \n",
      "18                  3.6                     52.1  \n",
      "19                  6.1                     19.4  \n",
      "20                 45.6                     53.6  \n",
      "21                  7.9                     25.8  \n",
      "22                 68.2                     60.7  \n",
      "23                 20.5                     45.5  \n",
      "24                 22.9                     74.2  \n"
     ]
    },
    {
     "data": {
      "application/vnd.plotly.v1+json": {
       "config": {
        "plotlyServerURL": "https://plot.ly"
       },
       "data": [
        {
         "name": "Frequency",
         "type": "bar",
         "x": [
          "AMEX",
          "OTC",
          "NYSE"
         ],
         "xaxis": "x",
         "y": [
          5,
          17,
          3
         ],
         "yaxis": "y"
        },
        {
         "name": "Percentage Frequency",
         "type": "bar",
         "x": [
          "AMEX%",
          "OTC%",
          "NYSE%"
         ],
         "xaxis": "x",
         "y": [
          20,
          68,
          12
         ],
         "yaxis": "y2"
        }
       ],
       "layout": {
        "barmode": "group",
        "template": {
         "data": {
          "bar": [
           {
            "error_x": {
             "color": "#2a3f5f"
            },
            "error_y": {
             "color": "#2a3f5f"
            },
            "marker": {
             "line": {
              "color": "#E5ECF6",
              "width": 0.5
             }
            },
            "type": "bar"
           }
          ],
          "barpolar": [
           {
            "marker": {
             "line": {
              "color": "#E5ECF6",
              "width": 0.5
             }
            },
            "type": "barpolar"
           }
          ],
          "carpet": [
           {
            "aaxis": {
             "endlinecolor": "#2a3f5f",
             "gridcolor": "white",
             "linecolor": "white",
             "minorgridcolor": "white",
             "startlinecolor": "#2a3f5f"
            },
            "baxis": {
             "endlinecolor": "#2a3f5f",
             "gridcolor": "white",
             "linecolor": "white",
             "minorgridcolor": "white",
             "startlinecolor": "#2a3f5f"
            },
            "type": "carpet"
           }
          ],
          "choropleth": [
           {
            "colorbar": {
             "outlinewidth": 0,
             "ticks": ""
            },
            "type": "choropleth"
           }
          ],
          "contour": [
           {
            "colorbar": {
             "outlinewidth": 0,
             "ticks": ""
            },
            "colorscale": [
             [
              0,
              "#0d0887"
             ],
             [
              0.1111111111111111,
              "#46039f"
             ],
             [
              0.2222222222222222,
              "#7201a8"
             ],
             [
              0.3333333333333333,
              "#9c179e"
             ],
             [
              0.4444444444444444,
              "#bd3786"
             ],
             [
              0.5555555555555556,
              "#d8576b"
             ],
             [
              0.6666666666666666,
              "#ed7953"
             ],
             [
              0.7777777777777778,
              "#fb9f3a"
             ],
             [
              0.8888888888888888,
              "#fdca26"
             ],
             [
              1,
              "#f0f921"
             ]
            ],
            "type": "contour"
           }
          ],
          "contourcarpet": [
           {
            "colorbar": {
             "outlinewidth": 0,
             "ticks": ""
            },
            "type": "contourcarpet"
           }
          ],
          "heatmap": [
           {
            "colorbar": {
             "outlinewidth": 0,
             "ticks": ""
            },
            "colorscale": [
             [
              0,
              "#0d0887"
             ],
             [
              0.1111111111111111,
              "#46039f"
             ],
             [
              0.2222222222222222,
              "#7201a8"
             ],
             [
              0.3333333333333333,
              "#9c179e"
             ],
             [
              0.4444444444444444,
              "#bd3786"
             ],
             [
              0.5555555555555556,
              "#d8576b"
             ],
             [
              0.6666666666666666,
              "#ed7953"
             ],
             [
              0.7777777777777778,
              "#fb9f3a"
             ],
             [
              0.8888888888888888,
              "#fdca26"
             ],
             [
              1,
              "#f0f921"
             ]
            ],
            "type": "heatmap"
           }
          ],
          "heatmapgl": [
           {
            "colorbar": {
             "outlinewidth": 0,
             "ticks": ""
            },
            "colorscale": [
             [
              0,
              "#0d0887"
             ],
             [
              0.1111111111111111,
              "#46039f"
             ],
             [
              0.2222222222222222,
              "#7201a8"
             ],
             [
              0.3333333333333333,
              "#9c179e"
             ],
             [
              0.4444444444444444,
              "#bd3786"
             ],
             [
              0.5555555555555556,
              "#d8576b"
             ],
             [
              0.6666666666666666,
              "#ed7953"
             ],
             [
              0.7777777777777778,
              "#fb9f3a"
             ],
             [
              0.8888888888888888,
              "#fdca26"
             ],
             [
              1,
              "#f0f921"
             ]
            ],
            "type": "heatmapgl"
           }
          ],
          "histogram": [
           {
            "marker": {
             "colorbar": {
              "outlinewidth": 0,
              "ticks": ""
             }
            },
            "type": "histogram"
           }
          ],
          "histogram2d": [
           {
            "colorbar": {
             "outlinewidth": 0,
             "ticks": ""
            },
            "colorscale": [
             [
              0,
              "#0d0887"
             ],
             [
              0.1111111111111111,
              "#46039f"
             ],
             [
              0.2222222222222222,
              "#7201a8"
             ],
             [
              0.3333333333333333,
              "#9c179e"
             ],
             [
              0.4444444444444444,
              "#bd3786"
             ],
             [
              0.5555555555555556,
              "#d8576b"
             ],
             [
              0.6666666666666666,
              "#ed7953"
             ],
             [
              0.7777777777777778,
              "#fb9f3a"
             ],
             [
              0.8888888888888888,
              "#fdca26"
             ],
             [
              1,
              "#f0f921"
             ]
            ],
            "type": "histogram2d"
           }
          ],
          "histogram2dcontour": [
           {
            "colorbar": {
             "outlinewidth": 0,
             "ticks": ""
            },
            "colorscale": [
             [
              0,
              "#0d0887"
             ],
             [
              0.1111111111111111,
              "#46039f"
             ],
             [
              0.2222222222222222,
              "#7201a8"
             ],
             [
              0.3333333333333333,
              "#9c179e"
             ],
             [
              0.4444444444444444,
              "#bd3786"
             ],
             [
              0.5555555555555556,
              "#d8576b"
             ],
             [
              0.6666666666666666,
              "#ed7953"
             ],
             [
              0.7777777777777778,
              "#fb9f3a"
             ],
             [
              0.8888888888888888,
              "#fdca26"
             ],
             [
              1,
              "#f0f921"
             ]
            ],
            "type": "histogram2dcontour"
           }
          ],
          "mesh3d": [
           {
            "colorbar": {
             "outlinewidth": 0,
             "ticks": ""
            },
            "type": "mesh3d"
           }
          ],
          "parcoords": [
           {
            "line": {
             "colorbar": {
              "outlinewidth": 0,
              "ticks": ""
             }
            },
            "type": "parcoords"
           }
          ],
          "pie": [
           {
            "automargin": true,
            "type": "pie"
           }
          ],
          "scatter": [
           {
            "marker": {
             "colorbar": {
              "outlinewidth": 0,
              "ticks": ""
             }
            },
            "type": "scatter"
           }
          ],
          "scatter3d": [
           {
            "line": {
             "colorbar": {
              "outlinewidth": 0,
              "ticks": ""
             }
            },
            "marker": {
             "colorbar": {
              "outlinewidth": 0,
              "ticks": ""
             }
            },
            "type": "scatter3d"
           }
          ],
          "scattercarpet": [
           {
            "marker": {
             "colorbar": {
              "outlinewidth": 0,
              "ticks": ""
             }
            },
            "type": "scattercarpet"
           }
          ],
          "scattergeo": [
           {
            "marker": {
             "colorbar": {
              "outlinewidth": 0,
              "ticks": ""
             }
            },
            "type": "scattergeo"
           }
          ],
          "scattergl": [
           {
            "marker": {
             "colorbar": {
              "outlinewidth": 0,
              "ticks": ""
             }
            },
            "type": "scattergl"
           }
          ],
          "scattermapbox": [
           {
            "marker": {
             "colorbar": {
              "outlinewidth": 0,
              "ticks": ""
             }
            },
            "type": "scattermapbox"
           }
          ],
          "scatterpolar": [
           {
            "marker": {
             "colorbar": {
              "outlinewidth": 0,
              "ticks": ""
             }
            },
            "type": "scatterpolar"
           }
          ],
          "scatterpolargl": [
           {
            "marker": {
             "colorbar": {
              "outlinewidth": 0,
              "ticks": ""
             }
            },
            "type": "scatterpolargl"
           }
          ],
          "scatterternary": [
           {
            "marker": {
             "colorbar": {
              "outlinewidth": 0,
              "ticks": ""
             }
            },
            "type": "scatterternary"
           }
          ],
          "surface": [
           {
            "colorbar": {
             "outlinewidth": 0,
             "ticks": ""
            },
            "colorscale": [
             [
              0,
              "#0d0887"
             ],
             [
              0.1111111111111111,
              "#46039f"
             ],
             [
              0.2222222222222222,
              "#7201a8"
             ],
             [
              0.3333333333333333,
              "#9c179e"
             ],
             [
              0.4444444444444444,
              "#bd3786"
             ],
             [
              0.5555555555555556,
              "#d8576b"
             ],
             [
              0.6666666666666666,
              "#ed7953"
             ],
             [
              0.7777777777777778,
              "#fb9f3a"
             ],
             [
              0.8888888888888888,
              "#fdca26"
             ],
             [
              1,
              "#f0f921"
             ]
            ],
            "type": "surface"
           }
          ],
          "table": [
           {
            "cells": {
             "fill": {
              "color": "#EBF0F8"
             },
             "line": {
              "color": "white"
             }
            },
            "header": {
             "fill": {
              "color": "#C8D4E3"
             },
             "line": {
              "color": "white"
             }
            },
            "type": "table"
           }
          ]
         },
         "layout": {
          "annotationdefaults": {
           "arrowcolor": "#2a3f5f",
           "arrowhead": 0,
           "arrowwidth": 1
          },
          "autotypenumbers": "strict",
          "coloraxis": {
           "colorbar": {
            "outlinewidth": 0,
            "ticks": ""
           }
          },
          "colorscale": {
           "diverging": [
            [
             0,
             "#8e0152"
            ],
            [
             0.1,
             "#c51b7d"
            ],
            [
             0.2,
             "#de77ae"
            ],
            [
             0.3,
             "#f1b6da"
            ],
            [
             0.4,
             "#fde0ef"
            ],
            [
             0.5,
             "#f7f7f7"
            ],
            [
             0.6,
             "#e6f5d0"
            ],
            [
             0.7,
             "#b8e186"
            ],
            [
             0.8,
             "#7fbc41"
            ],
            [
             0.9,
             "#4d9221"
            ],
            [
             1,
             "#276419"
            ]
           ],
           "sequential": [
            [
             0,
             "#0d0887"
            ],
            [
             0.1111111111111111,
             "#46039f"
            ],
            [
             0.2222222222222222,
             "#7201a8"
            ],
            [
             0.3333333333333333,
             "#9c179e"
            ],
            [
             0.4444444444444444,
             "#bd3786"
            ],
            [
             0.5555555555555556,
             "#d8576b"
            ],
            [
             0.6666666666666666,
             "#ed7953"
            ],
            [
             0.7777777777777778,
             "#fb9f3a"
            ],
            [
             0.8888888888888888,
             "#fdca26"
            ],
            [
             1,
             "#f0f921"
            ]
           ],
           "sequentialminus": [
            [
             0,
             "#0d0887"
            ],
            [
             0.1111111111111111,
             "#46039f"
            ],
            [
             0.2222222222222222,
             "#7201a8"
            ],
            [
             0.3333333333333333,
             "#9c179e"
            ],
            [
             0.4444444444444444,
             "#bd3786"
            ],
            [
             0.5555555555555556,
             "#d8576b"
            ],
            [
             0.6666666666666666,
             "#ed7953"
            ],
            [
             0.7777777777777778,
             "#fb9f3a"
            ],
            [
             0.8888888888888888,
             "#fdca26"
            ],
            [
             1,
             "#f0f921"
            ]
           ]
          },
          "colorway": [
           "#636efa",
           "#EF553B",
           "#00cc96",
           "#ab63fa",
           "#FFA15A",
           "#19d3f3",
           "#FF6692",
           "#B6E880",
           "#FF97FF",
           "#FECB52"
          ],
          "font": {
           "color": "#2a3f5f"
          },
          "geo": {
           "bgcolor": "white",
           "lakecolor": "white",
           "landcolor": "#E5ECF6",
           "showlakes": true,
           "showland": true,
           "subunitcolor": "white"
          },
          "hoverlabel": {
           "align": "left"
          },
          "hovermode": "closest",
          "mapbox": {
           "style": "light"
          },
          "paper_bgcolor": "white",
          "plot_bgcolor": "#E5ECF6",
          "polar": {
           "angularaxis": {
            "gridcolor": "white",
            "linecolor": "white",
            "ticks": ""
           },
           "bgcolor": "#E5ECF6",
           "radialaxis": {
            "gridcolor": "white",
            "linecolor": "white",
            "ticks": ""
           }
          },
          "scene": {
           "xaxis": {
            "backgroundcolor": "#E5ECF6",
            "gridcolor": "white",
            "gridwidth": 2,
            "linecolor": "white",
            "showbackground": true,
            "ticks": "",
            "zerolinecolor": "white"
           },
           "yaxis": {
            "backgroundcolor": "#E5ECF6",
            "gridcolor": "white",
            "gridwidth": 2,
            "linecolor": "white",
            "showbackground": true,
            "ticks": "",
            "zerolinecolor": "white"
           },
           "zaxis": {
            "backgroundcolor": "#E5ECF6",
            "gridcolor": "white",
            "gridwidth": 2,
            "linecolor": "white",
            "showbackground": true,
            "ticks": "",
            "zerolinecolor": "white"
           }
          },
          "shapedefaults": {
           "line": {
            "color": "#2a3f5f"
           }
          },
          "ternary": {
           "aaxis": {
            "gridcolor": "white",
            "linecolor": "white",
            "ticks": ""
           },
           "baxis": {
            "gridcolor": "white",
            "linecolor": "white",
            "ticks": ""
           },
           "bgcolor": "#E5ECF6",
           "caxis": {
            "gridcolor": "white",
            "linecolor": "white",
            "ticks": ""
           }
          },
          "title": {
           "x": 0.05
          },
          "xaxis": {
           "automargin": true,
           "gridcolor": "white",
           "linecolor": "white",
           "ticks": "",
           "title": {
            "standoff": 15
           },
           "zerolinecolor": "white",
           "zerolinewidth": 2
          },
          "yaxis": {
           "automargin": true,
           "gridcolor": "white",
           "linecolor": "white",
           "ticks": "",
           "title": {
            "standoff": 15
           },
           "zerolinecolor": "white",
           "zerolinewidth": 2
          }
         }
        },
        "title": {
         "text": "Exchange frequency"
        },
        "xaxis": {
         "anchor": "y",
         "domain": [
          0,
          0.94
         ],
         "title": {
          "text": "Exchange"
         }
        },
        "yaxis": {
         "anchor": "x",
         "domain": [
          0,
          1
         ],
         "title": {
          "text": "Frequency"
         }
        },
        "yaxis2": {
         "anchor": "x",
         "overlaying": "y",
         "side": "right",
         "title": {
          "text": "Frequency percentage"
         }
        }
       }
      },
      "text/html": [
       "<div>                            <div id=\"9b2031cd-0b67-4eb0-8484-4b7a93991d36\" class=\"plotly-graph-div\" style=\"height:525px; width:100%;\"></div>            <script type=\"text/javascript\">                require([\"plotly\"], function(Plotly) {                    window.PLOTLYENV=window.PLOTLYENV || {};                                    if (document.getElementById(\"9b2031cd-0b67-4eb0-8484-4b7a93991d36\")) {                    Plotly.newPlot(                        \"9b2031cd-0b67-4eb0-8484-4b7a93991d36\",                        [{\"name\": \"Frequency\", \"type\": \"bar\", \"x\": [\"AMEX\", \"OTC\", \"NYSE\"], \"xaxis\": \"x\", \"y\": [5, 17, 3], \"yaxis\": \"y\"}, {\"name\": \"Percentage Frequency\", \"type\": \"bar\", \"x\": [\"AMEX%\", \"OTC%\", \"NYSE%\"], \"xaxis\": \"x\", \"y\": [20.0, 68.0, 12.0], \"yaxis\": \"y2\"}],                        {\"barmode\": \"group\", \"template\": {\"data\": {\"bar\": [{\"error_x\": {\"color\": \"#2a3f5f\"}, \"error_y\": {\"color\": \"#2a3f5f\"}, \"marker\": {\"line\": {\"color\": \"#E5ECF6\", \"width\": 0.5}}, \"type\": \"bar\"}], \"barpolar\": [{\"marker\": {\"line\": {\"color\": \"#E5ECF6\", \"width\": 0.5}}, \"type\": \"barpolar\"}], \"carpet\": [{\"aaxis\": {\"endlinecolor\": \"#2a3f5f\", \"gridcolor\": \"white\", \"linecolor\": \"white\", \"minorgridcolor\": \"white\", \"startlinecolor\": \"#2a3f5f\"}, \"baxis\": {\"endlinecolor\": \"#2a3f5f\", \"gridcolor\": \"white\", \"linecolor\": \"white\", \"minorgridcolor\": \"white\", \"startlinecolor\": \"#2a3f5f\"}, \"type\": \"carpet\"}], \"choropleth\": [{\"colorbar\": {\"outlinewidth\": 0, \"ticks\": \"\"}, \"type\": \"choropleth\"}], \"contour\": [{\"colorbar\": {\"outlinewidth\": 0, \"ticks\": \"\"}, \"colorscale\": [[0.0, \"#0d0887\"], [0.1111111111111111, \"#46039f\"], [0.2222222222222222, \"#7201a8\"], [0.3333333333333333, \"#9c179e\"], [0.4444444444444444, \"#bd3786\"], [0.5555555555555556, \"#d8576b\"], [0.6666666666666666, \"#ed7953\"], [0.7777777777777778, \"#fb9f3a\"], [0.8888888888888888, \"#fdca26\"], [1.0, \"#f0f921\"]], \"type\": \"contour\"}], \"contourcarpet\": [{\"colorbar\": {\"outlinewidth\": 0, \"ticks\": \"\"}, \"type\": \"contourcarpet\"}], \"heatmap\": [{\"colorbar\": {\"outlinewidth\": 0, \"ticks\": \"\"}, \"colorscale\": [[0.0, \"#0d0887\"], [0.1111111111111111, \"#46039f\"], [0.2222222222222222, \"#7201a8\"], [0.3333333333333333, \"#9c179e\"], [0.4444444444444444, \"#bd3786\"], [0.5555555555555556, \"#d8576b\"], [0.6666666666666666, \"#ed7953\"], [0.7777777777777778, \"#fb9f3a\"], [0.8888888888888888, \"#fdca26\"], [1.0, \"#f0f921\"]], \"type\": \"heatmap\"}], \"heatmapgl\": [{\"colorbar\": {\"outlinewidth\": 0, \"ticks\": \"\"}, \"colorscale\": [[0.0, \"#0d0887\"], [0.1111111111111111, \"#46039f\"], [0.2222222222222222, \"#7201a8\"], [0.3333333333333333, \"#9c179e\"], [0.4444444444444444, \"#bd3786\"], [0.5555555555555556, \"#d8576b\"], [0.6666666666666666, \"#ed7953\"], [0.7777777777777778, \"#fb9f3a\"], [0.8888888888888888, \"#fdca26\"], [1.0, \"#f0f921\"]], \"type\": \"heatmapgl\"}], \"histogram\": [{\"marker\": {\"colorbar\": {\"outlinewidth\": 0, \"ticks\": \"\"}}, \"type\": \"histogram\"}], \"histogram2d\": [{\"colorbar\": {\"outlinewidth\": 0, \"ticks\": \"\"}, \"colorscale\": [[0.0, \"#0d0887\"], [0.1111111111111111, \"#46039f\"], [0.2222222222222222, \"#7201a8\"], [0.3333333333333333, \"#9c179e\"], [0.4444444444444444, \"#bd3786\"], [0.5555555555555556, \"#d8576b\"], [0.6666666666666666, \"#ed7953\"], [0.7777777777777778, \"#fb9f3a\"], [0.8888888888888888, \"#fdca26\"], [1.0, \"#f0f921\"]], \"type\": \"histogram2d\"}], \"histogram2dcontour\": [{\"colorbar\": {\"outlinewidth\": 0, \"ticks\": \"\"}, \"colorscale\": [[0.0, \"#0d0887\"], [0.1111111111111111, \"#46039f\"], [0.2222222222222222, \"#7201a8\"], [0.3333333333333333, \"#9c179e\"], [0.4444444444444444, \"#bd3786\"], [0.5555555555555556, \"#d8576b\"], [0.6666666666666666, \"#ed7953\"], [0.7777777777777778, \"#fb9f3a\"], [0.8888888888888888, \"#fdca26\"], [1.0, \"#f0f921\"]], \"type\": \"histogram2dcontour\"}], \"mesh3d\": [{\"colorbar\": {\"outlinewidth\": 0, \"ticks\": \"\"}, \"type\": \"mesh3d\"}], \"parcoords\": [{\"line\": {\"colorbar\": {\"outlinewidth\": 0, \"ticks\": \"\"}}, \"type\": \"parcoords\"}], \"pie\": [{\"automargin\": true, \"type\": \"pie\"}], \"scatter\": [{\"marker\": {\"colorbar\": {\"outlinewidth\": 0, \"ticks\": \"\"}}, \"type\": \"scatter\"}], \"scatter3d\": [{\"line\": {\"colorbar\": {\"outlinewidth\": 0, \"ticks\": \"\"}}, \"marker\": {\"colorbar\": {\"outlinewidth\": 0, \"ticks\": \"\"}}, \"type\": \"scatter3d\"}], \"scattercarpet\": [{\"marker\": {\"colorbar\": {\"outlinewidth\": 0, \"ticks\": \"\"}}, \"type\": \"scattercarpet\"}], \"scattergeo\": [{\"marker\": {\"colorbar\": {\"outlinewidth\": 0, \"ticks\": \"\"}}, \"type\": \"scattergeo\"}], \"scattergl\": [{\"marker\": {\"colorbar\": {\"outlinewidth\": 0, \"ticks\": \"\"}}, \"type\": \"scattergl\"}], \"scattermapbox\": [{\"marker\": {\"colorbar\": {\"outlinewidth\": 0, \"ticks\": \"\"}}, \"type\": \"scattermapbox\"}], \"scatterpolar\": [{\"marker\": {\"colorbar\": {\"outlinewidth\": 0, \"ticks\": \"\"}}, \"type\": \"scatterpolar\"}], \"scatterpolargl\": [{\"marker\": {\"colorbar\": {\"outlinewidth\": 0, \"ticks\": \"\"}}, \"type\": \"scatterpolargl\"}], \"scatterternary\": [{\"marker\": {\"colorbar\": {\"outlinewidth\": 0, \"ticks\": \"\"}}, \"type\": \"scatterternary\"}], \"surface\": [{\"colorbar\": {\"outlinewidth\": 0, \"ticks\": \"\"}, \"colorscale\": [[0.0, \"#0d0887\"], [0.1111111111111111, \"#46039f\"], [0.2222222222222222, \"#7201a8\"], [0.3333333333333333, \"#9c179e\"], [0.4444444444444444, \"#bd3786\"], [0.5555555555555556, \"#d8576b\"], [0.6666666666666666, \"#ed7953\"], [0.7777777777777778, \"#fb9f3a\"], [0.8888888888888888, \"#fdca26\"], [1.0, \"#f0f921\"]], \"type\": \"surface\"}], \"table\": [{\"cells\": {\"fill\": {\"color\": \"#EBF0F8\"}, \"line\": {\"color\": \"white\"}}, \"header\": {\"fill\": {\"color\": \"#C8D4E3\"}, \"line\": {\"color\": \"white\"}}, \"type\": \"table\"}]}, \"layout\": {\"annotationdefaults\": {\"arrowcolor\": \"#2a3f5f\", \"arrowhead\": 0, \"arrowwidth\": 1}, \"autotypenumbers\": \"strict\", \"coloraxis\": {\"colorbar\": {\"outlinewidth\": 0, \"ticks\": \"\"}}, \"colorscale\": {\"diverging\": [[0, \"#8e0152\"], [0.1, \"#c51b7d\"], [0.2, \"#de77ae\"], [0.3, \"#f1b6da\"], [0.4, \"#fde0ef\"], [0.5, \"#f7f7f7\"], [0.6, \"#e6f5d0\"], [0.7, \"#b8e186\"], [0.8, \"#7fbc41\"], [0.9, \"#4d9221\"], [1, \"#276419\"]], \"sequential\": [[0.0, \"#0d0887\"], [0.1111111111111111, \"#46039f\"], [0.2222222222222222, \"#7201a8\"], [0.3333333333333333, \"#9c179e\"], [0.4444444444444444, \"#bd3786\"], [0.5555555555555556, \"#d8576b\"], [0.6666666666666666, \"#ed7953\"], [0.7777777777777778, \"#fb9f3a\"], [0.8888888888888888, \"#fdca26\"], [1.0, \"#f0f921\"]], \"sequentialminus\": [[0.0, \"#0d0887\"], [0.1111111111111111, \"#46039f\"], [0.2222222222222222, \"#7201a8\"], [0.3333333333333333, \"#9c179e\"], [0.4444444444444444, \"#bd3786\"], [0.5555555555555556, \"#d8576b\"], [0.6666666666666666, \"#ed7953\"], [0.7777777777777778, \"#fb9f3a\"], [0.8888888888888888, \"#fdca26\"], [1.0, \"#f0f921\"]]}, \"colorway\": [\"#636efa\", \"#EF553B\", \"#00cc96\", \"#ab63fa\", \"#FFA15A\", \"#19d3f3\", \"#FF6692\", \"#B6E880\", \"#FF97FF\", \"#FECB52\"], \"font\": {\"color\": \"#2a3f5f\"}, \"geo\": {\"bgcolor\": \"white\", \"lakecolor\": \"white\", \"landcolor\": \"#E5ECF6\", \"showlakes\": true, \"showland\": true, \"subunitcolor\": \"white\"}, \"hoverlabel\": {\"align\": \"left\"}, \"hovermode\": \"closest\", \"mapbox\": {\"style\": \"light\"}, \"paper_bgcolor\": \"white\", \"plot_bgcolor\": \"#E5ECF6\", \"polar\": {\"angularaxis\": {\"gridcolor\": \"white\", \"linecolor\": \"white\", \"ticks\": \"\"}, \"bgcolor\": \"#E5ECF6\", \"radialaxis\": {\"gridcolor\": \"white\", \"linecolor\": \"white\", \"ticks\": \"\"}}, \"scene\": {\"xaxis\": {\"backgroundcolor\": \"#E5ECF6\", \"gridcolor\": \"white\", \"gridwidth\": 2, \"linecolor\": \"white\", \"showbackground\": true, \"ticks\": \"\", \"zerolinecolor\": \"white\"}, \"yaxis\": {\"backgroundcolor\": \"#E5ECF6\", \"gridcolor\": \"white\", \"gridwidth\": 2, \"linecolor\": \"white\", \"showbackground\": true, \"ticks\": \"\", \"zerolinecolor\": \"white\"}, \"zaxis\": {\"backgroundcolor\": \"#E5ECF6\", \"gridcolor\": \"white\", \"gridwidth\": 2, \"linecolor\": \"white\", \"showbackground\": true, \"ticks\": \"\", \"zerolinecolor\": \"white\"}}, \"shapedefaults\": {\"line\": {\"color\": \"#2a3f5f\"}}, \"ternary\": {\"aaxis\": {\"gridcolor\": \"white\", \"linecolor\": \"white\", \"ticks\": \"\"}, \"baxis\": {\"gridcolor\": \"white\", \"linecolor\": \"white\", \"ticks\": \"\"}, \"bgcolor\": \"#E5ECF6\", \"caxis\": {\"gridcolor\": \"white\", \"linecolor\": \"white\", \"ticks\": \"\"}}, \"title\": {\"x\": 0.05}, \"xaxis\": {\"automargin\": true, \"gridcolor\": \"white\", \"linecolor\": \"white\", \"ticks\": \"\", \"title\": {\"standoff\": 15}, \"zerolinecolor\": \"white\", \"zerolinewidth\": 2}, \"yaxis\": {\"automargin\": true, \"gridcolor\": \"white\", \"linecolor\": \"white\", \"ticks\": \"\", \"title\": {\"standoff\": 15}, \"zerolinecolor\": \"white\", \"zerolinewidth\": 2}}}, \"title\": {\"text\": \"Exchange frequency\"}, \"xaxis\": {\"anchor\": \"y\", \"domain\": [0.0, 0.94], \"title\": {\"text\": \"Exchange\"}}, \"yaxis\": {\"anchor\": \"x\", \"domain\": [0.0, 1.0], \"title\": {\"text\": \"Frequency\"}}, \"yaxis2\": {\"anchor\": \"x\", \"overlaying\": \"y\", \"side\": \"right\", \"title\": {\"text\": \"Frequency percentage\"}}},                        {\"responsive\": true}                    ).then(function(){\n",
       "                            \n",
       "var gd = document.getElementById('9b2031cd-0b67-4eb0-8484-4b7a93991d36');\n",
       "var x = new MutationObserver(function (mutations, observer) {{\n",
       "        var display = window.getComputedStyle(gd).display;\n",
       "        if (!display || display === 'none') {{\n",
       "            console.log([gd, 'removed!']);\n",
       "            Plotly.purge(gd);\n",
       "            observer.disconnect();\n",
       "        }}\n",
       "}});\n",
       "\n",
       "// Listen for the removal of the full notebook cells\n",
       "var notebookContainer = gd.closest('#notebook-container');\n",
       "if (notebookContainer) {{\n",
       "    x.observe(notebookContainer, {childList: true});\n",
       "}}\n",
       "\n",
       "// Listen for the clearing of the current output cell\n",
       "var outputEl = gd.closest('.output');\n",
       "if (outputEl) {{\n",
       "    x.observe(outputEl, {childList: true});\n",
       "}}\n",
       "\n",
       "                        })                };                });            </script>        </div>"
      ]
     },
     "metadata": {},
     "output_type": "display_data"
    },
    {
     "name": "stdout",
     "output_type": "stream",
     "text": [
      "3\n"
     ]
    },
    {
     "data": {
      "application/vnd.plotly.v1+json": {
       "config": {
        "plotlyServerURL": "https://plot.ly"
       },
       "data": [
        {
         "alignmentgroup": "True",
         "hovertemplate": "Gross Profit Margin Interval=%{x}<br>Frequency=%{y}<extra></extra>",
         "legendgroup": "",
         "marker": {
          "color": "#636efa"
         },
         "name": "",
         "offsetgroup": "",
         "orientation": "v",
         "showlegend": false,
         "textposition": "auto",
         "type": "bar",
         "x": [
          "0 - 14.9",
          "15 - 29.9",
          "30 - 44.9",
          "45 - 59.9",
          "> 60"
         ],
         "xaxis": "x",
         "y": [
          2,
          6,
          8,
          6,
          3
         ],
         "yaxis": "y"
        }
       ],
       "layout": {
        "barmode": "relative",
        "legend": {
         "tracegroupgap": 0
        },
        "margin": {
         "t": 60
        },
        "template": {
         "data": {
          "bar": [
           {
            "error_x": {
             "color": "#2a3f5f"
            },
            "error_y": {
             "color": "#2a3f5f"
            },
            "marker": {
             "line": {
              "color": "#E5ECF6",
              "width": 0.5
             }
            },
            "type": "bar"
           }
          ],
          "barpolar": [
           {
            "marker": {
             "line": {
              "color": "#E5ECF6",
              "width": 0.5
             }
            },
            "type": "barpolar"
           }
          ],
          "carpet": [
           {
            "aaxis": {
             "endlinecolor": "#2a3f5f",
             "gridcolor": "white",
             "linecolor": "white",
             "minorgridcolor": "white",
             "startlinecolor": "#2a3f5f"
            },
            "baxis": {
             "endlinecolor": "#2a3f5f",
             "gridcolor": "white",
             "linecolor": "white",
             "minorgridcolor": "white",
             "startlinecolor": "#2a3f5f"
            },
            "type": "carpet"
           }
          ],
          "choropleth": [
           {
            "colorbar": {
             "outlinewidth": 0,
             "ticks": ""
            },
            "type": "choropleth"
           }
          ],
          "contour": [
           {
            "colorbar": {
             "outlinewidth": 0,
             "ticks": ""
            },
            "colorscale": [
             [
              0,
              "#0d0887"
             ],
             [
              0.1111111111111111,
              "#46039f"
             ],
             [
              0.2222222222222222,
              "#7201a8"
             ],
             [
              0.3333333333333333,
              "#9c179e"
             ],
             [
              0.4444444444444444,
              "#bd3786"
             ],
             [
              0.5555555555555556,
              "#d8576b"
             ],
             [
              0.6666666666666666,
              "#ed7953"
             ],
             [
              0.7777777777777778,
              "#fb9f3a"
             ],
             [
              0.8888888888888888,
              "#fdca26"
             ],
             [
              1,
              "#f0f921"
             ]
            ],
            "type": "contour"
           }
          ],
          "contourcarpet": [
           {
            "colorbar": {
             "outlinewidth": 0,
             "ticks": ""
            },
            "type": "contourcarpet"
           }
          ],
          "heatmap": [
           {
            "colorbar": {
             "outlinewidth": 0,
             "ticks": ""
            },
            "colorscale": [
             [
              0,
              "#0d0887"
             ],
             [
              0.1111111111111111,
              "#46039f"
             ],
             [
              0.2222222222222222,
              "#7201a8"
             ],
             [
              0.3333333333333333,
              "#9c179e"
             ],
             [
              0.4444444444444444,
              "#bd3786"
             ],
             [
              0.5555555555555556,
              "#d8576b"
             ],
             [
              0.6666666666666666,
              "#ed7953"
             ],
             [
              0.7777777777777778,
              "#fb9f3a"
             ],
             [
              0.8888888888888888,
              "#fdca26"
             ],
             [
              1,
              "#f0f921"
             ]
            ],
            "type": "heatmap"
           }
          ],
          "heatmapgl": [
           {
            "colorbar": {
             "outlinewidth": 0,
             "ticks": ""
            },
            "colorscale": [
             [
              0,
              "#0d0887"
             ],
             [
              0.1111111111111111,
              "#46039f"
             ],
             [
              0.2222222222222222,
              "#7201a8"
             ],
             [
              0.3333333333333333,
              "#9c179e"
             ],
             [
              0.4444444444444444,
              "#bd3786"
             ],
             [
              0.5555555555555556,
              "#d8576b"
             ],
             [
              0.6666666666666666,
              "#ed7953"
             ],
             [
              0.7777777777777778,
              "#fb9f3a"
             ],
             [
              0.8888888888888888,
              "#fdca26"
             ],
             [
              1,
              "#f0f921"
             ]
            ],
            "type": "heatmapgl"
           }
          ],
          "histogram": [
           {
            "marker": {
             "colorbar": {
              "outlinewidth": 0,
              "ticks": ""
             }
            },
            "type": "histogram"
           }
          ],
          "histogram2d": [
           {
            "colorbar": {
             "outlinewidth": 0,
             "ticks": ""
            },
            "colorscale": [
             [
              0,
              "#0d0887"
             ],
             [
              0.1111111111111111,
              "#46039f"
             ],
             [
              0.2222222222222222,
              "#7201a8"
             ],
             [
              0.3333333333333333,
              "#9c179e"
             ],
             [
              0.4444444444444444,
              "#bd3786"
             ],
             [
              0.5555555555555556,
              "#d8576b"
             ],
             [
              0.6666666666666666,
              "#ed7953"
             ],
             [
              0.7777777777777778,
              "#fb9f3a"
             ],
             [
              0.8888888888888888,
              "#fdca26"
             ],
             [
              1,
              "#f0f921"
             ]
            ],
            "type": "histogram2d"
           }
          ],
          "histogram2dcontour": [
           {
            "colorbar": {
             "outlinewidth": 0,
             "ticks": ""
            },
            "colorscale": [
             [
              0,
              "#0d0887"
             ],
             [
              0.1111111111111111,
              "#46039f"
             ],
             [
              0.2222222222222222,
              "#7201a8"
             ],
             [
              0.3333333333333333,
              "#9c179e"
             ],
             [
              0.4444444444444444,
              "#bd3786"
             ],
             [
              0.5555555555555556,
              "#d8576b"
             ],
             [
              0.6666666666666666,
              "#ed7953"
             ],
             [
              0.7777777777777778,
              "#fb9f3a"
             ],
             [
              0.8888888888888888,
              "#fdca26"
             ],
             [
              1,
              "#f0f921"
             ]
            ],
            "type": "histogram2dcontour"
           }
          ],
          "mesh3d": [
           {
            "colorbar": {
             "outlinewidth": 0,
             "ticks": ""
            },
            "type": "mesh3d"
           }
          ],
          "parcoords": [
           {
            "line": {
             "colorbar": {
              "outlinewidth": 0,
              "ticks": ""
             }
            },
            "type": "parcoords"
           }
          ],
          "pie": [
           {
            "automargin": true,
            "type": "pie"
           }
          ],
          "scatter": [
           {
            "marker": {
             "colorbar": {
              "outlinewidth": 0,
              "ticks": ""
             }
            },
            "type": "scatter"
           }
          ],
          "scatter3d": [
           {
            "line": {
             "colorbar": {
              "outlinewidth": 0,
              "ticks": ""
             }
            },
            "marker": {
             "colorbar": {
              "outlinewidth": 0,
              "ticks": ""
             }
            },
            "type": "scatter3d"
           }
          ],
          "scattercarpet": [
           {
            "marker": {
             "colorbar": {
              "outlinewidth": 0,
              "ticks": ""
             }
            },
            "type": "scattercarpet"
           }
          ],
          "scattergeo": [
           {
            "marker": {
             "colorbar": {
              "outlinewidth": 0,
              "ticks": ""
             }
            },
            "type": "scattergeo"
           }
          ],
          "scattergl": [
           {
            "marker": {
             "colorbar": {
              "outlinewidth": 0,
              "ticks": ""
             }
            },
            "type": "scattergl"
           }
          ],
          "scattermapbox": [
           {
            "marker": {
             "colorbar": {
              "outlinewidth": 0,
              "ticks": ""
             }
            },
            "type": "scattermapbox"
           }
          ],
          "scatterpolar": [
           {
            "marker": {
             "colorbar": {
              "outlinewidth": 0,
              "ticks": ""
             }
            },
            "type": "scatterpolar"
           }
          ],
          "scatterpolargl": [
           {
            "marker": {
             "colorbar": {
              "outlinewidth": 0,
              "ticks": ""
             }
            },
            "type": "scatterpolargl"
           }
          ],
          "scatterternary": [
           {
            "marker": {
             "colorbar": {
              "outlinewidth": 0,
              "ticks": ""
             }
            },
            "type": "scatterternary"
           }
          ],
          "surface": [
           {
            "colorbar": {
             "outlinewidth": 0,
             "ticks": ""
            },
            "colorscale": [
             [
              0,
              "#0d0887"
             ],
             [
              0.1111111111111111,
              "#46039f"
             ],
             [
              0.2222222222222222,
              "#7201a8"
             ],
             [
              0.3333333333333333,
              "#9c179e"
             ],
             [
              0.4444444444444444,
              "#bd3786"
             ],
             [
              0.5555555555555556,
              "#d8576b"
             ],
             [
              0.6666666666666666,
              "#ed7953"
             ],
             [
              0.7777777777777778,
              "#fb9f3a"
             ],
             [
              0.8888888888888888,
              "#fdca26"
             ],
             [
              1,
              "#f0f921"
             ]
            ],
            "type": "surface"
           }
          ],
          "table": [
           {
            "cells": {
             "fill": {
              "color": "#EBF0F8"
             },
             "line": {
              "color": "white"
             }
            },
            "header": {
             "fill": {
              "color": "#C8D4E3"
             },
             "line": {
              "color": "white"
             }
            },
            "type": "table"
           }
          ]
         },
         "layout": {
          "annotationdefaults": {
           "arrowcolor": "#2a3f5f",
           "arrowhead": 0,
           "arrowwidth": 1
          },
          "autotypenumbers": "strict",
          "coloraxis": {
           "colorbar": {
            "outlinewidth": 0,
            "ticks": ""
           }
          },
          "colorscale": {
           "diverging": [
            [
             0,
             "#8e0152"
            ],
            [
             0.1,
             "#c51b7d"
            ],
            [
             0.2,
             "#de77ae"
            ],
            [
             0.3,
             "#f1b6da"
            ],
            [
             0.4,
             "#fde0ef"
            ],
            [
             0.5,
             "#f7f7f7"
            ],
            [
             0.6,
             "#e6f5d0"
            ],
            [
             0.7,
             "#b8e186"
            ],
            [
             0.8,
             "#7fbc41"
            ],
            [
             0.9,
             "#4d9221"
            ],
            [
             1,
             "#276419"
            ]
           ],
           "sequential": [
            [
             0,
             "#0d0887"
            ],
            [
             0.1111111111111111,
             "#46039f"
            ],
            [
             0.2222222222222222,
             "#7201a8"
            ],
            [
             0.3333333333333333,
             "#9c179e"
            ],
            [
             0.4444444444444444,
             "#bd3786"
            ],
            [
             0.5555555555555556,
             "#d8576b"
            ],
            [
             0.6666666666666666,
             "#ed7953"
            ],
            [
             0.7777777777777778,
             "#fb9f3a"
            ],
            [
             0.8888888888888888,
             "#fdca26"
            ],
            [
             1,
             "#f0f921"
            ]
           ],
           "sequentialminus": [
            [
             0,
             "#0d0887"
            ],
            [
             0.1111111111111111,
             "#46039f"
            ],
            [
             0.2222222222222222,
             "#7201a8"
            ],
            [
             0.3333333333333333,
             "#9c179e"
            ],
            [
             0.4444444444444444,
             "#bd3786"
            ],
            [
             0.5555555555555556,
             "#d8576b"
            ],
            [
             0.6666666666666666,
             "#ed7953"
            ],
            [
             0.7777777777777778,
             "#fb9f3a"
            ],
            [
             0.8888888888888888,
             "#fdca26"
            ],
            [
             1,
             "#f0f921"
            ]
           ]
          },
          "colorway": [
           "#636efa",
           "#EF553B",
           "#00cc96",
           "#ab63fa",
           "#FFA15A",
           "#19d3f3",
           "#FF6692",
           "#B6E880",
           "#FF97FF",
           "#FECB52"
          ],
          "font": {
           "color": "#2a3f5f"
          },
          "geo": {
           "bgcolor": "white",
           "lakecolor": "white",
           "landcolor": "#E5ECF6",
           "showlakes": true,
           "showland": true,
           "subunitcolor": "white"
          },
          "hoverlabel": {
           "align": "left"
          },
          "hovermode": "closest",
          "mapbox": {
           "style": "light"
          },
          "paper_bgcolor": "white",
          "plot_bgcolor": "#E5ECF6",
          "polar": {
           "angularaxis": {
            "gridcolor": "white",
            "linecolor": "white",
            "ticks": ""
           },
           "bgcolor": "#E5ECF6",
           "radialaxis": {
            "gridcolor": "white",
            "linecolor": "white",
            "ticks": ""
           }
          },
          "scene": {
           "xaxis": {
            "backgroundcolor": "#E5ECF6",
            "gridcolor": "white",
            "gridwidth": 2,
            "linecolor": "white",
            "showbackground": true,
            "ticks": "",
            "zerolinecolor": "white"
           },
           "yaxis": {
            "backgroundcolor": "#E5ECF6",
            "gridcolor": "white",
            "gridwidth": 2,
            "linecolor": "white",
            "showbackground": true,
            "ticks": "",
            "zerolinecolor": "white"
           },
           "zaxis": {
            "backgroundcolor": "#E5ECF6",
            "gridcolor": "white",
            "gridwidth": 2,
            "linecolor": "white",
            "showbackground": true,
            "ticks": "",
            "zerolinecolor": "white"
           }
          },
          "shapedefaults": {
           "line": {
            "color": "#2a3f5f"
           }
          },
          "ternary": {
           "aaxis": {
            "gridcolor": "white",
            "linecolor": "white",
            "ticks": ""
           },
           "baxis": {
            "gridcolor": "white",
            "linecolor": "white",
            "ticks": ""
           },
           "bgcolor": "#E5ECF6",
           "caxis": {
            "gridcolor": "white",
            "linecolor": "white",
            "ticks": ""
           }
          },
          "title": {
           "x": 0.05
          },
          "xaxis": {
           "automargin": true,
           "gridcolor": "white",
           "linecolor": "white",
           "ticks": "",
           "title": {
            "standoff": 15
           },
           "zerolinecolor": "white",
           "zerolinewidth": 2
          },
          "yaxis": {
           "automargin": true,
           "gridcolor": "white",
           "linecolor": "white",
           "ticks": "",
           "title": {
            "standoff": 15
           },
           "zerolinecolor": "white",
           "zerolinewidth": 2
          }
         }
        },
        "xaxis": {
         "anchor": "y",
         "domain": [
          0,
          1
         ],
         "title": {
          "text": "Gross Profit Margin Interval"
         }
        },
        "yaxis": {
         "anchor": "x",
         "domain": [
          0,
          1
         ],
         "title": {
          "text": "Frequency"
         }
        }
       }
      },
      "text/html": [
       "<div>                            <div id=\"41563918-1a2b-4dbc-b7f4-77e9b87746e7\" class=\"plotly-graph-div\" style=\"height:525px; width:100%;\"></div>            <script type=\"text/javascript\">                require([\"plotly\"], function(Plotly) {                    window.PLOTLYENV=window.PLOTLYENV || {};                                    if (document.getElementById(\"41563918-1a2b-4dbc-b7f4-77e9b87746e7\")) {                    Plotly.newPlot(                        \"41563918-1a2b-4dbc-b7f4-77e9b87746e7\",                        [{\"alignmentgroup\": \"True\", \"hovertemplate\": \"Gross Profit Margin Interval=%{x}<br>Frequency=%{y}<extra></extra>\", \"legendgroup\": \"\", \"marker\": {\"color\": \"#636efa\"}, \"name\": \"\", \"offsetgroup\": \"\", \"orientation\": \"v\", \"showlegend\": false, \"textposition\": \"auto\", \"type\": \"bar\", \"x\": [\"0 - 14.9\", \"15 - 29.9\", \"30 - 44.9\", \"45 - 59.9\", \"> 60\"], \"xaxis\": \"x\", \"y\": [2, 6, 8, 6, 3], \"yaxis\": \"y\"}],                        {\"barmode\": \"relative\", \"legend\": {\"tracegroupgap\": 0}, \"margin\": {\"t\": 60}, \"template\": {\"data\": {\"bar\": [{\"error_x\": {\"color\": \"#2a3f5f\"}, \"error_y\": {\"color\": \"#2a3f5f\"}, \"marker\": {\"line\": {\"color\": \"#E5ECF6\", \"width\": 0.5}}, \"type\": \"bar\"}], \"barpolar\": [{\"marker\": {\"line\": {\"color\": \"#E5ECF6\", \"width\": 0.5}}, \"type\": \"barpolar\"}], \"carpet\": [{\"aaxis\": {\"endlinecolor\": \"#2a3f5f\", \"gridcolor\": \"white\", \"linecolor\": \"white\", \"minorgridcolor\": \"white\", \"startlinecolor\": \"#2a3f5f\"}, \"baxis\": {\"endlinecolor\": \"#2a3f5f\", \"gridcolor\": \"white\", \"linecolor\": \"white\", \"minorgridcolor\": \"white\", \"startlinecolor\": \"#2a3f5f\"}, \"type\": \"carpet\"}], \"choropleth\": [{\"colorbar\": {\"outlinewidth\": 0, \"ticks\": \"\"}, \"type\": \"choropleth\"}], \"contour\": [{\"colorbar\": {\"outlinewidth\": 0, \"ticks\": \"\"}, \"colorscale\": [[0.0, \"#0d0887\"], [0.1111111111111111, \"#46039f\"], [0.2222222222222222, \"#7201a8\"], [0.3333333333333333, \"#9c179e\"], [0.4444444444444444, \"#bd3786\"], [0.5555555555555556, \"#d8576b\"], [0.6666666666666666, \"#ed7953\"], [0.7777777777777778, \"#fb9f3a\"], [0.8888888888888888, \"#fdca26\"], [1.0, \"#f0f921\"]], \"type\": \"contour\"}], \"contourcarpet\": [{\"colorbar\": {\"outlinewidth\": 0, \"ticks\": \"\"}, \"type\": \"contourcarpet\"}], \"heatmap\": [{\"colorbar\": {\"outlinewidth\": 0, \"ticks\": \"\"}, \"colorscale\": [[0.0, \"#0d0887\"], [0.1111111111111111, \"#46039f\"], [0.2222222222222222, \"#7201a8\"], [0.3333333333333333, \"#9c179e\"], [0.4444444444444444, \"#bd3786\"], [0.5555555555555556, \"#d8576b\"], [0.6666666666666666, \"#ed7953\"], [0.7777777777777778, \"#fb9f3a\"], [0.8888888888888888, \"#fdca26\"], [1.0, \"#f0f921\"]], \"type\": \"heatmap\"}], \"heatmapgl\": [{\"colorbar\": {\"outlinewidth\": 0, \"ticks\": \"\"}, \"colorscale\": [[0.0, \"#0d0887\"], [0.1111111111111111, \"#46039f\"], [0.2222222222222222, \"#7201a8\"], [0.3333333333333333, \"#9c179e\"], [0.4444444444444444, \"#bd3786\"], [0.5555555555555556, \"#d8576b\"], [0.6666666666666666, \"#ed7953\"], [0.7777777777777778, \"#fb9f3a\"], [0.8888888888888888, \"#fdca26\"], [1.0, \"#f0f921\"]], \"type\": \"heatmapgl\"}], \"histogram\": [{\"marker\": {\"colorbar\": {\"outlinewidth\": 0, \"ticks\": \"\"}}, \"type\": \"histogram\"}], \"histogram2d\": [{\"colorbar\": {\"outlinewidth\": 0, \"ticks\": \"\"}, \"colorscale\": [[0.0, \"#0d0887\"], [0.1111111111111111, \"#46039f\"], [0.2222222222222222, \"#7201a8\"], [0.3333333333333333, \"#9c179e\"], [0.4444444444444444, \"#bd3786\"], [0.5555555555555556, \"#d8576b\"], [0.6666666666666666, \"#ed7953\"], [0.7777777777777778, \"#fb9f3a\"], [0.8888888888888888, \"#fdca26\"], [1.0, \"#f0f921\"]], \"type\": \"histogram2d\"}], \"histogram2dcontour\": [{\"colorbar\": {\"outlinewidth\": 0, \"ticks\": \"\"}, \"colorscale\": [[0.0, \"#0d0887\"], [0.1111111111111111, \"#46039f\"], [0.2222222222222222, \"#7201a8\"], [0.3333333333333333, \"#9c179e\"], [0.4444444444444444, \"#bd3786\"], [0.5555555555555556, \"#d8576b\"], [0.6666666666666666, \"#ed7953\"], [0.7777777777777778, \"#fb9f3a\"], [0.8888888888888888, \"#fdca26\"], [1.0, \"#f0f921\"]], \"type\": \"histogram2dcontour\"}], \"mesh3d\": [{\"colorbar\": {\"outlinewidth\": 0, \"ticks\": \"\"}, \"type\": \"mesh3d\"}], \"parcoords\": [{\"line\": {\"colorbar\": {\"outlinewidth\": 0, \"ticks\": \"\"}}, \"type\": \"parcoords\"}], \"pie\": [{\"automargin\": true, \"type\": \"pie\"}], \"scatter\": [{\"marker\": {\"colorbar\": {\"outlinewidth\": 0, \"ticks\": \"\"}}, \"type\": \"scatter\"}], \"scatter3d\": [{\"line\": {\"colorbar\": {\"outlinewidth\": 0, \"ticks\": \"\"}}, \"marker\": {\"colorbar\": {\"outlinewidth\": 0, \"ticks\": \"\"}}, \"type\": \"scatter3d\"}], \"scattercarpet\": [{\"marker\": {\"colorbar\": {\"outlinewidth\": 0, \"ticks\": \"\"}}, \"type\": \"scattercarpet\"}], \"scattergeo\": [{\"marker\": {\"colorbar\": {\"outlinewidth\": 0, \"ticks\": \"\"}}, \"type\": \"scattergeo\"}], \"scattergl\": [{\"marker\": {\"colorbar\": {\"outlinewidth\": 0, \"ticks\": \"\"}}, \"type\": \"scattergl\"}], \"scattermapbox\": [{\"marker\": {\"colorbar\": {\"outlinewidth\": 0, \"ticks\": \"\"}}, \"type\": \"scattermapbox\"}], \"scatterpolar\": [{\"marker\": {\"colorbar\": {\"outlinewidth\": 0, \"ticks\": \"\"}}, \"type\": \"scatterpolar\"}], \"scatterpolargl\": [{\"marker\": {\"colorbar\": {\"outlinewidth\": 0, \"ticks\": \"\"}}, \"type\": \"scatterpolargl\"}], \"scatterternary\": [{\"marker\": {\"colorbar\": {\"outlinewidth\": 0, \"ticks\": \"\"}}, \"type\": \"scatterternary\"}], \"surface\": [{\"colorbar\": {\"outlinewidth\": 0, \"ticks\": \"\"}, \"colorscale\": [[0.0, \"#0d0887\"], [0.1111111111111111, \"#46039f\"], [0.2222222222222222, \"#7201a8\"], [0.3333333333333333, \"#9c179e\"], [0.4444444444444444, \"#bd3786\"], [0.5555555555555556, \"#d8576b\"], [0.6666666666666666, \"#ed7953\"], [0.7777777777777778, \"#fb9f3a\"], [0.8888888888888888, \"#fdca26\"], [1.0, \"#f0f921\"]], \"type\": \"surface\"}], \"table\": [{\"cells\": {\"fill\": {\"color\": \"#EBF0F8\"}, \"line\": {\"color\": \"white\"}}, \"header\": {\"fill\": {\"color\": \"#C8D4E3\"}, \"line\": {\"color\": \"white\"}}, \"type\": \"table\"}]}, \"layout\": {\"annotationdefaults\": {\"arrowcolor\": \"#2a3f5f\", \"arrowhead\": 0, \"arrowwidth\": 1}, \"autotypenumbers\": \"strict\", \"coloraxis\": {\"colorbar\": {\"outlinewidth\": 0, \"ticks\": \"\"}}, \"colorscale\": {\"diverging\": [[0, \"#8e0152\"], [0.1, \"#c51b7d\"], [0.2, \"#de77ae\"], [0.3, \"#f1b6da\"], [0.4, \"#fde0ef\"], [0.5, \"#f7f7f7\"], [0.6, \"#e6f5d0\"], [0.7, \"#b8e186\"], [0.8, \"#7fbc41\"], [0.9, \"#4d9221\"], [1, \"#276419\"]], \"sequential\": [[0.0, \"#0d0887\"], [0.1111111111111111, \"#46039f\"], [0.2222222222222222, \"#7201a8\"], [0.3333333333333333, \"#9c179e\"], [0.4444444444444444, \"#bd3786\"], [0.5555555555555556, \"#d8576b\"], [0.6666666666666666, \"#ed7953\"], [0.7777777777777778, \"#fb9f3a\"], [0.8888888888888888, \"#fdca26\"], [1.0, \"#f0f921\"]], \"sequentialminus\": [[0.0, \"#0d0887\"], [0.1111111111111111, \"#46039f\"], [0.2222222222222222, \"#7201a8\"], [0.3333333333333333, \"#9c179e\"], [0.4444444444444444, \"#bd3786\"], [0.5555555555555556, \"#d8576b\"], [0.6666666666666666, \"#ed7953\"], [0.7777777777777778, \"#fb9f3a\"], [0.8888888888888888, \"#fdca26\"], [1.0, \"#f0f921\"]]}, \"colorway\": [\"#636efa\", \"#EF553B\", \"#00cc96\", \"#ab63fa\", \"#FFA15A\", \"#19d3f3\", \"#FF6692\", \"#B6E880\", \"#FF97FF\", \"#FECB52\"], \"font\": {\"color\": \"#2a3f5f\"}, \"geo\": {\"bgcolor\": \"white\", \"lakecolor\": \"white\", \"landcolor\": \"#E5ECF6\", \"showlakes\": true, \"showland\": true, \"subunitcolor\": \"white\"}, \"hoverlabel\": {\"align\": \"left\"}, \"hovermode\": \"closest\", \"mapbox\": {\"style\": \"light\"}, \"paper_bgcolor\": \"white\", \"plot_bgcolor\": \"#E5ECF6\", \"polar\": {\"angularaxis\": {\"gridcolor\": \"white\", \"linecolor\": \"white\", \"ticks\": \"\"}, \"bgcolor\": \"#E5ECF6\", \"radialaxis\": {\"gridcolor\": \"white\", \"linecolor\": \"white\", \"ticks\": \"\"}}, \"scene\": {\"xaxis\": {\"backgroundcolor\": \"#E5ECF6\", \"gridcolor\": \"white\", \"gridwidth\": 2, \"linecolor\": \"white\", \"showbackground\": true, \"ticks\": \"\", \"zerolinecolor\": \"white\"}, \"yaxis\": {\"backgroundcolor\": \"#E5ECF6\", \"gridcolor\": \"white\", \"gridwidth\": 2, \"linecolor\": \"white\", \"showbackground\": true, \"ticks\": \"\", \"zerolinecolor\": \"white\"}, \"zaxis\": {\"backgroundcolor\": \"#E5ECF6\", \"gridcolor\": \"white\", \"gridwidth\": 2, \"linecolor\": \"white\", \"showbackground\": true, \"ticks\": \"\", \"zerolinecolor\": \"white\"}}, \"shapedefaults\": {\"line\": {\"color\": \"#2a3f5f\"}}, \"ternary\": {\"aaxis\": {\"gridcolor\": \"white\", \"linecolor\": \"white\", \"ticks\": \"\"}, \"baxis\": {\"gridcolor\": \"white\", \"linecolor\": \"white\", \"ticks\": \"\"}, \"bgcolor\": \"#E5ECF6\", \"caxis\": {\"gridcolor\": \"white\", \"linecolor\": \"white\", \"ticks\": \"\"}}, \"title\": {\"x\": 0.05}, \"xaxis\": {\"automargin\": true, \"gridcolor\": \"white\", \"linecolor\": \"white\", \"ticks\": \"\", \"title\": {\"standoff\": 15}, \"zerolinecolor\": \"white\", \"zerolinewidth\": 2}, \"yaxis\": {\"automargin\": true, \"gridcolor\": \"white\", \"linecolor\": \"white\", \"ticks\": \"\", \"title\": {\"standoff\": 15}, \"zerolinecolor\": \"white\", \"zerolinewidth\": 2}}}, \"xaxis\": {\"anchor\": \"y\", \"domain\": [0.0, 1.0], \"title\": {\"text\": \"Gross Profit Margin Interval\"}}, \"yaxis\": {\"anchor\": \"x\", \"domain\": [0.0, 1.0], \"title\": {\"text\": \"Frequency\"}}},                        {\"responsive\": true}                    ).then(function(){\n",
       "                            \n",
       "var gd = document.getElementById('41563918-1a2b-4dbc-b7f4-77e9b87746e7');\n",
       "var x = new MutationObserver(function (mutations, observer) {{\n",
       "        var display = window.getComputedStyle(gd).display;\n",
       "        if (!display || display === 'none') {{\n",
       "            console.log([gd, 'removed!']);\n",
       "            Plotly.purge(gd);\n",
       "            observer.disconnect();\n",
       "        }}\n",
       "}});\n",
       "\n",
       "// Listen for the removal of the full notebook cells\n",
       "var notebookContainer = gd.closest('#notebook-container');\n",
       "if (notebookContainer) {{\n",
       "    x.observe(notebookContainer, {childList: true});\n",
       "}}\n",
       "\n",
       "// Listen for the clearing of the current output cell\n",
       "var outputEl = gd.closest('.output');\n",
       "if (outputEl) {{\n",
       "    x.observe(outputEl, {childList: true});\n",
       "}}\n",
       "\n",
       "                        })                };                });            </script>        </div>"
      ]
     },
     "metadata": {},
     "output_type": "display_data"
    },
    {
     "name": "stdout",
     "output_type": "stream",
     "text": [
      "\n",
      "The avereage Price/Earnig Ratio is:  20.215999999999998\n"
     ]
    }
   ],
   "source": [
    "# 25.\n",
    "import plotly.graph_objects as go\n",
    "from plotly.subplots import make_subplots\n",
    "shadow_stocks = {\"Company\": ['DeWolfe Companies', 'North Coast Energy', 'Hansen Natural Corp.', 'MarineMax, Inc.', \n",
    "                            'Nanometrics Incorporated', 'TeamStaff, Inc.', 'Enviromental Tectonics', \n",
    "                            'Measureament Specialties', 'SEMCO Energy, Inc.', 'Party City Corporation', 'Embrex, Inc.', \n",
    "                            'Tech/Ops Sevcon, Inc.', 'ARCADIS NV', 'Qiao Xing Universal Tele.', 'Energy West Incorporated', \n",
    "                            'Barnwell Industries, Inc.', 'Innodata Corporation', 'Medical Action Industries', 'Instrumentarium Corp.', \n",
    "                            'Petroleum Development', 'Drexler Technology Corp.', 'Gerber Childrenswear Inc.', 'Gaiam, Inc.', \n",
    "                            'Artesian Resources Corp.', 'York Water Company'], \n",
    "                \"Exchange\": ['AMEX', 'OTC', 'OTC', 'NYSE', 'OTC', 'OTC', 'AMEX', 'AMEX', 'NYSE', 'OTC', \n",
    "                             'OTC', 'AMEX', 'OTC', 'OTC', 'OTC', 'AMEX', 'OTC', 'OTC', 'OTC', 'OTC', \n",
    "                             'OTC', 'NYSE', 'OTC', 'OTC', 'OTC'], \n",
    "                \"Ticker Symbol\":['DWL', 'NCEB', 'HANS', 'HZO', 'NANO', 'TSTF', 'ETC', 'MSS', 'SEN', 'PCTY', \n",
    "                                 'EMBX', 'TO', 'ARCAF', 'XING', 'EWST', 'BRN', 'INOD', 'MDCI', 'INMRY', 'PETD', \n",
    "                                 'DRXR', 'GCW', 'GAIA', 'ARTNA', 'YORW'], \n",
    "                \"Market Cap ($ millions)\":[36.4, 52.5, 41.1, 111.5, 228.6, 92.1, 51.1, 101.8, 193.4, 97.2, \n",
    "                                           136.5, 23.2, 173.4, 64.3, 29.1, 27.3, 66.1, 137.1, 240.9, 95.9, \n",
    "                                           233.6, 126.9, 295.5, 62.8, 92.2], \n",
    "                \"Price/Earnigs Ratio\":[8.4, 6.2, 14.6, 7.2, 38.0, 33.5, 35.8, 26.8, 18.7, 15.9, 18.9, 20.7, \n",
    "                                        8.8, 22.1, 9.7, 7.4, 11.0, 26.9, 3.6, 6.1, 45.6, 7.9, 68.2, 20.5, \n",
    "                                        22.9], \n",
    "                \"Groos Margin Profit (%)\":[36.7, 59.3, 44.8, 23.8, 53.3, 4.1, 35.9, 37.6, 23.6, 36.4, 59.5, \n",
    "                                           35.7, 9.6, 30.8, 16.3, 73.4, 29.6, 30.6, 52.1, 19.4, 53.6, 25.8, \n",
    "                                           60.7, 45.5, 74.2]\n",
    "                }\n",
    "df_shadow_stocks = pd.DataFrame(shadow_stocks)\n",
    "print(df_shadow_stocks)\n",
    "# A)\n",
    "\"\"\"This data set has 6 variables\"\"\"\n",
    "# B)\n",
    "\"\"\"Company, Exchange and Ticker Symbol are categorical, MArket cap, Price/Earnigs Ratio and Groos Margin Profit\n",
    "are quantitative\"\"\"\n",
    "# C)\n",
    "\"\"\"Setting up data\"\"\"\n",
    "amex_frequency= (df_shadow_stocks['Exchange'] == 'AMEX').sum()\n",
    "otc_frequency = (df_shadow_stocks['Exchange'] == 'OTC').sum()\n",
    "nyse_frequency = (df_shadow_stocks['Exchange'] == 'NYSE').sum()\n",
    "amex_perc_frequency = (amex_frequency/25)*100\n",
    "otc_perc_frequency = (otc_frequency/25)*100\n",
    "nyse_perc_frequency = (nyse_frequency/25)*100\n",
    "\n",
    "\"\"\"Building graph\"\"\"\n",
    "\n",
    "\n",
    "fig1 = make_subplots(specs=[[{'secondary_y': True}]])\n",
    "\n",
    "fig1.add_trace(\n",
    "    go.Bar(x=['AMEX', 'OTC', 'NYSE'], \n",
    "          y=[amex_frequency, otc_frequency, nyse_frequency], \n",
    "          name='Frequency'), \n",
    "          secondary_y=False\n",
    ")\n",
    "\n",
    "fig1.add_trace(\n",
    "    go.Bar(x=['AMEX%', 'OTC%', 'NYSE%'], \n",
    "          y=[amex_perc_frequency, otc_perc_frequency, nyse_perc_frequency], \n",
    "          name='Percentage Frequency'), \n",
    "          secondary_y=True\n",
    ")\n",
    "\n",
    "fig1.update_layout(title_text='Exchange frequency', barmode='group')\n",
    "\n",
    "fig1.update_xaxes(title_text='Exchange')\n",
    "\n",
    "fig1.update_yaxes(title_text=\"Frequency\", secondary_y=False)\n",
    "fig1.update_yaxes(title_text=\"Frequency percentage\", secondary_y=True)\n",
    "\n",
    "fig1.show()\n",
    "# D)\n",
    "\"\"\"Setup data\"\"\"\n",
    "interval_1 = (df_shadow_stocks['Groos Margin Profit (%)'] <= 14.9).sum()\n",
    "interval_2 = ((df_shadow_stocks['Groos Margin Profit (%)'] >= 15) & (df_shadow_stocks['Groos Margin Profit (%)'] <= 29.9)).sum()\n",
    "interval_3 = ((df_shadow_stocks['Groos Margin Profit (%)'] >= 30) & (df_shadow_stocks['Groos Margin Profit (%)'] <= 44.9)).sum()\n",
    "interval_4 = ((df_shadow_stocks['Groos Margin Profit (%)'] >= 45) & (df_shadow_stocks['Groos Margin Profit (%)'] <= 59.9)).sum()\n",
    "interval_5 = (df_shadow_stocks['Groos Margin Profit (%)'] >= 60).sum()\n",
    "print(interval_5)\n",
    "\n",
    "\"\"\"Building graph\"\"\"\n",
    "\n",
    "fig2 = px.bar(x=['0 - 14.9', '15 - 29.9', '30 - 44.9', '45 - 59.9', '> 60'], \n",
    "             y=[interval_1, interval_2, interval_3, interval_4, interval_5], \n",
    "             labels={'x':'Gross Profit Margin Interval', 'y':'Frequency'}\n",
    ")\n",
    "\n",
    "fig2.show()\n",
    "\n",
    "# E)\n",
    "print(\"\\nThe avereage Price/Earnig Ratio is: \", df_shadow_stocks['Price/Earnigs Ratio'].mean())"
   ]
  },
  {
   "cell_type": "code",
   "execution_count": null,
   "metadata": {},
   "outputs": [],
   "source": []
  }
 ],
 "metadata": {
  "kernelspec": {
   "display_name": "Python 3",
   "language": "python",
   "name": "python3"
  },
  "language_info": {
   "codemirror_mode": {
    "name": "ipython",
    "version": 3
   },
   "file_extension": ".py",
   "mimetype": "text/x-python",
   "name": "python",
   "nbconvert_exporter": "python",
   "pygments_lexer": "ipython3",
   "version": "3.8.5"
  }
 },
 "nbformat": 4,
 "nbformat_minor": 4
}
